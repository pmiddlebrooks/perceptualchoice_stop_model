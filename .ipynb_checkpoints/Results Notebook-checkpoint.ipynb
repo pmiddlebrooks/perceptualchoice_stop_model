{
 "cells": [
  {
   "cell_type": "markdown",
   "metadata": {},
   "source": [
    "# Notes and Results for Perceptual Choice Stop Model experiments\n",
    "---------"
   ]
  },
  {
   "cell_type": "markdown",
   "metadata": {},
   "source": [
    "----\n",
    "## 2015-12-23-1100: Fits of B's GO trials\n",
    "---"
   ]
  },
  {
   "cell_type": "markdown",
   "metadata": {},
   "source": [
    "----\n",
    "## 2016-01-08-1245: Parameter recovery for B's GO trials\n",
    "---"
   ]
  },
  {
   "cell_type": "markdown",
   "metadata": {},
   "source": [
    "----\n",
    "## 2016-01-26-1300 (beginning of real-time note-taking): Fitting Xena's GO trial data\n",
    "---"
   ]
  },
  {
   "cell_type": "markdown",
   "metadata": {},
   "source": [
    "#### 2016-02-03"
   ]
  },
  {
   "cell_type": "markdown",
   "metadata": {},
   "source": [
    "I observed the fits to Xena's GO trial data, and wasn't satisfied. Accuracy fit pretty well, but the RTs were perdicted much longer than those observed.\n",
    "\n",
    "I observed the best fitting parameters, and found they were far off my initialized estimates (the ones I tweak by hand prior to automatic fits). Compared to my hand-tweaked parameters, the fit parameters' drift rates were much higher and the span from initial to threshold was much higher. \n",
    "\n",
    "This made me wonder about the noise in the system. I noted extrinsic noise is set to 1 (and is fixed when fitting, to else the model wouldn't converge).\n",
    "\n",
    "Using my original hand-tweaked parameters, I altered extrinsic noise. The chi-square values immediately improved. So I tried different extrinsic noise values, and found _se_ = 0.5 resulted in the lowest chi-square value.\n",
    "\n",
    "I will run another round of fits to determine whether I can fit the data satisfactorily.\n",
    "\n",
    "I will also revisit Broca's GO trial fits to see whether tweaking _se_ results in better fits"
   ]
  },
  {
   "cell_type": "markdown",
   "metadata": {},
   "source": [
    "---\n",
    "## 2016-02-03-1400: Fitting Xena's GO trial data using adjusted (more optimal) _se_\n",
    "----"
   ]
  },
  {
   "cell_type": "markdown",
   "metadata": {},
   "source": [
    "#### 2016-02-03"
   ]
  },
  {
   "cell_type": "markdown",
   "metadata": {},
   "source": [
    "I changed all _se_ values to 0.5, and tweaked the other parameters by hand to find decent initial parameters. \n",
    "This improved initial parameter fits for the race version, but made li and ffi versions worse. I'm hoping the automatic fitting will compensate for li and ffi.\n",
    "\n",
    "I ended by running the randomized automatic search for initial parameter values."
   ]
  },
  {
   "cell_type": "markdown",
   "metadata": {},
   "source": [
    "#### 2016-02-04"
   ]
  },
  {
   "cell_type": "markdown",
   "metadata": {},
   "source": [
    "I ran model fits on all go architectures and parameter variations.\n",
    "\n",
    "The chi-2 values were better with external noise set to 0.5, but the fits still don't look great. \n",
    "\n",
    "I will prepare images of the fits and details of the models to present in CCM. Editing my plot_fits.m function to allow saving the plots and plotting specific conditions/response directions.\n",
    "\n",
    "In the meantime, I will also test Broca's fit potentials with a lower external noise, since all his past fits were performed with _se_ = 1.\n"
   ]
  },
  {
   "cell_type": "code",
   "execution_count": null,
   "metadata": {
    "collapsed": true
   },
   "outputs": [],
   "source": [
    "#### 2016-02-18"
   ]
  },
  {
   "cell_type": "markdown",
   "metadata": {},
   "source": [
    "In plot_fits.m, coded the ability to plot distinct accuracy and response side data/model fits in plot_fits.m\n"
   ]
  },
  {
   "cell_type": "code",
   "execution_count": null,
   "metadata": {
    "collapsed": true
   },
   "outputs": [],
   "source": [
    "#### 2016-02-19"
   ]
  },
  {
   "cell_type": "markdown",
   "metadata": {},
   "source": [
    "Preparing presentation for modeling meeting. \n",
    "Updated this notebook. Filled in backlog of experiments (see above) from 12/23/15, 01/08/16, 1/26/16."
   ]
  }
 ],
 "metadata": {
  "kernelspec": {
   "display_name": "Python 2",
   "language": "python",
   "name": "python2"
  },
  "language_info": {
   "codemirror_mode": {
    "name": "ipython",
    "version": 2
   },
   "file_extension": ".py",
   "mimetype": "text/x-python",
   "name": "python",
   "nbconvert_exporter": "python",
   "pygments_lexer": "ipython2",
   "version": "2.7.10"
  }
 },
 "nbformat": 4,
 "nbformat_minor": 0
}
