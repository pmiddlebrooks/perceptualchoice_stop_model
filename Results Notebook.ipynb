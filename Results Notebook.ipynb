{
 "cells": [
  {
   "cell_type": "markdown",
   "metadata": {},
   "source": [
    "# Notes and Results for Perceptual Choice Stop Model experiments\n",
    "---------"
   ]
  },
  {
   "cell_type": "markdown",
   "metadata": {},
   "source": [
    "----\n",
    "## 2015-12-23-1100: Fit B's GO trials\n",
    "---"
   ]
  },
  {
   "cell_type": "markdown",
   "metadata": {},
   "source": [
    "----\n",
    "## 2016-01-08-1245: Parameter recovery for B's GO trials\n",
    "---"
   ]
  },
  {
   "cell_type": "markdown",
   "metadata": {},
   "source": [
    "----\n",
    "## 2016-01-26-1300 (beginning of real-time note-taking): Fit Xena's GO trial data\n",
    "---"
   ]
  },
  {
   "cell_type": "markdown",
   "metadata": {},
   "source": [
    "#### 2016-02-03"
   ]
  },
  {
   "cell_type": "markdown",
   "metadata": {},
   "source": [
    "I observed the fits to Xena's GO trial data, and wasn't satisfied. Accuracy fit pretty well, but the RTs were perdicted much longer than those observed.\n",
    "\n",
    "I observed the best fitting parameters, and found they were far off my initialized estimates (the ones I tweak by hand prior to automatic fits). Compared to my hand-tweaked parameters, the fit parameters' drift rates were much higher and the span from initial to threshold was much higher. \n",
    "\n",
    "This made me wonder about the noise in the system. I noted extrinsic noise is set to 1 (and is fixed when fitting, to else the model wouldn't converge).\n",
    "\n",
    "Using my original hand-tweaked parameters, I altered extrinsic noise. The chi-square values immediately improved. So I tried different intrinsic noise values, and found _si_ = 0.5 resulted in the lowest chi-square value.\n",
    "\n",
    "I will run another round of fits to determine whether I can fit the data satisfactorily.\n",
    "\n",
    "I will also revisit Broca's GO trial fits to see whether tweaking _si_ results in better fits"
   ]
  },
  {
   "cell_type": "markdown",
   "metadata": {},
   "source": [
    "---\n",
    "## 2016-02-03-1400: Fitting Xena's GO trial data using adjusted (more optimal) _si_\n",
    "----"
   ]
  },
  {
   "cell_type": "markdown",
   "metadata": {},
   "source": [
    "#### 2016-02-03"
   ]
  },
  {
   "cell_type": "markdown",
   "metadata": {},
   "source": [
    "I changed all _si_ values to 0.5, and tweaked the other parameters by hand to find decent initial parameters. \n",
    "This improved initial parameter fits for the race version, but made li and ffi versions worse. I'm hoping the automatic fitting will compensate for li and ffi.\n",
    "\n",
    "I ended by running the randomized automatic search for initial parameter values."
   ]
  },
  {
   "cell_type": "markdown",
   "metadata": {},
   "source": [
    "#### 2016-02-04"
   ]
  },
  {
   "cell_type": "markdown",
   "metadata": {},
   "source": [
    "I ran model fits on all go architectures and parameter variations.\n",
    "\n",
    "The chi-2 values were better with internal noise set to 0.5, but the fits still don't look great. \n",
    "\n",
    "I will prepare images of the fits and details of the models to present in CCM. Editing my plot_fits.m function to allow saving the plots and plotting specific conditions/response directions.\n",
    "\n",
    "In the meantime, I will also test Broca's fit potentials with a lower internal noise, since all his past fits were performed with _si_ = 1.\n"
   ]
  },
  {
   "cell_type": "markdown",
   "metadata": {
    "collapsed": true
   },
   "source": [
    "#### 2016-02-18"
   ]
  },
  {
   "cell_type": "markdown",
   "metadata": {},
   "source": [
    "In plot_fits.m, coded the ability to plot distinct accuracy and response side data/model fits in plot_fits.m\n"
   ]
  },
  {
   "cell_type": "markdown",
   "metadata": {
    "collapsed": true
   },
   "source": [
    "#### 2016-02-19"
   ]
  },
  {
   "cell_type": "markdown",
   "metadata": {},
   "source": [
    "Preparing presentation for modeling meeting. \n",
    "Updated this notebook. Filled in backlog of experiments (see above) from 12/23/15, 01/08/16, 1/26/16."
   ]
  },
  {
   "cell_type": "markdown",
   "metadata": {
    "collapsed": true
   },
   "source": [
    "#### 2016-02-23"
   ]
  },
  {
   "cell_type": "markdown",
   "metadata": {},
   "source": [
    "Added matlab function (plot_fits_go.m) to plot GO trials only, making pretty images for presenting model fits etc"
   ]
  },
  {
   "cell_type": "markdown",
   "metadata": {
    "collapsed": true
   },
   "source": [
    "#### 2016-02-29"
   ]
  },
  {
   "cell_type": "markdown",
   "metadata": {},
   "source": [
    "Got model simulation plotting code (plot_fits_go.m) working for GO trials."
   ]
  },
  {
   "cell_type": "markdown",
   "metadata": {},
   "source": [
    "#### 2016-03-01"
   ]
  },
  {
   "cell_type": "markdown",
   "metadata": {},
   "source": [
    "Generating summary activation function figures for modeling presentation, using plot_fits_go.m within each experiment"
   ]
  },
  {
   "cell_type": "markdown",
   "metadata": {},
   "source": [
    "### 2016-03-03"
   ]
  },
  {
   "cell_type": "markdown",
   "metadata": {},
   "source": [
    "Met with modeling group, presented GO fits.\n",
    "\n",
    "To do:\n",
    "- Re-examine parameter recovery. Why don't the fits perfectly overlay the data simulated from best fit parameters?\n",
    "- Implement verror = 1 - vcorrect (reduces free parameters)\n",
    "- Add version with ability for drift rate to vary between responses... Better yet, change the model to 6 conditions"
   ]
  },
  {
   "cell_type": "markdown",
   "metadata": {},
   "source": [
    "### 2016-03-04"
   ]
  },
  {
   "cell_type": "markdown",
   "metadata": {},
   "source": [
    "I checked the parameter recovery fits.\n",
    "\n",
    "1. The best fitting parameters for 12/23/2105 fits were used to simulate data.\n",
    "2. Fits were performed on the simulated data.\n",
    "3. The best fits of the simulated data were those who's initial parameters were the best fit 12/23 parameters.\n",
    "4. However, the fits of the simulated data did not converge exatly on the same parameters as the best fit 12/23 parameters.\n",
    "\n",
    "Best fit 12/23 parameters (and the starting values of parameter recovery fits)\n",
    "25.6465518914644\t19.6678011472656\t74.6332442977305\t0.196437237758343\t0.166956766937236\t0.150555549833061\t0.0561099832197358\t0.0862075856600003\t0.107689840925609\t0.0349441296957078\t22.2478544945973\n",
    "\n",
    "Best fit 2016-01-08 parameters from fitting simulations:\n",
    "26.1704903412123\t22.2596677264556\t75.9059261570427\t0.193507714032623\t0.164318831787893\t0.148110806171300\t0.0498128542962860\t0.0823549747599474\t0.105670587657716\t0.0372746343160436\t21.1821910785786"
   ]
  },
  {
   "cell_type": "markdown",
   "metadata": {
    "collapsed": true
   },
   "source": [
    "### 2016-03-07"
   ]
  },
  {
   "cell_type": "markdown",
   "metadata": {},
   "source": [
    "I tested whether simulated predicted data from optimized parameters overalps perfectly with the same data translated into preprocessed data for (a la job_preprocess_data.m). \n",
    "\n",
    "To do this, I wrote function job_simulate_data.m. It does the following:\n",
    "- Call optimized parameters from a previous fit (in this case B's fits from 2015-12-23-100). \n",
    "- Simulate prd: predicted data based on optimized parameters, using sam_cost.m.\n",
    "- Put the simulated data back into preprocessed data format by calling job_preproc_simulated_data.m.\n",
    "- Call sam_categorize_data.m to format the preprocessed data back into obs format for plotting.\n",
    "- Plot prd and obs using the subfunction plitit.\n",
    "\n",
    "Doing this shoudl result in perfectly overlapping fits. But it doesn't. There must be something wrong with my job_preproc_simulated_data.m file that causes it to create erroneous \"data\"."
   ]
  },
  {
   "cell_type": "markdown",
   "metadata": {},
   "source": [
    "However, see scratch.m in 2016-01-18-1245, beginning at line 100:\n",
    "\n",
    "When I compare the simulated prd data with the transformed new obs data (simData), there are identical (minus a couple truncated rt trials. \n",
    "\n",
    "Maybe the error is in which files the functions are calling.\n",
    "\n"
   ]
  },
  {
   "cell_type": "markdown",
   "metadata": {},
   "source": [
    "###2016-03-09"
   ]
  },
  {
   "cell_type": "markdown",
   "metadata": {},
   "source": [
    "I discovered a bug in the sam code. In sam_categorize_data.m, error trials are erroneously placed in the wrong category in the obs structure. I altered the code (changing categorization from resp to rsp1 -- see code in sam_categorized_data, beginning line 547).\n",
    "\n"
   ]
  },
  {
   "cell_type": "markdown",
   "metadata": {},
   "source": [
    "---\n",
    "## 2016-03-10-1000: Parameter Recovery after fixing sam_categorize_data.m\n",
    "----"
   ]
  },
  {
   "cell_type": "markdown",
   "metadata": {},
   "source": [
    "###2016-03-10"
   ]
  },
  {
   "cell_type": "markdown",
   "metadata": {},
   "source": [
    "Based on correcting the error stated above, I am running parameter recovery simulations again to quickly determine whether this bug was likely the underlying cause of my poor fits. These parameter recovery simulations will be performed in a new experiment folder, 2016-03-10"
   ]
  },
  {
   "cell_type": "markdown",
   "metadata": {},
   "source": [
    "###2016-03-11"
   ]
  },
  {
   "cell_type": "markdown",
   "metadata": {},
   "source": [
    "The parameter recovery fits worked- parameters converged to the originals, with a chi-square effectively at zero.\n",
    "\n",
    "see:\n",
    "<img src=\"/results/2016-03-10-1000/subj1/dt/trialvar/crace/GO_Respond_both_Accuracy_both.png\">\n",
    "/Users/paulmiddlebrooks/perceptualchoice_stop_model/results/2016-03-10-1000/subj1/dt/trialvar/crace/GO_Respond_both_Accuracy_both.png\n",
    "\n",
    "However, the plots don't exactly overlap. The predicted data needs to be shifted to the right, or the observed data to the left. That means something is wrong with sam_bin_data.m or cmtb_edf.m.\n",
    "\n"
   ]
  },
  {
   "cell_type": "markdown",
   "metadata": {},
   "source": [
    "---\n",
    "## 2016-03-11-1400: Fitting GO trials for both B and X\n",
    "----"
   ]
  },
  {
   "cell_type": "markdown",
   "metadata": {},
   "source": [
    "Attempt #2 to fit GO trials. \n",
    "\n",
    "I altered the model to allow potential for drift rate to vary between stimuli (cyan vs magenta) and will add that as a possible model. See Donkin et al 2011 J MathPsych for justification. However, I believe the fits will be fine with drift rate varying between conditions (and starting point, threshold, and/or non-decision time varying between responses)."
   ]
  },
  {
   "cell_type": "markdown",
   "metadata": {},
   "source": [
    "###2016-03-17"
   ]
  },
  {
   "cell_type": "markdown",
   "metadata": {
    "collapsed": true
   },
   "source": [
    "When I allowed drift rate to vary between stimuli and conditions, sam simulates trials in which stimuli (Stm) and response (Rsp) are incongruent. In my task, they are always equivalent. \n",
    "\n",
    "I'm pursuing 3 courses of action in this regard\n",
    "1. Emailed Bram with examples, to see his response and whether we can fix this quickly and move forward\n",
    "2. I plan to restructure the model so sam doesn't create unnecessary trial factors: Current model has 2 stimuli, 2 responses, and 3 conditons. New model will have 6 stimuli (one per color coherence), 2 responses, and 1 condition. \n",
    "3. In the meantime, I will fit the old models to see whether fixing the misattribution of error trials (see 2016-03-10 above) helps fit the data better."
   ]
  },
  {
   "cell_type": "markdown",
   "metadata": {},
   "source": [
    "###2016-03-21"
   ]
  },
  {
   "cell_type": "markdown",
   "metadata": {},
   "source": [
    "1. Bram responded, and I emailed him again to clarify\n",
    "\n",
    "2. I have not restructured the model yet. I'm troubleshooting to see where the old model goes wrong when I try to vary drift rate across Stm and Cnd. The issue in in sam_categorize_data.m (line 111) where a full factor model creates trial categories in which Stm and Rsp are not identical. And they need to always be identical in my task. \n",
    "\n",
    "3. I fit the old models. It helped. Broca's fits look very good for correct trials, not great for error trials. Xena's fits still don't look great, neither for correct nor error trials.\n"
   ]
  },
  {
   "cell_type": "markdown",
   "metadata": {},
   "source": [
    "---\n",
    "## 2016-03-23-1430: Fitting GO trials for both B and X under new model factors design\n",
    "----"
   ]
  },
  {
   "cell_type": "markdown",
   "metadata": {},
   "source": [
    "Scripts to fit GO trials for both subjects under a new model\n",
    "---------------\n",
    "\n",
    "The new model is a test (and proof of concept). Instead of parsing the experimental factors as 2 stimuli, 2 responses, and 3 conditions, I will form a model of 1 stimulus, 2 responses, and 6 conditions. I believe these 2 models are equivalent and will result in equivalent fits. However, the new design will allow me to test a broader range of parameter variation across factors.\n"
   ]
  },
  {
   "cell_type": "markdown",
   "metadata": {},
   "source": [
    "### 2016-03-23"
   ]
  },
  {
   "cell_type": "markdown",
   "metadata": {
    "collapsed": true
   },
   "source": [
    "Altered the scripts to run the new model"
   ]
  },
  {
   "cell_type": "markdown",
   "metadata": {},
   "source": [
    "### 2016-03-24"
   ]
  },
  {
   "cell_type": "markdown",
   "metadata": {},
   "source": [
    "I tried the 1 Stm, 2 Rsp, 6 Cnd model, and get an error when I try to fit initial parameters by hand (job_spec_x0base).\n",
    "\n",
    "The error seems to be related to sam’s dislike for 1 Stm. Where it’s appropriate to use the number of Rsp, the code uses the number of Stm. For example, I have t0 varying across Rsp. But when sam codes this in sam_decode_x.m (line 289), T0 gets assigned \n",
    "\n",
    "\n",
    "exoConn sets m, which sets t0Var, which wants to matrix multiply T0. Need exoConn for 1 Stm to be 2X2 eye, for 2 Stm to be 3X3 eye.\n",
    "\n",
    "SAM.model.mat.exoConn\n",
    "\n",
    "exoConn gets set in sam_spec_conn_mat\n",
    "\n",
    "\n",
    "\n",
    "So I tried the 1 Stm / 2 Rsp / 6 Cnd model, and got errors. Traced the errors to the exogenous connectivity matrix, where I realized sam demands the number of Stm and Rsp to be equivalent. \n",
    "\n",
    "sam_spec_conn_mat.m, line 100: \n",
    "\n",
    "% 2.2.1. Stimulus-target response mapping\n",
    "% -------------------------------------------------------------------------\n",
    "% Each stimulus drives the unit with the corresponding index\n",
    "mat.exoConn.stimTarget        = logical(eye(sum(maxNRsp)));\n",
    "\n",
    "In my task, like the dots task, one central stimulus should drive the 2 accumulators. There are 2 targets in the periphery, but the decisional info is in the checkerboard (or dots).\n",
    "\n",
    "\n",
    "\n"
   ]
  },
  {
   "cell_type": "markdown",
   "metadata": {},
   "source": [
    "In the model, Stm and Rsp must always be the same. In my case Stm refers to color coherence (how many of the checkers are color X), and Rsp refers to the corresponding accumulator. So magenta stimulus always feeds into right accumulator, and cyan stimulus always feeds into left accumulator. When the stimulus is majority magenta/cyan, right/left accumulator is assigned \"correct\", other accumualtor \"error\".\n",
    "\n",
    "For sam model, if I vary some parameter across Stm and another parameter across Rsp, sam wants to create a trial category for which Stm and Rsp are incongruent. Because in sam_categorize_data.m, line 111, the design matrix get assigned as a full factorial of which parameters vary across any/all factors (Stm, Rsp, Cnd).\n",
    "The solution is to only vary factors across either Stm or Rsp, but not both. \n",
    "\n",
    "So I'm going to implement the old model (2 Stm X 2 Rsp X 3 Cnd) and vary only Rsp and Cnd. Previously I varied drift rate across Stm and Cnd, and starting point across Rsp. And sam created the extraneous Stm1/Rsp2 and Stm2/Rsp1 trial categories, which can't exist."
   ]
  },
  {
   "cell_type": "markdown",
   "metadata": {},
   "source": [
    "---\n",
    "## 2016-03-25-1300: Fitting GO trials for both B and X including allowing v and ve to vary across Conditions\n",
    "----"
   ]
  },
  {
   "cell_type": "markdown",
   "metadata": {},
   "source": [
    "### 2016-03-28"
   ]
  },
  {
   "cell_type": "markdown",
   "metadata": {
    "collapsed": true
   },
   "source": [
    "sam was pulling incorrect values for v and ve for the model version in which v and ve vary across both Rsp and Cnd. I debugged sam_decode_x.m to ensure the proper values are assigned."
   ]
  },
  {
   "cell_type": "markdown",
   "metadata": {},
   "source": [
    "---\n",
    "## 2016-03-31-1400: Fitting response sides correct vs error within each difficulty (flipping error direction assigment)\n",
    "----"
   ]
  },
  {
   "cell_type": "markdown",
   "metadata": {},
   "source": [
    "Up to this point, I've treated each condition separately, fitting left vs right. Thus, in the easiest cyan condition, correct left responses were fit alongside error right responses. \n",
    "\n",
    "This set of models fits correct vs error across matching conditions. Thus, in the easiest cyan and magenta conditions, correct left and error left are fit, as well as correct right and error right. \n",
    "\n",
    "To do this, observed data must be re-coded. job_preprocess data needs to match correct and error rather than left vs. right."
   ]
  },
  {
   "cell_type": "markdown",
   "metadata": {},
   "source": [
    "### 2016-04-11"
   ]
  },
  {
   "cell_type": "markdown",
   "metadata": {},
   "source": [
    "The fits were worse for broca, better for xena.\n",
    "\n",
    "For Broca, the fits were worse for all models except one. \n",
    "The worse fits had trouble fitting the correct and error trials. For correct trials, the model did a poor job distinguishing between response directions. Within each color coherence condition, the two directions overlap. This is for both correct and error choices.\n",
    "The model that fit just as well as previous models was the one in which drift rate was free to vary across both color coherence (condition) and across stimuli (response side). \n",
    "\n",
    "For Xena, the fits were all better.\n",
    "\n",
    "Interestingly, Xena's old fits look like Broca's new fits, in that the model doesn't distinguish between response directions well. \n",
    "And Xena's new fits look like Broca's old fits.\n",
    "\n",
    "Does this have to do with the difference in Broca and Xena's error RT patterns?\n",
    "\n"
   ]
  },
  {
   "cell_type": "markdown",
   "metadata": {},
   "source": [
    "---\n",
    "## 2016-04-13: Fitting Correct Choices only\n",
    "----"
   ]
  },
  {
   "cell_type": "markdown",
   "metadata": {},
   "source": [
    "I've tried fitting correct and error trials multiple ways (see 2016-03-25 and 2016-03-31), without much success (none of the models fit error trials well).\n",
    "\n",
    "I want to determine whether this issue is the error trials. I.e., whether the model will fit the correct trials well if I exclude the error trials.\n",
    "\n",
    "So I will alter job_preprocess_data.m to exclude error trials from observed data."
   ]
  },
  {
   "cell_type": "markdown",
   "metadata": {},
   "source": [
    "### 2016-04-18"
   ]
  },
  {
   "cell_type": "markdown",
   "metadata": {},
   "source": [
    "The fits look quite good for most model architectures. Better for Broca than Xena, but very acceptable for both. I will continue and try to fit the STOP trials as well, again only for correct choices."
   ]
  },
  {
   "cell_type": "markdown",
   "metadata": {},
   "source": [
    "### 2016-05-20"
   ]
  },
  {
   "cell_type": "markdown",
   "metadata": {},
   "source": [
    "The stop trials fit pretty well too. I had a meeting and presented these and previous (Correct and Error GO trial) fits. Tom and Gordon indicated to proceed fitting all trial types, GO and STOP. "
   ]
  },
  {
   "cell_type": "markdown",
   "metadata": {},
   "source": [
    "---\n",
    "## 2016-05-20: Full fits, with summary plots\n",
    "----"
   ]
  },
  {
   "cell_type": "markdown",
   "metadata": {},
   "source": [
    "The fits looked good. I will fully fit all choices (correct and error) and stop trials for both monkeys. Also going to plot summary stats from the model a la Middlebrooks & Schall 2013."
   ]
  }
 ],
 "metadata": {
  "kernelspec": {
   "display_name": "Python 2",
   "language": "python",
   "name": "python2"
  },
  "language_info": {
   "codemirror_mode": {
    "name": "ipython",
    "version": 2
   },
   "file_extension": ".py",
   "mimetype": "text/x-python",
   "name": "python",
   "nbconvert_exporter": "python",
   "pygments_lexer": "ipython2",
   "version": "2.7.10"
  }
 },
 "nbformat": 4,
 "nbformat_minor": 0
}
