{
 "metadata": {
  "name": "",
  "signature": "sha256:88df5f3cf2f176ed3cbbac15755afdec5f754351c566756d9798ec604c96a471"
 },
 "nbformat": 3,
 "nbformat_minor": 0,
 "worksheets": [
  {
   "cells": [
    {
     "cell_type": "heading",
     "level": 3,
     "metadata": {},
     "source": [
      "Step 1 - Preparatory processes"
     ]
    },
    {
     "cell_type": "heading",
     "level": 5,
     "metadata": {},
     "source": [
      "Step 1.1 - Check out specific versions of various toolboxes"
     ]
    },
    {
     "cell_type": "markdown",
     "metadata": {},
     "source": [
      "_Goal_:  \n",
      "Control the version of the toolboxes used; only necessary if you do not want to use the most recent version.\n",
      "\n",
      "_Instructions_:  \n",
      "Paste code into terminal. Make sure to clone versions of these toolboxes into your own home directory and refer to those paths.\n",
      "\n",
      "_Output_:  \n",
      "None"
     ]
    },
    {
     "cell_type": "code",
     "collapsed": false,
     "input": [
      "%%system\n",
      "#Check out a particular commit of sam toolbox, then the branch we were working on\n",
      "cd /home/zandbeb/m-files/sam/\n",
      "git checkout fc2f11d3e3dd2310fe41405cf992dd5dfb0842ec .\n",
      "git checkout master;\n",
      "\n",
      "#Check out my own MATLAB tools\n",
      "cd /home/zandbeb/m-files/matlab_code_bbz/\n",
      "git checkout 707d1432f62d7ea0de34b563bc4865829c69b1d5 .\n",
      "git checkout master;\n",
      "\n",
      "#Check out tools from the MATLAB File Exchange\n",
      "cd /home/zandbeb/m-files/matlab_file_exchange_tools/\n",
      "git checkout 9689e62e609ec254ff2c48a459ea16ba184b351a .\n",
      "git checkout master;\n",
      "\n",
      "#Check out my cognitive modeling tools\n",
      "cd /home/zandbeb/m-files/cmtb/\n",
      "git checkout 85b31d0c95622a341aff6914471f0a090e0e09e3 .\n",
      "git checkout master;"
     ],
     "language": "python",
     "metadata": {},
     "outputs": []
    },
    {
     "cell_type": "heading",
     "level": 5,
     "metadata": {},
     "source": [
      "Step 1.2 - Add paths to MATLAB's search path"
     ]
    },
    {
     "cell_type": "markdown",
     "metadata": {},
     "source": [
      "_Goal_:  \n",
      "Ensure access to SAM toolbox and job code\n",
      "\n",
      "_Instructions_:  \n",
      "Paste code into MATLAB\n",
      "\n",
      "_Output_:  \n",
      "None"
     ]
    },
    {
     "cell_type": "code",
     "collapsed": false,
     "input": [
      "%%matlab\n",
      "addpath(genpath('/home/zandbeb/m-files/sam/'));\n",
      "addpath(genpath('/home/zandbeb/m-files/matlab_code_bbz/'));\n",
      "addpath(genpath('/home/zandbeb/m-files/matlab_file_exchange_tools/'));\n",
      "addpath(genpath('/home/zandbeb/m-files/cmtb/'));\n",
      "addpath(genpath('/scratch/zandbeb/perceptualchoice_stop_model/src/code/2014-07-28-1550/'));"
     ],
     "language": "python",
     "metadata": {},
     "outputs": []
    },
    {
     "cell_type": "heading",
     "level": 5,
     "metadata": {},
     "source": [
      "Step 1.3 - Preprocess data"
     ]
    },
    {
     "cell_type": "markdown",
     "metadata": {},
     "source": [
      "_Goal:_  \n",
      "Convert behavioral data to SAM-compatible format\n",
      "\n",
      "_Instruction_:  \n",
      "Paste code into MATLAB\n",
      "\n",
      "_Output_:  \n",
      "`data_subj%.2d.mat` in `.../data/.../preproc01/subj%.2d/`"
     ]
    },
    {
     "cell_type": "code",
     "collapsed": false,
     "input": [
      "%%matlab\n",
      "rawDataDir          = '/scratch/zandbeb/perceptualchoice_stop_model/data/raw/';\n",
      "preprocDataDir      = '/scratch/zandbeb/perceptualchoice_stop_model/data/2014-07-28-1550/preproc01/';\n",
      "job_preproc_data(rawDataDir,preprocDataDir);"
     ],
     "language": "python",
     "metadata": {},
     "outputs": []
    },
    {
     "cell_type": "heading",
     "level": 5,
     "metadata": {},
     "source": [
      "Step 1.4 - Specify random number generator seed"
     ]
    },
    {
     "cell_type": "markdown",
     "metadata": {},
     "source": [
      "_Goal_:  \n",
      "Ensure reproducible findings\n",
      "\n",
      "_Instruction_:  \n",
      "Paste code into MATLAB\n",
      "\n",
      "_Output_:  \n",
      "`rngStruct.mat` in `.../data/.../preproc01/`"
     ]
    },
    {
     "cell_type": "code",
     "collapsed": false,
     "input": [
      "%%matlab\n",
      "preprocDataDir      = '/scratch/zandbeb/perceptualchoice_stop_model/data/2014-07-28-1550/preproc01/';\n",
      "rngStruct           = rng('shuffle');\n",
      "save(fullfile(preprocDataDir,'rngStruct.mat'),'rngStruct');"
     ],
     "language": "python",
     "metadata": {},
     "outputs": []
    },
    {
     "cell_type": "heading",
     "level": 3,
     "metadata": {},
     "source": [
      "Step 2 - Optimize the GO parameters, using a large step size"
     ]
    },
    {
     "cell_type": "heading",
     "level": 5,
     "metadata": {},
     "source": [
      "Step 2.1 - Build the general SAM structure"
     ]
    },
    {
     "cell_type": "markdown",
     "metadata": {},
     "source": [
      "_Goal_:  \n",
      "Specify general settings, including details about the experiment, model, simulation, and optimization.\n",
      "\n",
      "_Instruction_:  \n",
      "Paste into MATLAB\n",
      "\n",
      "_Output_:  \n",
      "`SAM_goTrials.mat`"
     ]
    },
    {
     "cell_type": "code",
     "collapsed": false,
     "input": [
      "%%matlab\n",
      "subj                    = 1;\n",
      "dt                      = 20;\n",
      "trialVar                = false;\n",
      "simScope                = 'go';\n",
      "choiceMech              = {'race'};\n",
      "stopMech                = 'none';\n",
      "fileStr.rawDataDir      = '/scratch/zandbeb/perceptualchoice_stop_model/data/raw/';\n",
      "fileStr.preprocDataDir  = '/scratch/zandbeb/perceptualchoice_stop_model/data/2014-07-28-1550/preproc01/';\n",
      "load(fullfile(fileStr.preprocDataDir,'rngStruct.mat'),'rngStruct');\n",
      "\n",
      "nChoiceMech = numel(choiceMech);\n",
      "\n",
      "for iChoiceMech = 1:nChoiceMech\n",
      "    job_spec_sam_general(subj,dt,trialVar,simScope,choiceMech{iChoiceMech},stopMech,rngStruct,fileStr);\n",
      "end"
     ],
     "language": "python",
     "metadata": {},
     "outputs": []
    },
    {
     "cell_type": "heading",
     "level": 5,
     "metadata": {},
     "source": [
      "Step 2.2 - Non-automatic optimization of GO parameters"
     ]
    },
    {
     "cell_type": "markdown",
     "metadata": {},
     "source": [
      "_Goal_:  \n",
      "To find good-fitting parameters by trial-and-error\n",
      "\n",
      "_Instruction_:  \n",
      "Paste code in notebook `Perceptual choice GO x0.ipynb` into MATLAB, in GUI mode. Tweak parameters until a satisfactory fit is obtained.\n",
      "\n",
      "_Output_:  \n",
      "`userSpecX_goTrials_model%.3d.mat`"
     ]
    },
    {
     "cell_type": "heading",
     "level": 5,
     "metadata": {},
     "source": [
      "Step 2.3 - Automatic optimization of initial GO parameters"
     ]
    },
    {
     "cell_type": "markdown",
     "metadata": {},
     "source": [
      "_Goal_:  \n",
      "to find combinations of GO parameters with low Pearson's Chi-squared/BIC values that can be used as initial parameters for optimization\n",
      "\n",
      "_Instruction_:  \n",
      "Run the bash script `exe_job_optim_x0.txt` on ACCRE\n",
      "\n",
      "_Output_:  \n",
      "`finalLog_initParam_goTrials_model%.3d_started%s.mat`  \n",
      "`SAM_initParam_goTrials_model%.3d_started%s.mat`  "
     ]
    },
    {
     "cell_type": "code",
     "collapsed": false,
     "input": [
      "#!/bin/bash\n",
      "# \n",
      "# exe_job_optim_x0.txt \n",
      "# \n",
      "# N.B. Make sure that file's permissions allow others to execute this file (e.g. 'chmod 755')\n",
      "# N.B. Make sure that you update path strings and PBS .txt-file below\n",
      "\n",
      "pathStr=\"/scratch/zandbeb/perceptualchoice_stop_model/data/2014-07-28-1550/preproc01/subj%.2d/dt%d/%s/%s/SAM_%sTrials.mat\";\n",
      "pathStrInitParam=\"/scratch/zandbeb/perceptualchoice_stop_model/data/2014-07-28-1550/preproc01/subj%.2d/dt%d/%s/%s/SAM_initParam_%sTrials_model%.3d.mat\";\n",
      "\n",
      "# Optimization scope\n",
      "optimScope=\"go\";\n",
      "\n",
      "# Time step\n",
      "dt=\"20\";\n",
      "\n",
      "# Trial variability tag (for starting point, non-decision time, and rate)\n",
      "trialVar=\"notrialvar\";\n",
      "\n",
      "# Model architectures\n",
      "modelArch=\"crace\";\n",
      "\n",
      "# Model variants\n",
      "model=\"9\";\n",
      "\n",
      "# Number of starting points\n",
      "nStartPoint=\"2000\";\n",
      "\n",
      "# Subject\n",
      "subject=\"1\";\n",
      "\n",
      "# PBS Settings\n",
      "WALLTIME=\"25:00:00\";\n",
      "PPN=\"4\";\n",
      "MEM=\"12000\";\n",
      "\n",
      "for iModelArch in `echo $modelArch`\n",
      "do\n",
      "\tfor iModel in `echo $model`\n",
      "\tdo\n",
      "\t\tfor iSubj in `echo $subject`\n",
      "\t\tdo\n",
      "\t\t\tqsub -l walltime=`echo $WALLTIME` -l nodes=1:ppn=`echo $PPN` -l mem=`echo \"$MEM\"mb` -v pathStr=`echo \"$pathStr\"`,pathStrInitParam=`echo \"$pathStrInitParam\"`,optimScope=`echo \"$optimScope\"`,dt=`echo \"$dt\"`,trialVar=`echo \"$trialVar\"`,modelArch=`echo \"$iModelArch\"`,iModel=`echo \"$iModel\"`,nStartPoint=`echo \"$nStartPoint\"`,subject=`echo \"$iSubj\"`,processorsPerNode=`echo \"$PPN\"` /scratch/zandbeb/perceptualchoice_stop_model/src/code/2014-07-28-1550/pbs/pbs_job_optim_x0.txt\t\n",
      "\t\tdone    \n",
      "\tdone\n",
      "done"
     ],
     "language": "python",
     "metadata": {},
     "outputs": []
    },
    {
     "cell_type": "heading",
     "level": 5,
     "metadata": {},
     "source": [
      "Step 2.4 - Build model-specific SAM structures"
     ]
    },
    {
     "cell_type": "markdown",
     "metadata": {},
     "source": [
      "_Goal_:  \n",
      "to specify modeling settings that are specific to each model variant\n",
      "\n",
      "_Instruction_:  \n",
      "Paste into MATLAB  \n",
      "\n",
      "_Output_:  \n",
      "`SAM_goTrials_model%.3d.mat`"
     ]
    },
    {
     "cell_type": "code",
     "collapsed": false,
     "input": [
      "subj                    = 1;\n",
      "dt                      = 20;\n",
      "trialVar                = false;\n",
      "simScope                = 'go';\n",
      "choiceMech              = {'race'};\n",
      "stopMech                = 'none';\n",
      "model                   = [9];\n",
      "fileStr.root            = '/scratch/zandbeb/perceptualchoice_stop_model/data/2014-07-28-1550/preproc01/subj%.2d/dt%d/%s/%s/';\n",
      "for iChoiceMech = 1:numel(choiceMech)\n",
      "    job_spec_sam_model(subj,dt,trialVar,simScope,choiceMech{iChoiceMech},stopMech,model,fileStr);\n",
      "end"
     ],
     "language": "python",
     "metadata": {},
     "outputs": []
    },
    {
     "cell_type": "heading",
     "level": 5,
     "metadata": {},
     "source": [
      "Step 2.5 - Automatic optimization of GO parameters"
     ]
    },
    {
     "cell_type": "markdown",
     "metadata": {},
     "source": [
      "_Goal_:  \n",
      "Find best-fitting GO parameters using constrained Simplex algorithm\n",
      "\n",
      "_Instruction_:  \n",
      "Run the bash script `exe_job_optim_x.txt` on ACCRE\n",
      "\n",
      "_Output_:  \n",
      "`finalLog_goTrials_model%.3d_startVal%.3d_started%s.mat`  \n",
      "`fValAndBestX_goTrials_model%.3d_startVal%.3d_exit%.1d_started%s.mat`  \n",
      "`SAM_goTrials_model%.3d_startVal%.3d_exit%.1d_started%s.mat`  "
     ]
    },
    {
     "cell_type": "code",
     "collapsed": false,
     "input": [
      "#!/bin/bash\n",
      "# \n",
      "# exe_job_optim_x.txt \n",
      "# \n",
      "# N.B. Make sure that file's permissions allow others to execute this file  (e.g. 'chmod 755')\n",
      "# N.B. Make sure that you update path strings and PBS .txt-file below\n",
      "\n",
      "pathStr=\"/scratch/zandbeb/perceptualchoice_stop_model/data/2014-07-28-1550/preproc01/subj%.2d/dt%d/%s/%s/SAM_%sTrials_model%.3d.mat\";\n",
      "\n",
      "# Optimization scope\n",
      "optimScope=\"go\";\n",
      "\n",
      "# Time step\n",
      "dt=\"20\";\n",
      "\n",
      "# Trial variability tag (for starting point, non-decision time, and rate)\n",
      "trialVar=\"notrialvar\";\n",
      "\n",
      "# Model architectures\n",
      "modelArch=\"crace\";\n",
      "\n",
      "# Model variants\n",
      "model=\"9\";\n",
      "\n",
      "# Subject\n",
      "subject=\"1\";\n",
      "\n",
      "# PBS Settings\n",
      "WALLTIME=\"10:00:00\";\n",
      "PPN=\"4\";\n",
      "MEM=\"12000\";\n",
      "\n",
      "for iModelArch in `echo $modelArch`\n",
      "do\n",
      "\tfor iModel in `echo $model`\n",
      "\tdo\n",
      "\t\tfor iSubj in `echo $subject`\n",
      "\t\tdo\n",
      "\t\t\tfor iStartVal in {1..20}\n",
      "\t\t\tdo\n",
      "\t\t\t\tqsub -l walltime=`echo $WALLTIME` -l nodes=1:ppn=`echo $PPN` -l mem=`echo \"$MEM\"mb` -v pathStr=`echo \"$pathStr\"`,subject=`echo \"$iSubj\"`,optimScope=`echo \"$optimScope\"`,dt=`echo \"$dt\"`,trialVar=`echo \"$trialVar\"`,modelArch=`echo \"$iModelArch\"`,iModel=`echo \"$iModel\"`,iStartVal=`echo \"$iStartVal\"`,processorsPerNode=`echo \"$PPN\"` /scratch/zandbeb/perceptualchoice_stop_model/src/code/2014-07-28-1550/pbs/pbs_job_optim_x.txt\n",
      "\t\t\tdone\n",
      "\t\tdone\n",
      "\tdone\t\t\n",
      "done    \n"
     ],
     "language": "python",
     "metadata": {},
     "outputs": []
    },
    {
     "cell_type": "heading",
     "level": 5,
     "metadata": {},
     "source": [
      "Step 2.6 - Merge optimization files"
     ]
    },
    {
     "cell_type": "markdown",
     "metadata": {},
     "source": [
      "_Goal_:  \n",
      "Make one file containing minimized cost function value and best-fitting parameters\n",
      "\n",
      "_Instruction_:  \n",
      "Paste into MATLAB\n",
      "\n",
      "_Output_:  \n",
      "`allFValAndBestX_goTrials_model%.3d.txt`"
     ]
    },
    {
     "cell_type": "code",
     "collapsed": false,
     "input": [
      "%%matlab\n",
      "subj        = 1;\n",
      "dt          = 20;\n",
      "trialVar    = false;\n",
      "optimScope  = 'go';\n",
      "choiceMech  = {'race'};\n",
      "stopMech    = 'none';\n",
      "model       = [9];\n",
      "\n",
      "fileStr.root = '/scratch/zandbeb/perceptualchoice_stop_model/data/2014-07-28-1550/preproc01/subj%.2d/dt%d/%s/%s/';\n",
      "fileStr.output = 'allFValAndBestX_%sTrials_model%.3d.txt';\n",
      "\n",
      "for iChoiceMech = 1:numel(choiceMech)\n",
      "    job_merge_fvalandbestx(subj,dt,trialVar,optimScope,choiceMech{iChoiceMech},stopMech,model,fileStr);\n",
      "end"
     ],
     "language": "python",
     "metadata": {},
     "outputs": []
    },
    {
     "cell_type": "heading",
     "level": 3,
     "metadata": {},
     "source": [
      "Step 3 - Optimize the STOP parameters, using a large step size"
     ]
    },
    {
     "cell_type": "markdown",
     "metadata": {},
     "source": [
      "This involves fitting the stop-signal trials only. The GO parameters are fixed to the best-fitting values from Step 2.\n",
      "\n",
      "Similar procedure as described above."
     ]
    },
    {
     "cell_type": "heading",
     "level": 3,
     "metadata": {},
     "source": [
      "Step 4 - Optimize the GO and STOP parameters"
     ]
    },
    {
     "cell_type": "code",
     "collapsed": false,
     "input": [],
     "language": "python",
     "metadata": {},
     "outputs": []
    }
   ],
   "metadata": {}
  }
 ]
}