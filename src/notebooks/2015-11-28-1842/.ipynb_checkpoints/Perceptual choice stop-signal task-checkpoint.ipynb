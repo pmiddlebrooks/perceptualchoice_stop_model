{
 "cells": [
  {
   "cell_type": "markdown",
   "metadata": {},
   "source": [
    "# Step 1 - Preparatory processes"
   ]
  },
  {
   "cell_type": "markdown",
   "metadata": {},
   "source": [
    "##### Step 1.1 - Check out specific versions of various toolboxes"
   ]
  },
  {
   "cell_type": "markdown",
   "metadata": {},
   "source": [
    "_Goal_:  \n",
    "Control the version of the toolboxes used; either update to most recent (present experiment), or update to correct commit (past experiment).\n",
    "\n",
    "_Instructions_:  \n",
    "Paste code into terminal. Make sure to clone versions of these toolboxes into your own home directory and refer to those paths.\n",
    "\n",
    "_Output_:  \n",
    "None"
   ]
  },
  {
   "cell_type": "markdown",
   "metadata": {},
   "source": [
    "###IN ACCRE, Checkout the right commit of source codes (matlab and slurm scripts)"
   ]
  },
  {
   "cell_type": "markdown",
   "metadata": {},
   "source": [
    "####If running a present experiment, update to the latest code:"
   ]
  },
  {
   "cell_type": "code",
   "execution_count": null,
   "metadata": {
    "collapsed": true
   },
   "outputs": [],
   "source": [
    "#Check out analysis code\n",
    "cd /scratch/middlepg/perceptualchoice_stop_model/\n",
    "git pull\n"
   ]
  },
  {
   "cell_type": "markdown",
   "metadata": {},
   "source": [
    "####If re-running a past experiment, update to the correct commit (to be filled in by experimenter after updating):"
   ]
  },
  {
   "cell_type": "code",
   "execution_count": null,
   "metadata": {
    "collapsed": true
   },
   "outputs": [],
   "source": [
    "#Check out analysis code\n",
    "cd /scratch/middlepg/perceptualchoice_stop_model/\n",
    "git checkout 724bc1e3c1dad8f67a20801645e268d249b39d19 \n",
    "git checkout master;\n"
   ]
  },
  {
   "cell_type": "markdown",
   "metadata": {},
   "source": [
    "###IN ACCRE, if needed checkout the right version of sam and related toolboxes.\n",
    "\n",
    "Only do this if needed\n"
   ]
  },
  {
   "cell_type": "code",
   "execution_count": 1,
   "metadata": {
    "collapsed": false
   },
   "outputs": [
    {
     "ename": "SyntaxError",
     "evalue": "invalid syntax (<ipython-input-1-943242c9d4e6>, line 1)",
     "output_type": "error",
     "traceback": [
      "\u001b[0;36m  File \u001b[0;32m\"<ipython-input-1-943242c9d4e6>\"\u001b[0;36m, line \u001b[0;32m1\u001b[0m\n\u001b[0;31m    FIX THIS CODE TO OPTION WHETHER ON ACCRE OR LOCAL\u001b[0m\n\u001b[0m           ^\u001b[0m\n\u001b[0;31mSyntaxError\u001b[0m\u001b[0;31m:\u001b[0m invalid syntax\n"
     ]
    }
   ],
   "source": [
    "FIX THIS CODE TO OPTION WHETHER ON ACCRE OR LOCAL\n",
    "\n",
    "#Check out a particular commit of sam toolbox, then the branch we were working on\n",
    "cd /home/middlepg/m-files/sam/\n",
    "git checkout xxxxx .\n",
    "git checkout master;\n",
    "\n",
    "#Check out my own MATLAB tools\n",
    "cd /home/middlepg/m-files/matlab_code_bbz/\n",
    "git checkout xxxxx .\n",
    "git checkout master;\n",
    "\n",
    "#Check out tools from the MATLAB File Exchange\n",
    "cd /home/middlepg/m-files/matlab_file_exchange_tools/\n",
    "git checkout xxxx .\n",
    "git checkout master;\n",
    "\n",
    "#Check out my cognitive modeling tools\n",
    "cd /home/middlepg/m-files/cmtb/\n",
    "git checkout xxxx .\n",
    "git checkout master;\n"
   ]
  },
  {
   "cell_type": "markdown",
   "metadata": {},
   "source": [
    "##### Step 1.2 - Add paths to MATLAB's search path"
   ]
  },
  {
   "cell_type": "markdown",
   "metadata": {},
   "source": [
    "_Goal_:  \n",
    "Ensure access to SAM toolbox and job code\n",
    "\n",
    "_Instructions_:  \n",
    "Paste code into MATLAB\n",
    "\n",
    "_Output_:  \n",
    "None"
   ]
  },
  {
   "cell_type": "code",
   "execution_count": 2,
   "metadata": {
    "collapsed": false
   },
   "outputs": [
    {
     "name": "stderr",
     "output_type": "stream",
     "text": [
      "ERROR: Cell magic `%%matlab` not found.\n"
     ]
    }
   ],
   "source": [
    "%%matlab\n",
    "accreRoot = '/gpfs22';\n",
    "accreHome = '/home/middlepg';\n",
    "accreScratch = '/scratch/middlepg';\n",
    "if isdir(fullfile(accreScratch))\n",
    "    matRoot = fullfile(accreRoot,accreHome,'m-files');\n",
    "    modelRoot = fullfile(accreScratch,'perceptualchoice_stop_model');\n",
    "    environ = 'accre';\n",
    "else\n",
    "    matRoot = '/Volumes/HD-1/Users/paulmiddlebrooks/matlab';\n",
    "    modelRoot = '/Volumes/HD-1/Users/paulmiddlebrooks/perceptualchoice_stop_model';\n",
    "    environ = 'local';\n",
    "end\n",
    "\n",
    "addpath(genpath(fullfile(matRoot,'sam')));\n",
    "addpath(genpath(fullfile(matRoot,'matlab_code_bbz')));\n",
    "addpath(genpath(fullfile(matRoot,'matlab_file_exchange_tools')));\n",
    "addpath(genpath(fullfile(matRoot,'cmtb')));\n",
    "addpath(genpath(fullfile(modelRoot,'src/code/2015-11-28-1842')));\n"
   ]
  },
  {
   "cell_type": "markdown",
   "metadata": {},
   "source": [
    "##### Step 1.3 - Preprocess data"
   ]
  },
  {
   "cell_type": "markdown",
   "metadata": {},
   "source": [
    "_Goal:_  \n",
    "Convert behavioral data to SAM-compatible format\n",
    "\n",
    "_Instruction_:  \n",
    "Paste code into MATLAB\n",
    "\n",
    "_Output_:  \n",
    "`data_subj%.2d.mat` in `.../data/.../preproc01/subj%.2d/`"
   ]
  },
  {
   "cell_type": "code",
   "execution_count": null,
   "metadata": {
    "collapsed": false
   },
   "outputs": [],
   "source": [
    "%%matlab\n",
    "rawDataDir          = fullfile(modelRoot,'data/raw/');\n",
    "subject             = 'broca';\n",
    "sessions            = 'behavior2';\n",
    "preprocDataDir      = fullfile(modelRoot,'data/2015-11-28-1842/preproc01/');\n",
    "job_preproc_data(rawDataDir,subject,sessions,preprocDataDir);\n"
   ]
  },
  {
   "cell_type": "markdown",
   "metadata": {},
   "source": [
    "##### Step 1.4 - Specify random number generator seed"
   ]
  },
  {
   "cell_type": "markdown",
   "metadata": {},
   "source": [
    "_Goal_:  \n",
    "Ensure reproducible findings\n",
    "\n",
    "_Instruction_:  \n",
    "Paste code into MATLAB\n",
    "\n",
    "_Output_:  \n",
    "`rngStruct.mat` in `.../data/.../preproc01/`"
   ]
  },
  {
   "cell_type": "code",
   "execution_count": null,
   "metadata": {
    "collapsed": false
   },
   "outputs": [],
   "source": [
    "%%matlab\n",
    "preprocDataDir      = fullfile(modelRoot,'data/2015-11-28-1842/preproc01/');\n",
    "rngStruct           = rng('shuffle');\n",
    "save(fullfile(preprocDataDir,'rngStruct.mat'),'rngStruct');\n"
   ]
  },
  {
   "cell_type": "markdown",
   "metadata": {},
   "source": [
    "\n",
    "# Step 2 - Optimize the GO parameters, using a large step size"
   ]
  },
  {
   "cell_type": "markdown",
   "metadata": {},
   "source": [
    "### Step 2.1 - Build the general SAM structure"
   ]
  },
  {
   "cell_type": "markdown",
   "metadata": {},
   "source": [
    "_Goal_:  \n",
    "Specify general settings, including details about the experiment, model, simulation, and optimization.\n",
    "\n",
    "_Instruction_:  \n",
    "Paste into MATLAB\n",
    "\n",
    "_Output_:  \n",
    "`SAM_goTrials.mat`"
   ]
  },
  {
   "cell_type": "code",
   "execution_count": null,
   "metadata": {
    "collapsed": false
   },
   "outputs": [],
   "source": [
    "%%matlab\n",
    "subj                    = 1;\n",
    "dt                      = 20;\n",
    "trialVar                = true;\n",
    "simScope                = 'go';\n",
    "choiceMech              = {'race','ffi','li'};\n",
    "stopMech                = 'none';\n",
    "fileStr.rawDataDir      = fullfile(modelRoot,'data/raw/');\n",
    "fileStr.preprocDataDir  = fullfile(modelRoot,'data/2015-11-28-1842/preproc01/');\n",
    "load(fullfile(fileStr.preprocDataDir,'rngStruct.mat'),'rngStruct');\n",
    "\n",
    "nChoiceMech = numel(choiceMech);\n",
    "\n",
    "for iChoiceMech = 1:nChoiceMech\n",
    "    job_spec_sam_general(subj,dt,trialVar,simScope,choiceMech{iChoiceMech},stopMech,rngStruct,fileStr);\n",
    "end\n"
   ]
  },
  {
   "cell_type": "markdown",
   "metadata": {},
   "source": [
    "### Step 2.2 - Non-automatic optimization of GO parameters"
   ]
  },
  {
   "cell_type": "markdown",
   "metadata": {},
   "source": [
    "_Goal_:  \n",
    "To find good-fitting parameters by trial-and-error\n",
    "\n",
    "_Instruction_:  \n",
    "Paste code in notebook `Perceptual choice GO x0.ipynb` into MATLAB, in GUI mode. Tweak parameters until a satisfactory fit is obtained.\n",
    "\n",
    "_Output_:  \n",
    "`userSpecX_goTrials_model%.3d.mat`"
   ]
  },
  {
   "cell_type": "markdown",
   "metadata": {},
   "source": [
    "### Step 2.3 - Automatic optimization of initial GO parameters"
   ]
  },
  {
   "cell_type": "markdown",
   "metadata": {},
   "source": [
    "_Goal_:  \n",
    "to find combinations of GO parameters with low Pearson's Chi-squared/BIC values that can be used as initial parameters for optimization\n",
    "\n",
    "_Instruction_:  \n",
    "Run the bash script `exe_job_optim_x0.txt` on ACCRE\n",
    "\n",
    "_Output_:  \n",
    "`finalLog_initParam_goTrials_model%.3d_started%s.mat`  \n",
    "`SAM_initParam_goTrials_model%.3d_started%s.mat`  "
   ]
  },
  {
   "cell_type": "markdown",
   "metadata": {},
   "source": [
    "####If running on ACCRE:"
   ]
  },
  {
   "cell_type": "code",
   "execution_count": null,
   "metadata": {
    "collapsed": true
   },
   "outputs": [],
   "source": [
    "%%system\n",
    "scratch\n",
    "cd perceptualchoice_stop_model/src/code/2015-11-28-1842/sbatch\n",
    "./exe_job_optim_x0.txt\n"
   ]
  },
  {
   "cell_type": "markdown",
   "metadata": {},
   "source": [
    "####If running Locally:"
   ]
  },
  {
   "cell_type": "code",
   "execution_count": null,
   "metadata": {
    "collapsed": false
   },
   "outputs": [],
   "source": [
    "%%matlab\n",
    "cd /Users/paulmiddlebrooks/perceptualchoice_stop_model/src/code/2015-11-28-1842/matlab/\n",
    "exe_job_optim_x0\n"
   ]
  },
  {
   "cell_type": "markdown",
   "metadata": {},
   "source": [
    "##### Step 2.4 - Build model-specific SAM structures"
   ]
  },
  {
   "cell_type": "markdown",
   "metadata": {},
   "source": [
    "_Goal_:  \n",
    "to specify modeling settings that are specific to each model variant\n",
    "\n",
    "_Instruction_:  \n",
    "Paste into MATLAB  \n",
    "\n",
    "_Output_:  \n",
    "`SAM_goTrials_model%.3d.mat`"
   ]
  },
  {
   "cell_type": "code",
   "execution_count": null,
   "metadata": {
    "collapsed": false
   },
   "outputs": [],
   "source": [
    "subj                    = 1;\n",
    "dt                      = 20;\n",
    "trialVar                = true;\n",
    "simScope                = 'go';\n",
    "choiceMech              = {'race','li','ffi'};\n",
    "stopMech                = 'none';\n",
    "model                   = [49, 99];\n",
    "fileStr.root            = fullfile(modelRoot,'data/2015-11-28-1842/preproc01/subj%.2d/dt%d/%s/%s/');\n",
    "for iChoiceMech = 1:numel(choiceMech)\n",
    "    job_spec_sam_model(subj,dt,trialVar,simScope,choiceMech{iChoiceMech},stopMech,model,fileStr);\n",
    "end\n"
   ]
  },
  {
   "cell_type": "markdown",
   "metadata": {},
   "source": [
    "##### Step 2.5 - Automatic optimization of GO parameters"
   ]
  },
  {
   "cell_type": "markdown",
   "metadata": {},
   "source": [
    "_Goal_:  \n",
    "Find best-fitting GO parameters using constrained Simplex algorithm\n",
    "\n",
    "_Instruction_:  \n",
    "Run the bash script `exe_job_optim_x.txt` on ACCRE\n",
    "\n",
    "_Output_:  \n",
    "`finalLog_goTrials_model%.3d_startVal%.3d_started%s.mat`  \n",
    "`fValAndBestX_goTrials_model%.3d_startVal%.3d_exit%.1d_started%s.mat`  \n",
    "`SAM_goTrials_model%.3d_startVal%.3d_exit%.1d_started%s.mat`  "
   ]
  },
  {
   "cell_type": "markdown",
   "metadata": {},
   "source": [
    "####If running on ACCRE:"
   ]
  },
  {
   "cell_type": "code",
   "execution_count": null,
   "metadata": {
    "collapsed": true
   },
   "outputs": [],
   "source": [
    "%%system\n",
    "scratch\n",
    "cd perceptualchoice_stop_model/src/code/2015-11-28-1842/sbatch\n",
    "./exe_job_optim_x.txt\n"
   ]
  },
  {
   "cell_type": "markdown",
   "metadata": {},
   "source": [
    "####If running Locally:"
   ]
  },
  {
   "cell_type": "code",
   "execution_count": null,
   "metadata": {
    "collapsed": false
   },
   "outputs": [],
   "source": [
    "%%matlab\n",
    "cd /Users/paulmiddlebrooks/perceptualchoice_stop_model/src/code/2015-11-28-1842/matlab/\n",
    "exe_job_optim_x\n"
   ]
  },
  {
   "cell_type": "markdown",
   "metadata": {},
   "source": [
    "##### Step 2.6 - Merge optimization files"
   ]
  },
  {
   "cell_type": "markdown",
   "metadata": {},
   "source": [
    "_Goal_:  \n",
    "Make one file containing minimized cost function value and best-fitting parameters\n",
    "\n",
    "_Instruction_:  \n",
    "Paste into MATLAB\n",
    "\n",
    "_Output_:  \n",
    "`allFValAndBestX_goTrials_model%.3d.txt`"
   ]
  },
  {
   "cell_type": "code",
   "execution_count": null,
   "metadata": {
    "collapsed": true
   },
   "outputs": [],
   "source": [
    "%%matlab\n",
    "subj        = 1;\n",
    "dt          = 20;\n",
    "trialVar    = true;\n",
    "optimScope  = 'go';\n",
    "choiceMech  = {'race', 'li', 'ffi'};\n",
    "stopMech    = 'none';\n",
    "model       = [49 99];\n",
    "\n",
    "fileStr.root   = fullfile(modelRoot,'data/2015-11-28-1842/preproc01/subj%.2d/dt%d/%s/%s/');\n",
    "fileStr.output = 'allFValAndBestX_%sTrials_model%.3d.txt';\n",
    "\n",
    "for iChoiceMech = 1:numel(choiceMech)\n",
    "    job_merge_fvalandbestx(subj,dt,trialVar,optimScope,choiceMech{iChoiceMech},stopMech,model,fileStr);\n",
    "end\n"
   ]
  },
  {
   "cell_type": "markdown",
   "metadata": {},
   "source": [
    "#### Step 2.7 - Copy output to local computer"
   ]
  },
  {
   "cell_type": "code",
   "execution_count": null,
   "metadata": {
    "collapsed": true
   },
   "outputs": [],
   "source": [
    "%%system\n",
    "\n",
    "scp  middlepg@login.accre.vanderbilt.edu:/scratch/middlepg/perceptualchoice_stop_model/data/2015-11-28-1842/preproc01/subj01/dt20/trialvar/crace/* /Users/paulmiddlebrooks/perceptualchoice_stop_model/data/2015-11-28-1842/preproc01/subj01/dt20/trialvar/crace/\n",
    "\n",
    "scp  middlepg@login.accre.vanderbilt.edu:/scratch/middlepg/perceptualchoice_stop_model/data/2015-11-28-1842/preproc01/subj01/dt20/trialvar/cli/* /Users/paulmiddlebrooks/perceptualchoice_stop_model/data/2015-11-28-1842/preproc01/subj01/dt20/trialvar/cli/\n",
    "\n",
    "scp  middlepg@login.accre.vanderbilt.edu:/scratch/middlepg/perceptualchoice_stop_model/data/2015-11-28-1842/preproc01/subj01/dt20/trialvar/cffi/* /Users/paulmiddlebrooks/perceptualchoice_stop_model/data/2015-11-28-1842/preproc01/subj01/dt20/trialvar/cffi/"
   ]
  },
  {
   "cell_type": "markdown",
   "metadata": {},
   "source": [
    "# Step 3: Optimize STOP parameters"
   ]
  },
  {
   "cell_type": "markdown",
   "metadata": {},
   "source": [
    "This involves fitting the stop-signal trials only. The GO parameters are fixed to the best-fitting values from Step 2.\n",
    "\n",
    "Similar procedure as described above."
   ]
  },
  {
   "cell_type": "markdown",
   "metadata": {},
   "source": [
    "### Step 3 - Optimize the STOP parameters, using a large step size"
   ]
  },
  {
   "cell_type": "markdown",
   "metadata": {},
   "source": [
    "##### Step 3.1 - Build the general SAM structure"
   ]
  },
  {
   "cell_type": "markdown",
   "metadata": {},
   "source": [
    "_Goal_:  \n",
    "Specify general settings, including details about the experiment, model, simulation, and optimization.\n",
    "\n",
    "_Instruction_:  \n",
    "Paste into MATLAB\n",
    "\n",
    "_Output_:  \n",
    "`SAM_stopTrials.mat`"
   ]
  },
  {
   "cell_type": "code",
   "execution_count": null,
   "metadata": {
    "collapsed": true
   },
   "outputs": [],
   "source": [
    "%%matlab\n",
    "subj                    = 1;\n",
    "dt                      = 20;\n",
    "trialVar                = false;\n",
    "simScope                = 'stop';\n",
    "choiceMech              = {'race'};\n",
    "stopMech                = 'li';\n",
    "fileStr.rawDataDir      = '/Volumes/HD-1/Users/paulmiddlebrooks/perceptualchoice_stop_model/data/raw/';\n",
    "fileStr.preprocDataDir  = '/Volumes/HD-1/Users/paulmiddlebrooks/perceptualchoice_stop_model/data/2015-11-28-1842/preproc01/';\n",
    "load(fullfile(fileStr.preprocDataDir,'rngStruct.mat'),'rngStruct');\n",
    "\n",
    "nChoiceMech = numel(choiceMech);\n",
    "\n",
    "for iChoiceMech = 1:nChoiceMech\n",
    "    job_spec_sam_general(subj,dt,trialVar,simScope,choiceMech{iChoiceMech},stopMech,rngStruct,fileStr);\n",
    "end\n"
   ]
  },
  {
   "cell_type": "markdown",
   "metadata": {},
   "source": [
    "##### Step 3.2 - Non-automatic optimization of STOP parameters"
   ]
  },
  {
   "cell_type": "markdown",
   "metadata": {},
   "source": [
    "_Goal_:  \n",
    "To find good-fitting parameters by trial-and-error\n",
    "\n",
    "_Instruction_:  \n",
    "Paste code in notebook `Perceptual choice STOP x0.ipynb` into MATLAB, in GUI mode. Tweak parameters until a satisfactory fit is obtained.\n",
    "\n",
    "_Output_:  \n",
    "`userSpecX_stopTrials_model%.3d.mat`"
   ]
  },
  {
   "cell_type": "markdown",
   "metadata": {},
   "source": [
    "##### Step 3.3 - Automatic optimization of initial STOP parameters"
   ]
  },
  {
   "cell_type": "markdown",
   "metadata": {},
   "source": [
    "_Goal_:  \n",
    "to find combinations of STOP parameters with low Pearson's Chi-squared/BIC values that can be used as initial parameters for optimization\n",
    "\n",
    "_Instruction_:  \n",
    "Run the bash script `exe_job_optim_x0.txt` on ACCRE\n",
    "\n",
    "_Output_:  \n",
    "`finalLog_initParam_stopTrials_model%.3d_started%s.mat`  \n",
    "`SAM_initParam_stopTrials_model%.3d_started%s.mat`  "
   ]
  },
  {
   "cell_type": "markdown",
   "metadata": {
    "collapsed": true
   },
   "source": [
    "%%system\n",
    "scratch\n",
    "cd perceptualchoice_stop_model/src/code/2015-11-28-1842/sbatch\n",
    "./exe_job_optim_x0.txt\n"
   ]
  },
  {
   "cell_type": "code",
   "execution_count": null,
   "metadata": {
    "collapsed": false
   },
   "outputs": [],
   "source": [
    "#!/bin/bash\n",
    "# \n",
    "# exe_job_optim_x0.txt \n",
    "# \n",
    "# N.B. Make sure that file's permissions allow others to execute this file\n",
    "# N.B. Make sure that you update path strings and SBATCH .txt-file below\n",
    "\n",
    "pathStr=\"/scratch/middlepg/perceptualchoice_stop_model/data/2015-11-28-1842/preproc01/subj%.2d/dt%d/%s/%s/SAM_%sTrials.mat\";\n",
    "pathStrInitParam=\"/scratch/middlepg/perceptualchoice_stop_model/data/2015-11-28-1842/preproc01/subj%.2d/dt%d/%s/%s/SAM_initParam_%sTrials_model%.3d.mat\";\n",
    "\n",
    "# Optimization scope\n",
    "optimScope=\"stop\";\n",
    "\n",
    "# Time step\n",
    "dt=\"20\";\n",
    "\n",
    "# Trial variability tag (for starting point, non-decision time, and rate)\n",
    "trialVar=\"notrialvar\";\n",
    "\n",
    "# Model architectures\n",
    "modelArch=\"crace\";\n",
    "\n",
    "# Model variants\n",
    "model=\"9\";\n",
    "\n",
    "# Number of starting points\n",
    "# nStartPoint=\"2000\";\n",
    "nStartPoint=\"2000\";\n",
    "\n",
    "# Subject\n",
    "subject=\"1\";\n",
    "\n",
    "# SBATCH Settings\n",
    "WALLTIME=\"10:00:00\";\n",
    "PPN=\"4\";\n",
    "MEM=\"12000\";\n",
    "\n",
    "for iModelArch in `echo $modelArch`\n",
    "do\n",
    "\tfor iModel in `echo $model`\n",
    "\tdo\n",
    "\t\tfor iSubj in `echo $subject`\n",
    "\t\tdo\n",
    "\t\t\tsbatch --time=`echo $WALLTIME` --nodes=1 --mem=`echo $MEM` --cpus-per-task=8 --export=pathStr=`echo \"$pathStr\"`,pathStrInitParam=`echo \"$pathStrInitParam\"`,optimScope=`echo \"$optimScope\"`,dt=`echo \"$dt\"`,trialVar=`echo \"$trialVar\"`,modelArch=`echo \"$iModelArch\"`,iModel=`echo \"$iModel\"`,nStartPoint=`echo \"$nStartPoint\"`,subject=`echo \"$iSubj\"`,processorsPerNode=`echo \"$PPN\"`, /scratch/middlepg/perceptualchoice_stop_model/src/code/2015-11-28-1842/sbatch/sbatch_job_optim_x0.txt\n",
    "\t\tdone    \n",
    "\tdone\n",
    "done"
   ]
  },
  {
   "cell_type": "markdown",
   "metadata": {},
   "source": [
    "##### Step 3.4 - Build model-specific SAM structures"
   ]
  },
  {
   "cell_type": "markdown",
   "metadata": {},
   "source": [
    "_Goal_:  \n",
    "to specify modeling settings that are specific to each model variant\n",
    "\n",
    "_Instruction_:  \n",
    "Paste into MATLAB  \n",
    "\n",
    "_Output_:  \n",
    "`SAM_stopTrials_model%.3d.mat`"
   ]
  },
  {
   "cell_type": "code",
   "execution_count": 2,
   "metadata": {
    "collapsed": false,
    "scrolled": true
   },
   "outputs": [
    {
     "ename": "SyntaxError",
     "evalue": "invalid syntax (<ipython-input-2-bda021e3c66b>, line 9)",
     "output_type": "error",
     "traceback": [
      "\u001b[0;36m  File \u001b[0;32m\"<ipython-input-2-bda021e3c66b>\"\u001b[0;36m, line \u001b[0;32m9\u001b[0m\n\u001b[0;31m    for iChoiceMech = 1:numel(choiceMech)\u001b[0m\n\u001b[0m                    ^\u001b[0m\n\u001b[0;31mSyntaxError\u001b[0m\u001b[0;31m:\u001b[0m invalid syntax\n"
     ]
    }
   ],
   "source": [
    "subj                    = 1;\n",
    "dt                      = 20;\n",
    "trialVar                = false;\n",
    "simScope                = 'stop';\n",
    "choiceMech              = {'race'};\n",
    "stopMech                = 'none';\n",
    "model                   = [9];\n",
    "fileStr.root            = '/Volumes/HD-1/Users/paulmiddlebrooks/perceptualchoice_stop_model/data/2015-11-28-1842/preproc01/subj%.2d/dt%d/%s/%s/';\n",
    "for iChoiceMech = 1:numel(choiceMech)\n",
    "    job_spec_sam_model(subj,dt,trialVar,simScope,choiceMech{iChoiceMech},stopMech,model,fileStr);\n",
    "end"
   ]
  },
  {
   "cell_type": "markdown",
   "metadata": {},
   "source": [
    "##### Step 3.5 - Automatic optimization of STOP parameters"
   ]
  },
  {
   "cell_type": "markdown",
   "metadata": {},
   "source": [
    "_Goal_:  \n",
    "Find best-fitting GO parameters using constrained Simplex algorithm\n",
    "\n",
    "_Instruction_:  \n",
    "Run the bash script `exe_job_optim_x.txt` on ACCRE\n",
    "\n",
    "_Output_:  \n",
    "`finalLog_stopTrials_model%.3d_startVal%.3d_started%s.mat`  \n",
    "`fValAndBestX_stopTrials_model%.3d_startVal%.3d_exit%.1d_started%s.mat`  \n",
    "`SAM_stopTrials_model%.3d_startVal%.3d_exit%.1d_started%s.mat`  "
   ]
  },
  {
   "cell_type": "code",
   "execution_count": null,
   "metadata": {
    "collapsed": false
   },
   "outputs": [],
   "source": [
    "#!/bin/bash\n",
    "# \n",
    "# exe_job_optim_x.txt \n",
    "# \n",
    "# N.B. Make sure that file's permissions allow others to execute this file\n",
    "# N.B. Make sure that you update path strings and SBATCH .txt-file below\n",
    "\n",
    "pathStr=\"/scratch/middlepg/perceptualchoice_stop_model/data/2015-11-28-1842/preproc01/subj%.2d/dt%d/%s/%s/SAM_%sTrials_model%.3d.mat\";\n",
    "\n",
    "# Optimization scope\n",
    "optimScope=\"stop\";\n",
    "\n",
    "# Time step\n",
    "dt=\"20\";\n",
    "\n",
    "# Trial variability tag (for starting point, non-decision time, and rate)\n",
    "trialVar=\"notrialvar\";\n",
    "\n",
    "# Model architectures\n",
    "modelArch=\"crace\";\n",
    "\n",
    "# Model variants\n",
    "model=\"9\";\n",
    "\n",
    "# Subject\n",
    "subject=\"1\";\n",
    "\n",
    "# SBATCH Settings\n",
    "WALLTIME=\"3:00:00\";\n",
    "PPN=\"4\";\n",
    "MEM=\"12000\";\n",
    "\n",
    "for iModelArch in `echo $modelArch`\n",
    "do\n",
    "\tfor iModel in `echo $model`\n",
    "\tdo\n",
    "\t\tfor iSubj in `echo $subject`\n",
    "\t\tdo\n",
    "\t\t\tfor iStartVal in {1..20}\n",
    "\t\t\tdo\n",
    "\t\t\tsbatch --time=`echo $WALLTIME` --nodes=1 --mem=`echo $MEM` --cpus-per-task=8 --export=pathStr=`echo \"$pathStr\"`,optimScope=`echo \"$optimScope\"`,dt=`echo \"$dt\"`,trialVar=`echo \"$trialVar\"`,modelArch=`echo \"$iModelArch\"`,iModel=`echo \"$iModel\"`,iStartVal=`echo \"$iStartVal\"`,subject=`echo \"$iSubj\"`,processorsPerNode=`echo \"$PPN\"`, /scratch/middlepg/perceptualchoice_stop_model/src/code/2015-11-28-1842/sbatch/sbatch_job_optim_x.txt\n",
    "\t\t\tdone\n",
    "\t\tdone\n",
    "\tdone\t\t\n",
    "done    \n"
   ]
  },
  {
   "cell_type": "markdown",
   "metadata": {},
   "source": [
    "##### Step 3.6 - Merge optimization files"
   ]
  },
  {
   "cell_type": "markdown",
   "metadata": {},
   "source": [
    "_Goal_:  \n",
    "Make one file containing minimized cost function value and best-fitting parameters\n",
    "\n",
    "_Instruction_:  \n",
    "Paste into MATLAB\n",
    "\n",
    "_Output_:  \n",
    "`allFValAndBestX_stopTrials_model%.3d.txt`"
   ]
  },
  {
   "cell_type": "markdown",
   "metadata": {},
   "source": [
    "# Step 4 - Optimize the GO and STOP parameters"
   ]
  },
  {
   "cell_type": "markdown",
   "metadata": {},
   "source": [
    "This involves fitting the go and stop trials. The GO and STOP parameters start at the best-fitting values from Step 2 and 3."
   ]
  },
  {
   "cell_type": "markdown",
   "metadata": {},
   "source": [
    "#### Step 4.1 - Build the general SAM structure"
   ]
  },
  {
   "cell_type": "markdown",
   "metadata": {},
   "source": [
    "_Goal_:  \n",
    "Specify general settings, including details about the experiment, model, simulation, and optimization.\n",
    "\n",
    "_Instruction_:  \n",
    "Paste into MATLAB\n",
    "\n",
    "_Output_:  \n",
    "`SAM_allTrials.mat`"
   ]
  },
  {
   "cell_type": "code",
   "execution_count": 2,
   "metadata": {
    "collapsed": false
   },
   "outputs": [
    {
     "name": "stderr",
     "output_type": "stream",
     "text": [
      "ERROR: Cell magic `%%matlab` not found.\n"
     ]
    }
   ],
   "source": [
    "%%matlab\n",
    "subj                    = 1; % 1:2;\n",
    "dt                      = 20;\n",
    "trialVar                = false;\n",
    "optimScope              = 'all';\n",
    "choiceMech              = 'race'; %{'race','ffi','li'};\n",
    "stopMech                = 'race'; %{'race','bi','li'};\n",
    "fileStr.rawDataDir      = '/Volumes/HD-1/Users/paulmiddlebrooks/perceptualchoice_stop_model/data/raw/';\n",
    "fileStr.preprocDataDir  = '/Volumes/HD-1/Users/paulmiddlebrooks/perceptualchoice_stop_model/data/2015-11-28-1842/preproc01/';\n",
    "load(fullfile(fileStr.preprocDataDir,'rngStruct.mat'),'rngStruct');\n",
    "\n",
    "nChoiceMech             = numel(choiceMech);\n",
    "nStopMech               = numel(stopMech);\n",
    "\n",
    "for iChoiceMech = 1:nChoiceMech\n",
    "    for iStopMech = 1:nStopMech\n",
    "        job_spec_sam_general(subj,dt,trialVar,optimScope,choiceMech{iChoiceMech},stopMech{iStopMech},rngStruct,fileStr);\n",
    "    end\n",
    "end\n"
   ]
  },
  {
   "cell_type": "markdown",
   "metadata": {},
   "source": [
    "##### Step 4.2 - Extract best-fitting GO and STOP parameters"
   ]
  },
  {
   "cell_type": "code",
   "execution_count": null,
   "metadata": {
    "collapsed": true
   },
   "outputs": [],
   "source": [
    "%%matlab\n",
    "subj                    = 1; %1:2;\n",
    "trialVar                = false;\n",
    "optimScope              = 'all';\n",
    "choiceMech              = {'race'};\n",
    "stopMech                = {'race','bi','li'};\n",
    "model                   = [2,5,13,10,23,33];\n",
    "fileStr.root            = '/Volumes/HD-1/Users/paulmiddlebrooks/perceptualchoice_stop_model/data/2015-11-28-1842/preproc01/subj%.2d/dt20/%s/%s/';\n",
    "fileStr.bestXSTOP       = '/Volumes/HD-1/Users/paulmiddlebrooks/perceptualchoice_stop_model/data/2015-11-28-1842/preproc01/subj%.2d/dt20/%s/%s/allFValAndBestX_stopTrials_model%.3d.txt';\n",
    "x0Base                  = {};\n",
    "doPlot                  = false;\n",
    "doSave                  = true;\n",
    "doStartParCluster       = false;\n",
    "\n",
    "nChoiceMech             = numel(choiceMech);\n",
    "nStopMech               = numel(stopMech);\n",
    "nModel                  = numel(model);\n",
    "\n",
    "for iChoiceMech = 1:nChoiceMech\n",
    "    for iStopMech = 1:nStopMech\n",
    "        for iModel = 1:nModel\n",
    "            job_spec_x0base(subj,trialVar,optimScope,choiceMech{iChoiceMech},stopMech{iStopMech},model(iModel),fileStr,x0Base,doPlot,doSave,doStartParCluster);\n",
    "        end\n",
    "    end\n",
    "end\n",
    "\n",
    "choiceMech  = {'ffi'};\n",
    "model       = [1 2 5 13 7 10 23 33 12 21 35];\n",
    "\n",
    "nChoiceMech             = numel(choiceMech);\n",
    "nStopMech               = numel(stopMech);\n",
    "nModel                  = numel(model);\n",
    "\n",
    "for iChoiceMech = 1:nChoiceMech\n",
    "    for iStopMech = 1:nStopMech\n",
    "        for iModel = 1:nModel\n",
    "            job_spec_x0base(subj,trialVar,optimScope,choiceMech{iChoiceMech},stopMech{iStopMech},model(iModel),fileStr,x0Base,doPlot,doSave,doStartParCluster);\n",
    "        end\n",
    "    end\n",
    "end\n",
    "\n",
    "choiceMech  = {'li'}\n",
    "model       = [1 2 5 13 6 10 23 33 11 20 34];\n",
    "\n",
    "nChoiceMech             = numel(choiceMech);\n",
    "nStopMech               = numel(stopMech);\n",
    "nModel                  = numel(model);\n",
    "\n",
    "for iChoiceMech = 1:nChoiceMech\n",
    "    for iStopMech = 1:nStopMech\n",
    "        for iModel = 1:nModel\n",
    "            job_spec_x0base(subj,trialVar,optimScope,choiceMech{iChoiceMech},stopMech{iStopMech},model(iModel),fileStr,x0Base,doPlot,doSave,doStartParCluster);\n",
    "        end\n",
    "    end\n",
    "end"
   ]
  },
  {
   "cell_type": "markdown",
   "metadata": {},
   "source": [
    "##### Step 4.3 - Build model-specific SAM structure"
   ]
  },
  {
   "cell_type": "markdown",
   "metadata": {},
   "source": [
    "_Goal_:  \n",
    "to specify modeling settings that are specific to each model variant\n",
    "\n",
    "_Instruction_:  \n",
    "Paste into MATLAB  \n",
    "\n",
    "_Output_:  \n",
    "`SAM_allTrials_model%.3d.mat`"
   ]
  },
  {
   "cell_type": "code",
   "execution_count": null,
   "metadata": {
    "collapsed": true
   },
   "outputs": [],
   "source": [
    "%%matlab\n",
    "subj                    = 1; %1:2; 8:13;\n",
    "dt                      = 20;\n",
    "trialVar                = false;\n",
    "optimScope              = 'all';\n",
    "choiceMech              = {'race'};\n",
    "stopMech                = {'race','bi','li'};\n",
    "model                   = [2,5,13,10,23,33];\n",
    "fileStr.root            = '/Volumes/HD-1/Users/paulmiddlebrooks/perceptualchoice_stop_model/data/2015-11-28-1842/preproc01/subj%.2d/dt%d/%s/%s/';\n",
    "\n",
    "nChoiceMech             = numel(choiceMech);\n",
    "nStopMech               = numel(stopMech);\n",
    "\n",
    "for iChoiceMech = 1:nChoiceMech\n",
    "    for iStopMech = 1:nStopMech\n",
    "        job_spec_sam_model(subj,dt,trialVar,optimScope,choiceMech{iChoiceMech},stopMech{iStopMech},model,fileStr);\n",
    "    end\n",
    "end\n",
    "\n",
    "choiceMech              = {'ffi'};\n",
    "nChoiceMech             = numel(choiceMech);\n",
    "model                   = [1 2 5 13 7 10 23 33 12 21 35];\n",
    "for iChoiceMech = 1:numel(choiceMech)\n",
    "    for iStopMech = 1:nStopMech\n",
    "        job_spec_sam_model(subj,dt,trialVar,optimScope,choiceMech{iChoiceMech},stopMech{iStopMech},model,fileStr);\n",
    "    end\n",
    "end\n",
    "\n",
    "choiceMech              = {'li'};\n",
    "nChoiceMech             = numel(choiceMech);\n",
    "model                   = [1 2 5 13 6 10 23 33 11 20 34];\n",
    "for iChoiceMech = 1:numel(choiceMech)\n",
    "    for iStopMech = 1:nStopMech\n",
    "        job_spec_sam_model(subj,dt,trialVar,optimScope,choiceMech{iChoiceMech},stopMech{iStopMech},model,fileStr);\n",
    "    end\n",
    "end"
   ]
  },
  {
   "cell_type": "markdown",
   "metadata": {},
   "source": [
    "##### Step 4.4 - Automatic optimization of GO and STOP parameters"
   ]
  },
  {
   "cell_type": "markdown",
   "metadata": {},
   "source": [
    "_Goal_:  \n",
    "Find best-fitting GO and STOP parameters using constrained Simplex algorithm\n",
    "\n",
    "_Instruction_:  \n",
    "Run the bash script `exe_job_optim_x.sh` on ACCRE\n",
    "\n",
    "_Output_:  \n",
    "`finalLog_allTrials_model%.3d_startVal%.3d_started%s.mat`  \n",
    "`fValAndBestX_allpTrials_model%.3d_startVal%.3d_exit%.1d_started%s.mat`  \n",
    "`SAM_allTrials_model%.3d_startVal%.3d_exit%.1d_started%s.mat`  "
   ]
  },
  {
   "cell_type": "code",
   "execution_count": null,
   "metadata": {
    "collapsed": true
   },
   "outputs": [],
   "source": [
    "#!/bin/bash\n",
    "# \n",
    "# exe_job_optim_x.txt \n",
    "# \n",
    "# N.B. Make sure that file's permissions allow others to execute this file  (e.g. 'chmod 755')\n",
    "# N.B. Make sure that you update path strings and PBS .txt-file below\n",
    "\n",
    "pathStr=\"/scratch/middlepg/perceptualchoice_stop_model/data/2015-11-28-1842/subj%.2d/dt%d/%s/%s/SAM_%sTrials_model%.3d.mat\";\n",
    "\n",
    "# Optimization scope\n",
    "optimScope=\"all\";\n",
    "\n",
    "# Time step\n",
    "dt=\"20\";\n",
    "\n",
    "# Trial variability tag (for starting point, non-decision time, and rate)\n",
    "trialVar=\"notrialvar\";\n",
    "\n",
    "# Model architectures\n",
    "modelArch=\"crace_irace crace_ibi crace_ili\";\n",
    "\n",
    "# Model variants\n",
    "model=\"9\";\n",
    "\n",
    "# Subject\n",
    "subject=\"1\";\n",
    "\n",
    "# PBS Settings\n",
    "WALLTIME=\"10:00:00\";\n",
    "PPN=\"4\";\n",
    "MEM=\"12000\";\n",
    "\n",
    "for iModelArch in `echo $modelArch`\n",
    "do\n",
    "\tfor iModel in `echo $model`\n",
    "\tdo\n",
    "\t\tfor iSubj in `echo $subject`\n",
    "\t\tdo\n",
    "\t\t\tfor iStartVal in {1..1}\n",
    "\t\t\tdo\n",
    "\t\t\t\tqsub -l walltime=`echo $WALLTIME` -l nodes=1:ppn=`echo $PPN` -l mem=`echo \"$MEM\"mb` -v pathStr=`echo \"$pathStr\"`,subject=`echo \"$iSubj\"`,optimScope=`echo \"$optimScope\"`,dt=`echo \"$dt\"`,trialVar=`echo \"$trialVar\"`,modelArch=`echo \"$iModelArch\"`,iModel=`echo \"$iModel\"`,iStartVal=`echo \"$iStartVal\"`,processorsPerNode=`echo \"$PPN\"` /scratch/zandbeb/perceptualchoice_stop_model/src/code/2015-11-28-1842/pbs/pbs_job_optim_x.txt\n",
    "\t\t\tdone\n",
    "\t\tdone\n",
    "\tdone\t\t\n",
    "done    \n"
   ]
  },
  {
   "cell_type": "markdown",
   "metadata": {},
   "source": [
    "##### Step 4.5 - Merge optimization files\n"
   ]
  },
  {
   "cell_type": "markdown",
   "metadata": {},
   "source": [
    "_Goal_:  \n",
    "Make one file containing minimized cost function value and best-fitting parameters\n",
    "\n",
    "_Instruction_:  \n",
    "Paste into MATLAB\n",
    "\n",
    "_Output_:  \n",
    "`allFValAndBestX_allTrials_model%.3d.txt`"
   ]
  },
  {
   "cell_type": "code",
   "execution_count": null,
   "metadata": {
    "collapsed": true
   },
   "outputs": [],
   "source": [
    "%%matlab\n",
    "subj        = 1; % 1:2;\n",
    "dt          = 20;\n",
    "trialVar    = false;\n",
    "optimScope  = 'all';\n",
    "choiceMech  = {'race'};\n",
    "stopMech    = {'race','bi','li'};\n",
    "model       = [9];\n",
    "\n",
    "nChoiceMech = numel(choiceMech);\n",
    "nStopMech   = numel(stopMech);\n",
    "\n",
    "fileStr.root = '/Volumes/HD-1/Users/paulmiddlebrooks/perceptualchoice_stop_model/data/2015-11-28-1842/preproc01/subj%.2d/dt%d/%s/%s/';\n",
    "fileStr.output = 'allFValAndBestX_%sTrials_model%.3d.txt';\n",
    "\n",
    "for iChoiceMech = 1:nChoiceMech\n",
    "    for iStopMech = 1:nStopMech\n",
    "        job_merge_fvalandbestx(subj,dt,trialVar,optimScope,choiceMech{iChoiceMech},stopMech{iStopMech},model,fileStr);\n",
    "    end\n",
    "end\n",
    "\n",
    "choiceMech  = {'ffi'};\n",
    "model       = [1 2 5 13 7 10 23 33 12 21 35];\n",
    "\n",
    "for iChoiceMech = 1:numel(choiceMech)\n",
    "    for iStopMech = 1:nStopMech\n",
    "        job_merge_fvalandbestx(subj,dt,trialVar,optimScope,choiceMech{iChoiceMech},stopMech{iStopMech},model,fileStr);\n",
    "    end\n",
    "end\n",
    "\n",
    "choiceMech  = {'li'};\n",
    "model       = [1 2 5 13 6 10 23 33 11 20 34];\n",
    "\n",
    "for iChoiceMech = 1:numel(choiceMech)\n",
    "    for iStopMech = 1:nStopMech\n",
    "        job_merge_fvalandbestx(subj,dt,trialVar,optimScope,choiceMech{iChoiceMech},stopMech{iStopMech},model,fileStr);\n",
    "    end\n",
    "end"
   ]
  },
  {
   "cell_type": "markdown",
   "metadata": {},
   "source": [
    "# Step 5 - Optimize GO and STOP parameters at 1-ms resolution\n"
   ]
  },
  {
   "cell_type": "markdown",
   "metadata": {},
   "source": [
    "This involves fitting the go and stop trials. The GO and STOP parameters start at the best-fitting values from Step 4."
   ]
  },
  {
   "cell_type": "markdown",
   "metadata": {},
   "source": [
    "##### Step 5.1 - Build the general SAM structure"
   ]
  },
  {
   "cell_type": "markdown",
   "metadata": {},
   "source": [
    "_Goal_:  \n",
    "Specify general settings, including details about the experiment, model, simulation, and optimization.\n",
    "\n",
    "_Instruction_:  \n",
    "Paste into MATLAB\n",
    "\n",
    "_Output_:  \n",
    "`SAM_allTrials.mat`"
   ]
  },
  {
   "cell_type": "code",
   "execution_count": null,
   "metadata": {
    "collapsed": true
   },
   "outputs": [],
   "source": [
    "%%matlab\n",
    "subj                    = 1; %1:2;\n",
    "dt                      = 1;\n",
    "trialVar                = false;\n",
    "optimScope              = 'all';\n",
    "choiceMech              = {'race','ffi','li'};\n",
    "stopMech                = {'race','bi','li'};\n",
    "fileStr.rawDataDir      = '/Volumes/HD-1/Users/paulmiddlebrooks/perceptualchoice_stop_model/data/raw/';\n",
    "fileStr.preprocDataDir  = '/Volumes/HD-1/Users/paulmiddlebrooks/perceptualchoice_stop_model/data/2015-11-28-1842/preproc01/';\n",
    "load(fullfile(fileStr.preprocDataDir,'rngStruct.mat'),'rngStruct');\n",
    "\n",
    "nChoiceMech             = numel(choiceMech);\n",
    "nStopMech               = numel(stopMech);\n",
    "\n",
    "for iChoiceMech = 1:nChoiceMech\n",
    "    for iStopMech = 1:nStopMech\n",
    "        job_spec_sam_general(subj,dt,trialVar,optimScope,choiceMech{iChoiceMech},stopMech{iStopMech},rngStruct,fileStr);\n",
    "    end\n",
    "end"
   ]
  },
  {
   "cell_type": "markdown",
   "metadata": {},
   "source": [
    "##### Step 5.2 - Extract best-fitting GO and STOP parameters at 20 ms resolution"
   ]
  },
  {
   "cell_type": "code",
   "execution_count": null,
   "metadata": {
    "collapsed": true
   },
   "outputs": [],
   "source": [
    "%%matlab\n",
    "subj                    = 1; %1:2;\n",
    "trialVar                = false;\n",
    "optimScope              = 'all';\n",
    "choiceMech              = {'race'};\n",
    "stopMech                = {'race','bi','li'};\n",
    "model                   = [2,5,13,10,23,33];\n",
    "fileStr.root            = '/Volumes/HD-1/Users/paulmiddlebrooks/perceptualchoice_stop_model/data/2015-11-28-1842/preproc01/subj%.2d/dt1/%s/%s/';\n",
    "fileStr.bestXSTOP       = '/Volumes/HD-1/Users/paulmiddlebrooks/perceptualchoice_stop_model/data/2015-11-28-1842/preproc01/subj%.2d/dt20/%s/%s/allFValAndBestX_allTrials_model%.3d.txt';\n",
    "x0Base                  = {};\n",
    "doPlot                  = false;\n",
    "doSave                  = true;\n",
    "doStartParCluster       = false;\n",
    "\n",
    "nChoiceMech             = numel(choiceMech);\n",
    "nStopMech               = numel(stopMech);\n",
    "nModel                  = numel(model);\n",
    "\n",
    "for iChoiceMech = 1:nChoiceMech\n",
    "    for iStopMech = 1:nStopMech\n",
    "        for iModel = 1:nModel\n",
    "            job_spec_x0base(subj,trialVar,optimScope,choiceMech{iChoiceMech},stopMech{iStopMech},model(iModel),fileStr,x0Base,doPlot,doSave,doStartParCluster);\n",
    "        end\n",
    "    end\n",
    "end\n",
    "\n",
    "choiceMech  = {'ffi'};\n",
    "model       = [1 2 5 13 7 10 23 33 12 21 35];\n",
    "\n",
    "nChoiceMech             = numel(choiceMech);\n",
    "nStopMech               = numel(stopMech);\n",
    "nModel                  = numel(model);\n",
    "\n",
    "for iChoiceMech = 1:nChoiceMech\n",
    "    for iStopMech = 1:nStopMech\n",
    "        for iModel = 1:nModel\n",
    "            job_spec_x0base(subj,trialVar,optimScope,choiceMech{iChoiceMech},stopMech{iStopMech},model(iModel),fileStr,x0Base,doPlot,doSave,doStartParCluster);\n",
    "        end\n",
    "    end\n",
    "end\n",
    "\n",
    "choiceMech  = {'li'}\n",
    "model       = [1 2 5 13 6 10 23 33 11 20 34];\n",
    "\n",
    "nChoiceMech             = numel(choiceMech);\n",
    "nStopMech               = numel(stopMech);\n",
    "nModel                  = numel(model);\n",
    "\n",
    "for iChoiceMech = 1:nChoiceMech\n",
    "    for iStopMech = 1:nStopMech\n",
    "        for iModel = 1:nModel\n",
    "            job_spec_x0base(subj,trialVar,optimScope,choiceMech{iChoiceMech},stopMech{iStopMech},model(iModel),fileStr,x0Base,doPlot,doSave,doStartParCluster);\n",
    "        end\n",
    "    end\n",
    "end"
   ]
  },
  {
   "cell_type": "markdown",
   "metadata": {},
   "source": [
    "##### Step 5.3 - Build model-specific SAM structure"
   ]
  },
  {
   "cell_type": "markdown",
   "metadata": {},
   "source": [
    "_Goal_:  \n",
    "to specify modeling settings that are specific to each model variant\n",
    "\n",
    "_Instruction_:  \n",
    "Paste into MATLAB  \n",
    "\n",
    "_Output_:  \n",
    "`SAM_allTrials_model%.3d.mat`"
   ]
  },
  {
   "cell_type": "code",
   "execution_count": null,
   "metadata": {
    "collapsed": true
   },
   "outputs": [],
   "source": [
    "%%matlab\n",
    "subj                    = 1; %1:2; 8:13;\n",
    "dt                      = 1;\n",
    "trialVar                = false;\n",
    "optimScope              = 'all';\n",
    "choiceMech              = {'race'};\n",
    "stopMech                = {'race','bi','li'};\n",
    "model                   = [2,5,13,10,23,33];\n",
    "fileStr.root            = '/Volumes/HD-1/Users/paulmiddlebrooks/perceptualchoice_stop_model/data/2015-11-28-1842/preproc01/subj%.2d/dt%d/%s/%s/';\n",
    "\n",
    "nChoiceMech             = numel(choiceMech);\n",
    "nStopMech               = numel(stopMech);\n",
    "\n",
    "for iChoiceMech = 1:nChoiceMech\n",
    "    for iStopMech = 1:nStopMech\n",
    "        job_spec_sam_model(subj,dt,trialVar,optimScope,choiceMech{iChoiceMech},stopMech{iStopMech},model,fileStr);\n",
    "    end\n",
    "end\n",
    "\n",
    "choiceMech              = {'ffi'};\n",
    "nChoiceMech             = numel(choiceMech);\n",
    "model                   = [1 2 5 13 7 10 23 33 12 21 35];\n",
    "for iChoiceMech = 1:numel(choiceMech)\n",
    "    for iStopMech = 1:nStopMech\n",
    "        job_spec_sam_model(subj,dt,trialVar,optimScope,choiceMech{iChoiceMech},stopMech{iStopMech},model,fileStr);\n",
    "    end\n",
    "end\n",
    "\n",
    "choiceMech              = {'li'};\n",
    "nChoiceMech             = numel(choiceMech);\n",
    "model                   = [1 2 5 13 6 10 23 33 11 20 34];\n",
    "for iChoiceMech = 1:numel(choiceMech)\n",
    "    for iStopMech = 1:nStopMech\n",
    "        job_spec_sam_model(subj,dt,trialVar,optimScope,choiceMech{iChoiceMech},stopMech{iStopMech},model,fileStr);\n",
    "    end\n",
    "end"
   ]
  },
  {
   "cell_type": "markdown",
   "metadata": {},
   "source": [
    "##### Step 5.4 - Automatic optimization of GO and STOP parameters\n"
   ]
  },
  {
   "cell_type": "markdown",
   "metadata": {},
   "source": [
    "_Goal_:  \n",
    "Find best-fitting GO and STOP parameters using constrained Simplex algorithm\n",
    "\n",
    "_Instruction_:  \n",
    "Run the bash script `exe_job_optim_x.sh` on ACCRE\n",
    "\n",
    "_Output_:  \n",
    "`finalLog_allTrials_model%.3d_startVal%.3d_started%s.mat`  \n",
    "`fValAndBestX_allpTrials_model%.3d_startVal%.3d_exit%.1d_started%s.mat`  \n",
    "`SAM_allTrials_model%.3d_startVal%.3d_exit%.1d_started%s.mat`  "
   ]
  },
  {
   "cell_type": "code",
   "execution_count": null,
   "metadata": {
    "collapsed": true
   },
   "outputs": [],
   "source": [
    "#!/bin/bash\n",
    "# \n",
    "# exe_job_optim_x.txt \n",
    "# \n",
    "# N.B. Make sure that file's permissions allow others to execute this file  (e.g. 'chmod 755')\n",
    "# N.B. Make sure that you update path strings and PBS .txt-file below\n",
    "\n",
    "pathStr=\"/scratch/middlepg/perceptualchoice_stop_model/data/2015-11-28-1842/subj%.2d/dt%d/%s/%s/SAM_%sTrials_model%.3d.mat\";\n",
    "\n",
    "# Optimization scope\n",
    "optimScope=\"all\";\n",
    "\n",
    "# Time step\n",
    "dt=\"1\";\n",
    "\n",
    "# Trial variability tag (for starting point, non-decision time, and rate)\n",
    "trialVar=\"notrialvar\";\n",
    "\n",
    "# Model architectures\n",
    "modelArch=\"crace_irace crace_ibi crace_ili\";\n",
    "\n",
    "# Model variants\n",
    "model=\"9\";\n",
    "\n",
    "# Subject\n",
    "subject=\"1\";\n",
    "\n",
    "# PBS Settings\n",
    "WALLTIME=\"10:00:00\";\n",
    "PPN=\"4\";\n",
    "MEM=\"12000\";\n",
    "\n",
    "for iModelArch in `echo $modelArch`\n",
    "do\n",
    "\tfor iModel in `echo $model`\n",
    "\tdo\n",
    "\t\tfor iSubj in `echo $subject`\n",
    "\t\tdo\n",
    "\t\t\tfor iStartVal in {1..1}\n",
    "\t\t\tdo\n",
    "\t\t\t\tqsub -l walltime=`echo $WALLTIME` -l nodes=1:ppn=`echo $PPN` -l mem=`echo \"$MEM\"mb` -v pathStr=`echo \"$pathStr\"`,subject=`echo \"$iSubj\"`,optimScope=`echo \"$optimScope\"`,dt=`echo \"$dt\"`,trialVar=`echo \"$trialVar\"`,modelArch=`echo \"$iModelArch\"`,iModel=`echo \"$iModel\"`,iStartVal=`echo \"$iStartVal\"`,processorsPerNode=`echo \"$PPN\"` /scratch/zandbeb/perceptualchoice_stop_model/src/code/2015-11-28-1842/pbs/pbs_job_optim_x.txt\n",
    "\t\t\tdone\n",
    "\t\tdone\n",
    "\tdone\t\t\n",
    "done    \n"
   ]
  },
  {
   "cell_type": "markdown",
   "metadata": {},
   "source": [
    "##### Step 5.5 - Merge optimization files\n"
   ]
  },
  {
   "cell_type": "markdown",
   "metadata": {},
   "source": [
    "_Goal_:  \n",
    "Make one file containing minimized cost function value and best-fitting parameters\n",
    "\n",
    "_Instruction_:  \n",
    "Paste into MATLAB\n",
    "\n",
    "_Output_:  \n",
    "`allFValAndBestX_allTrials_model%.3d.txt`"
   ]
  },
  {
   "cell_type": "code",
   "execution_count": null,
   "metadata": {
    "collapsed": true
   },
   "outputs": [],
   "source": [
    "%%matlab\n",
    "subj        = 1; % 1:2;\n",
    "dt          = 1;\n",
    "trialVar    = false;\n",
    "optimScope  = 'all';\n",
    "choiceMech  = {'race'};\n",
    "stopMech    = {'race','bi','li'};\n",
    "model       = [9];\n",
    "\n",
    "nChoiceMech = numel(choiceMech);\n",
    "nStopMech   = numel(stopMech);\n",
    "\n",
    "fileStr.root = '/Volumes/HD-1/Users/paulmiddlebrooks/perceptualchoice_stop_model/data/2015-11-28-1842/preproc01/subj%.2d/dt%d/%s/%s/';\n",
    "fileStr.output = 'allFValAndBestX_%sTrials_model%.3d.txt';\n",
    "\n",
    "for iChoiceMech = 1:nChoiceMech\n",
    "    for iStopMech = 1:nStopMech\n",
    "        job_merge_fvalandbestx(subj,dt,trialVar,optimScope,choiceMech{iChoiceMech},stopMech{iStopMech},model,fileStr);\n",
    "    end\n",
    "end\n",
    "\n",
    "choiceMech  = {'ffi'};\n",
    "model       = [1 2 5 13 7 10 23 33 12 21 35];\n",
    "\n",
    "for iChoiceMech = 1:numel(choiceMech)\n",
    "    for iStopMech = 1:nStopMech\n",
    "        job_merge_fvalandbestx(subj,dt,trialVar,optimScope,choiceMech{iChoiceMech},stopMech{iStopMech},model,fileStr);\n",
    "    end\n",
    "end\n",
    "\n",
    "choiceMech  = {'li'};\n",
    "model       = [1 2 5 13 6 10 23 33 11 20 34];\n",
    "\n",
    "for iChoiceMech = 1:numel(choiceMech)\n",
    "    for iStopMech = 1:nStopMech\n",
    "        job_merge_fvalandbestx(subj,dt,trialVar,optimScope,choiceMech{iChoiceMech},stopMech{iStopMech},model,fileStr);\n",
    "    end\n",
    "end"
   ]
  }
 ],
 "metadata": {
  "kernelspec": {
   "display_name": "Python 2",
   "language": "python",
   "name": "python2"
  },
  "language_info": {
   "codemirror_mode": {
    "name": "ipython",
    "version": 2
   },
   "file_extension": ".py",
   "mimetype": "text/x-python",
   "name": "python",
   "nbconvert_exporter": "python",
   "pygments_lexer": "ipython2",
   "version": "2.7.10"
  }
 },
 "nbformat": 4,
 "nbformat_minor": 0
}
