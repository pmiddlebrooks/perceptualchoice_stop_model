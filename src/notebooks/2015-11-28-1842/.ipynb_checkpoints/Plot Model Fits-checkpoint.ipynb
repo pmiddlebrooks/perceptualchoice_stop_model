{
 "cells": [
  {
   "cell_type": "markdown",
   "metadata": {},
   "source": [
    "##Plot goodness of fits\n"
   ]
  },
  {
   "cell_type": "code",
   "execution_count": null,
   "metadata": {
    "collapsed": true
   },
   "outputs": [],
   "source": [
    "%%matlab\n",
    "subject                 = 1;\n",
    "model                   = [49,99]\n",
    "%architecture            = {'crace_irace','crace_ibi','crace_ili','cffi_irace','cffi_ibi','cffi_ili','cli_irace','cli_ibi','cli_ili'};\n",
    "architecture            = {'crace','cli','cffi'};\n",
    "dt                      = 20;\n",
    "trialVar                = true;\n",
    "simScope                = 'go';\n",
    "%fileStr.root            = '/Volumes/SchallLab/Users/Bram/MultipleChoiceStopTaskModel/data/2014-07-31-1315/preproc01/subj%.2d/dt%d/%s/%s/';\n",
    "fileStr.root            = '/Volumes/HD-1/Users/paulmiddlebrooks/perceptual_choice_stop_model/data/2014-07-28-1550/preproc01/subj%.2d/dt%d/%s/%s/';\n",
    "\n",
    "plot_goodness_of_fit('chisquare',subject,model,architecture,dt,trialVar,simScope,fileStr);\n"
   ]
  },
  {
   "cell_type": "markdown",
   "metadata": {},
   "source": [
    "##Plot model fits\n"
   ]
  },
  {
   "cell_type": "code",
   "execution_count": null,
   "metadata": {
    "collapsed": true
   },
   "outputs": [],
   "source": [
    "%%matlab\n",
    "subject                 = 1;\n",
    "model                   = 49; %[49,99];\n",
    "architecture            = {'crace'}; %{'crace','cli','cffi'};\n",
    "dt                      = 20;\n",
    "trialVar                = true;\n",
    "simScope                = 'go';\n",
    "fileStr.root            = '/Volumes/HD-1/Users/paulmiddlebrooks/perceptual_choice_stop_model/data/2014-07-28-1550/preproc01/subj%.2d/dt%d/%s/%s/';\n",
    "plot_fits(subject,model,architecture,dt,trialVar,simScope,fileStr); \n"
   ]
  }
 ],
 "metadata": {
  "kernelspec": {
   "display_name": "Python 2",
   "language": "python",
   "name": "python2"
  },
  "language_info": {
   "codemirror_mode": {
    "name": "ipython",
    "version": 2
   },
   "file_extension": ".py",
   "mimetype": "text/x-python",
   "name": "python",
   "nbconvert_exporter": "python",
   "pygments_lexer": "ipython2",
   "version": "2.7.10"
  }
 },
 "nbformat": 4,
 "nbformat_minor": 0
}
