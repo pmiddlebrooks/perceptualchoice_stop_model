{
 "cells": [
  {
   "cell_type": "markdown",
   "metadata": {},
   "source": [
    "#Local: z0Response, zCResponse, vCondition\n",
    "\n",
    "x0Base is a cell array, containing one element per subject\n",
    "\n",
    "For each subject, `x0Base` contains twelve cells that correspond to the twelve parameter categories (`XCat`):\n",
    "1. `z0`     - starting point\n",
    "2. `zc`     - threshold\n",
    "3. `v`      - accumulation rate of target unit\n",
    "4. `ve`     - accumulation rate of non-target unit(s)\n",
    "5. `eta`    - between-trial variability in accumulation rate\n",
    "6. `t0`     - non-decision time\n",
    "7. `se`     - extrinsic noise\n",
    "8. `si`     - intrinsic noise\n",
    "9. `k`      - leakage constant\n",
    "10. `wliw`  - lateral inhibition weight, within class\n",
    "11. `wlib`  - lateral inhibition weight, between classes\n",
    "12. `wffiw` - feed-forward inhibition weight, within class\n",
    "\n",
    "The size of the vector in each of these cells depends on whether this parameter varies between stimuli, responses, and/or conditions (in this order). For example, if threshold should vary between conditions and there are three conditions, then the second cell should contain a vector with three elements:\n",
    "\n",
    "`x0Base{1}{2} = [90 100 110]; `\n",
    "\n",
    "Consider another example: Threshold is supposed to vary between responses (2 responses total) and conditions (3 conditions total). Now, the second cell should contain 2 * 3 = 6 elements. \n",
    "\n",
    "\n",
    "In other words, Factorial design in which condition is the slowest rotating factor, followed by response, and stimulus"
   ]
  },
  {
   "cell_type": "code",
   "execution_count": null,
   "metadata": {
    "collapsed": true
   },
   "outputs": [],
   "source": [
    "%%matlab\n",
    "accreRoot = '/gpfs22';\n",
    "accreHome = '/home/middlepg';\n",
    "accreScratch = '/scratch/middlepg';\n",
    "if isdir(fullfile(accreScratch))\n",
    "    matRoot = fullfile(accreRoot,accreHome,'m-files');\n",
    "    modelRoot = fullfile(accreScratch,'perceptualchoice_stop_model');\n",
    "    environ = 'accre';\n",
    "else\n",
    "    matRoot = '/Volumes/HD-1/Users/paulmiddlebrooks/matlab';\n",
    "    modelRoot = '/Volumes/HD-1/Users/paulmiddlebrooks/perceptualchoice_stop_model';\n",
    "    environ = 'local';\n",
    "end\n",
    "\n",
    "addpath(genpath(fullfile(matRoot,'sam')));\n",
    "addpath(genpath(fullfile(matRoot,'matlab_code_bbz')));\n",
    "addpath(genpath(fullfile(matRoot,'matlab_file_exchange_tools')));\n",
    "addpath(genpath(fullfile(matRoot,'cmtb')));\n",
    "addpath(genpath(fullfile(modelRoot,'src/code/2015-12-17-1312')));\n"
   ]
  },
  {
   "cell_type": "markdown",
   "metadata": {},
   "source": [
    "\n",
    "##_Race_,  _trialVar_ = true"
   ]
  },
  {
   "cell_type": "code",
   "execution_count": null,
   "metadata": {
    "collapsed": false
   },
   "outputs": [],
   "source": [
    "subj                    = 1;\n",
    "model                   = 167;% %[60,167,137];\n",
    "trialVar                = true;\n",
    "simScope                = 'go';\n",
    "choiceMech              = 'race';\n",
    "stopMech                = 'none';\n",
    "fileStr.root            = strcat(modelRoot,'/data/2015-12-17-1312/preproc01/subj%.2d/dt20/%s/%s/');\n",
    "doPlot                  = true;\n",
    "doSave                  = true;\n",
    "doStartParCluster       = false;\n",
    "\n",
    "for iModel = model\n",
    "    switch iModel\n",
    "        case 60\n",
    "            % Starting point varies between responses, Drift rate varies between conditions\n",
    "            x0Base{1}  = [{[42 33]} {[75]}  {[0.2 0.19 0.18]} {[0.06 0.06 0.06]}  {0} {30}  {0} {1} {-0.001} {0} {0} {0}];\n",
    "        case 167\n",
    "            % Starting point and non-decision time varies between responses, Drift rate varies between conditions\n",
    "            x0Base{1}  = [{[42 38]} {[75]}  {[0.2 0.19 0.18]} {[0.06 0.06 0.06]}  {0} {[30 150]}  {0} {1} {-0.001} {0} {0} {0}];\n",
    "        case 137\n",
    "            % Starting point and threshold varies between responses, Drift rate varies between conditions\n",
    "            x0Base{1}  = [{[30 25]} {[60 70]}  {[0.18 0.17 0.16]} {[0.07 0.07 0.07]}  {0} {35}  {0} {1} {-0.001} {0} {0} {0}];\n",
    "    end\n",
    "    \n",
    "    % Specify the initial set of parameter and save/plot, if required\n",
    "    job_spec_x0base(subj,trialVar,simScope,choiceMech,stopMech,iModel,fileStr,x0Base,doPlot,doSave,doStartParCluster);\n",
    "end\n"
   ]
  },
  {
   "cell_type": "markdown",
   "metadata": {},
   "source": [
    "##_Lateral Inhibition_, _trialVar_ = true"
   ]
  },
  {
   "cell_type": "code",
   "execution_count": null,
   "metadata": {
    "collapsed": true
   },
   "outputs": [],
   "source": [
    "subj                    = 1;\n",
    "model                   = [49,99]; %[49,99];\n",
    "trialVar                = true;\n",
    "simScope                = 'go';\n",
    "choiceMech              = 'li';\n",
    "stopMech                = 'none';\n",
    "fileStr.root            = strcat(modelRoot,'/data/2015-12-17-1312/preproc01/subj%.2d/dt20/%s/%s/');\n",
    "doPlot                  = false;\n",
    "doSave                  = true;\n",
    "doStartParCluster       = false;\n",
    "\n",
    "for iModel = model\n",
    "    switch iModel\n",
    "        case 49\n",
    "            % Starting point varies between responses, Drift rate varies between conditions\n",
    "            x0Base{1}  = [{[35 16]} {[70]}  {[0.24 0.22 0.2]} {[0.19 0.19 0.19]}  {0} {40}  {0} {1} {-0.001} {-.01} {0} {0}];\n",
    "        case 99\n",
    "            % Starting point and threshold varies between responses, Drift rate varies between conditions\n",
    "            x0Base{1}  = [{[41 19]} {[83 80]}  {[0.27 0.25 0.22]} {[0.21 0.21 0.21]}  {0} {40}  {0} {1} {-0.00} {-.01} {0} {0}];\n",
    "    end\n",
    "    \n",
    "    % Specify the initial set of parameter and save/plot, if required\n",
    "    job_spec_x0base(subj,trialVar,simScope,choiceMech,stopMech,iModel,fileStr,x0Base,doPlot,doSave,doStartParCluster);\n",
    "\n",
    "end\n"
   ]
  },
  {
   "cell_type": "markdown",
   "metadata": {},
   "source": [
    "##_Feedforward Inhibition_,  _trialVar_ = true"
   ]
  },
  {
   "cell_type": "code",
   "execution_count": null,
   "metadata": {
    "collapsed": false
   },
   "outputs": [],
   "source": [
    "subj                    = 1;\n",
    "model                   = [49,99]; %[49,99];\n",
    "trialVar                = true;\n",
    "simScope                = 'go';\n",
    "choiceMech              = 'ffi';\n",
    "stopMech                = 'none';\n",
    "fileStr.root            = strcat(modelRoot,'/data/2015-12-17-1312/preproc01/subj%.2d/dt20/%s/%s/');\n",
    "doPlot                  = false;\n",
    "doSave                  = true;\n",
    "doStartParCluster       = false;\n",
    "\n",
    "for iModel = model\n",
    "    switch iModel\n",
    "        case 49\n",
    "            % Starting point varies between responses, Drift rate varies between conditions\n",
    "            x0Base{1}  = [{[47 24]} {[75]}  {[0.23 0.21 0.19]} {[0.17 0.17 0.17]}  {0} {30}  {0} {1} {-0.001} {0} {0} {-.15}];\n",
    "        case 99\n",
    "            % Starting point and threshold varies between responses, Drift rate varies between conditions\n",
    "            x0Base{1}  = [{[39 25]} {[72 78]}  {[0.24 0.22 0.2]} {[0.19 0.19 0.19]}  {0} {30}  {0} {1} {-0.001} {0} {0} {-.15}];\n",
    "    end\n",
    "    \n",
    "    % Specify the initial set of parameter and save/plot, if required\n",
    "    job_spec_x0base(subj,trialVar,simScope,choiceMech,stopMech,iModel,fileStr,x0Base,doPlot,doSave,doStartParCluster);\n",
    "\n",
    "end\n"
   ]
  }
 ],
 "metadata": {
  "kernelspec": {
   "display_name": "Python 2",
   "language": "python",
   "name": "python2"
  },
  "language_info": {
   "codemirror_mode": {
    "name": "ipython",
    "version": 2
   },
   "file_extension": ".py",
   "mimetype": "text/x-python",
   "name": "python",
   "nbconvert_exporter": "python",
   "pygments_lexer": "ipython2",
   "version": "2.7.10"
  }
 },
 "nbformat": 4,
 "nbformat_minor": 0
}
