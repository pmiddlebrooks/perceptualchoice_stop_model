{
 "cells": [
  {
   "cell_type": "markdown",
   "metadata": {},
   "source": [
    "##Plot goodness of fits\n"
   ]
  },
  {
   "cell_type": "code",
   "execution_count": null,
   "metadata": {
    "collapsed": true
   },
   "outputs": [],
   "source": [
    "%%matlab\n",
    "subject                 = 1;\n",
    "model                   = [60 137 167]\n",
    "%architecture            = {'crace_irace','crace_ibi','crace_ili','cffi_irace','cffi_ibi','cffi_ili','cli_irace','cli_ibi','cli_ili'};\n",
    "architecture            = {'crace','cli','cffi'};\n",
    "dt                      = 10;\n",
    "trialVar                = true;\n",
    "simScope                = 'go';\n",
    "fileStr.root            = '/Volumes/HD-1/Users/paulmiddlebrooks/perceptualchoice_stop_model/data/2015-12-23-1100/preproc01/subj%.2d/dt%d/%s/%s/';\n",
    "\n",
    "plot_goodness_of_fit('chisquare',subject,model,architecture,dt,trialVar,simScope,fileStr);\n"
   ]
  },
  {
   "cell_type": "markdown",
   "metadata": {},
   "source": [
    "##Plot model fits: GO\n"
   ]
  },
  {
   "cell_type": "code",
   "execution_count": null,
   "metadata": {
    "collapsed": true
   },
   "outputs": [],
   "source": [
    "%%matlab\n",
    "subject                 = 1;\n",
    "model                   = [60 137 167];\n",
    "architecture            = {'crace','cli','cffi'}; %{'crace','cli','cffi'};\n",
    "dt                      = 10;\n",
    "trialVar                = true;\n",
    "fileStr.root            = '/Volumes/HD-1/Users/paulmiddlebrooks/perceptualchoice_stop_model/data/2015-12-23-1100/preproc01/subj%.2d/dt%d/%s/%s/';\n",
    "fileStr.src             = '/Volumes/HD-1/Users/paulmiddlebrooks/perceptualchoice_stop_model/src/code/2015-12-23-1100/matlab/';\n",
    "fileStr.result          = '/Volumes/HD-1/Users/paulmiddlebrooks/perceptualchoice_stop_model/results/2015-12-23-1100/subj%.2d/dt%d/%s/%s/';\n",
    "responseSide            = {'right','left','both'};\n",
    "accuracy                = 'both';\n",
    "savePlot                = true;\n",
    "\n",
    "cd(fileStr.src)\n",
    "for iRsp = 1 : length(responseSide)\n",
    "    respSide = responseSide{iRsp};\n",
    "    plot_fits_go(subject,model,architecture,dt,trialVar,fileStr,respSide,accuracy,savePlot); \n",
    "end\n"
   ]
  },
  {
   "cell_type": "markdown",
   "metadata": {},
   "source": [
    "## Print model fit parameters"
   ]
  },
  {
   "cell_type": "code",
   "execution_count": null,
   "metadata": {
    "collapsed": true
   },
   "outputs": [],
   "source": [
    "subject                 = 1;\n",
    "model                   = [60 137 167];\n",
    "architecture            = {'crace','cli','cffi'}; %{'crace','cli','cffi'};\n",
    "dt                      = 10;\n",
    "trialVar                = true;\n",
    "fileStr.root            = '/Volumes/HD-1/Users/paulmiddlebrooks/perceptualchoice_stop_model/data/2015-12-23-1100/preproc01/subj%.2d/dt%d/%s/%s/';\n",
    "fileStr.src             = '/Volumes/HD-1/Users/paulmiddlebrooks/perceptualchoice_stop_model/src/code/2015-12-23-1100/matlab/';\n",
    "fileStr.result          = '/Volumes/HD-1/Users/paulmiddlebrooks/perceptualchoice_stop_model/results/2015-12-23-1100/subj%.2d/dt%d/%s/%s/';\n",
    "responseSide            = {'right'};\n",
    "accuracy                = 'correct';\n",
    "savePlot                = true;\n",
    "\n",
    "cd(fileStr.src)\n",
    "for iRsp = 1 : length(responseSide)\n",
    "    respSide = responseSide{iRsp};\n",
    "    plot_simulation(subject,model,architecture,dt,trialVar,fileStr,savePlot); \n",
    "end\n"
   ]
  },
  {
   "cell_type": "markdown",
   "metadata": {},
   "source": [
    "##Plot model fits: GO and STOP\n"
   ]
  },
  {
   "cell_type": "code",
   "execution_count": null,
   "metadata": {
    "collapsed": true
   },
   "outputs": [],
   "source": [
    "%%matlab\n",
    "subject                 = 1;\n",
    "model                   = [60 137 167];\n",
    "architecture            = {'crace'}; %{'crace','cli','cffi'}; %{'crace','cli','cffi'};\n",
    "dt                      = 10;\n",
    "trialVar                = true;\n",
    "simScope                = 'go';\n",
    "fileStr.root            = '/Volumes/HD-1/Users/paulmiddlebrooks/perceptualchoice_stop_model/data/2015-12-23-1100/preproc01/subj%.2d/dt%d/%s/%s/';\n",
    "fileStr.src             = '/Volumes/HD-1/Users/paulmiddlebrooks/perceptualchoice_stop_model/src/code/2015-12-23-1100/matlab/';\n",
    "fileStr.result          = '/Volumes/HD-1/Users/paulmiddlebrooks/perceptualchoice_stop_model/results/2015-12-23-1100/subj%.2d/dt%d/%s/%s/';\n",
    "responseSide            = 'right';\n",
    "accuracy                = 'correct';\n",
    "savePlot                = true;\n",
    "\n",
    "cd(fileStr.src)\n",
    "\n",
    "plot_fits(subject,model,architecture,dt,trialVar,simScope,fileStr,responseSide,accuracy,savePlot); \n"
   ]
  }
 ],
 "metadata": {
  "kernelspec": {
   "display_name": "Python 2",
   "language": "python",
   "name": "python2"
  },
  "language_info": {
   "codemirror_mode": {
    "name": "ipython",
    "version": 2
   },
   "file_extension": ".py",
   "mimetype": "text/x-python",
   "name": "python",
   "nbconvert_exporter": "python",
   "pygments_lexer": "ipython2",
   "version": "2.7.10"
  }
 },
 "nbformat": 4,
 "nbformat_minor": 0
}
