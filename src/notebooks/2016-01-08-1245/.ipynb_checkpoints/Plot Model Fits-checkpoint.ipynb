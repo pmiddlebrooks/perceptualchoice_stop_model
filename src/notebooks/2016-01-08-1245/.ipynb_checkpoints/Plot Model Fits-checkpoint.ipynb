{
 "cells": [
  {
   "cell_type": "markdown",
   "metadata": {},
   "source": [
    "##Plot goodness of fits\n"
   ]
  },
  {
   "cell_type": "code",
   "execution_count": null,
   "metadata": {
    "collapsed": true
   },
   "outputs": [],
   "source": [
    "%%matlab\n",
    "subject                 = 1;\n",
    "model                   = [60 137 167]\n",
    "%architecture            = {'crace_irace','crace_ibi','crace_ili','cffi_irace','cffi_ibi','cffi_ili','cli_irace','cli_ibi','cli_ili'};\n",
    "architecture            = {'crace','cli','cffi'};\n",
    "dt                      = 10;\n",
    "trialVar                = true;\n",
    "simScope                = 'go';\n",
    "%fileStr.root            = '/Volumes/SchallLab/Users/Bram/MultipleChoiceStopTaskModel/data/2015-12-23-1100/preproc01/subj%.2d/dt%d/%s/%s/';\n",
    "fileStr.root            = '/Volumes/HD-1/Users/paulmiddlebrooks/perceptualchoice_stop_model/data/2015-12-23-1100/preproc01/subj%.2d/dt%d/%s/%s/';\n",
    "\n",
    "plot_goodness_of_fit('chisquare',subject,model,architecture,dt,trialVar,simScope,fileStr);\n"
   ]
  },
  {
   "cell_type": "markdown",
   "metadata": {},
   "source": [
    "##Plot model fits\n"
   ]
  },
  {
   "cell_type": "code",
   "execution_count": null,
   "metadata": {
    "collapsed": true
   },
   "outputs": [],
   "source": [
    "%%matlab\n",
    "subject                 = 1;\n",
    "model                   = [60 137 167];\n",
    "architecture            = {'crace','cli','cffi'}; %{'crace','cli','cffi'};\n",
    "dt                      = 10;\n",
    "trialVar                = true;\n",
    "simScope                = 'go';\n",
    "fileStr.root            = '/Volumes/HD-1/Users/paulmiddlebrooks/perceptualchoice_stop_model/data/2016-01-08-1245/preproc01/subj%.2d/dt%d/%s/%s/';\n",
    "savePlot                = false;\n",
    "plot_fits(subject,model,architecture,dt,trialVar,simScope,fileStr,savePlot); \n"
   ]
  }
 ],
 "metadata": {
  "kernelspec": {
   "display_name": "Python 2",
   "language": "python",
   "name": "python2"
  },
  "language_info": {
   "codemirror_mode": {
    "name": "ipython",
    "version": 2
   },
   "file_extension": ".py",
   "mimetype": "text/x-python",
   "name": "python",
   "nbconvert_exporter": "python",
   "pygments_lexer": "ipython2",
   "version": "2.7.10"
  }
 },
 "nbformat": 4,
 "nbformat_minor": 0
}
