{
 "cells": [
  {
   "cell_type": "markdown",
   "metadata": {},
   "source": [
    "# Step 1 - Simulate data and save as obs"
   ]
  },
  {
   "cell_type": "markdown",
   "metadata": {},
   "source": [
    "###IN ACCRE, Checkout the right commit of source codes (matlab and slurm scripts)"
   ]
  },
  {
   "cell_type": "markdown",
   "metadata": {},
   "source": [
    "####If running a present experiment, update to the latest code:"
   ]
  },
  {
   "cell_type": "code",
   "execution_count": null,
   "metadata": {
    "collapsed": true
   },
   "outputs": [],
   "source": [
    "# Check out analysis code\n",
    "cd /scratch/middlepg/perceptualchoice_stop_model/\n",
    "\n",
    "\n",
    "git pull\n",
    "\n",
    "# or\n",
    "\n",
    "git fetch --all\n",
    "# then\n",
    "git reset --hard origin/master\n"
   ]
  },
  {
   "cell_type": "markdown",
   "metadata": {},
   "source": [
    "####If re-running a past experiment, update to the correct commit (to be filled in by experimenter after updating):\n"
   ]
  },
  {
   "cell_type": "code",
   "execution_count": null,
   "metadata": {
    "collapsed": true
   },
   "outputs": [],
   "source": [
    "#Check out analysis code\n",
    "cd /scratch/middlepg/perceptualchoice_stop_model/\n",
    "git checkout 28e2aacf00973c007a2f22472fc03af53983a173 \n",
    "git checkout master;\n"
   ]
  },
  {
   "cell_type": "markdown",
   "metadata": {},
   "source": [
    "##### Step 1.1 - Add paths to MATLAB's search path"
   ]
  },
  {
   "cell_type": "markdown",
   "metadata": {},
   "source": [
    "_Goal_:  \n",
    "Ensure access to SAM toolbox and job code\n",
    "\n",
    "_Instructions_:  \n",
    "Paste code into MATLAB\n",
    "\n",
    "_Output_:  \n",
    "None"
   ]
  },
  {
   "cell_type": "code",
   "execution_count": 2,
   "metadata": {
    "collapsed": false
   },
   "outputs": [
    {
     "name": "stderr",
     "output_type": "stream",
     "text": [
      "ERROR: Cell magic `%%matlab` not found.\n"
     ]
    }
   ],
   "source": [
    "%%matlab\n",
    "accreRoot = '/gpfs22';\n",
    "accreHome = '/home/middlepg';\n",
    "accreScratch = '/scratch/middlepg';\n",
    "if isdir(fullfile(accreScratch))\n",
    "    matRoot = fullfile(accreRoot,accreHome,'m-files');\n",
    "    modelRoot = fullfile(accreScratch,'perceptualchoice_stop_model');\n",
    "    environ = 'accre';\n",
    "else\n",
    "    matRoot = '/Volumes/HD-1/Users/paulmiddlebrooks/matlab';\n",
    "    modelRoot = '/Volumes/HD-1/Users/paulmiddlebrooks/perceptualchoice_stop_model';\n",
    "    environ = 'local';\n",
    "end\n",
    "\n",
    "addpath(genpath(fullfile(matRoot,'sam')));\n",
    "addpath(genpath(fullfile(matRoot,'matlab_code_bbz')));\n",
    "addpath(genpath(fullfile(matRoot,'matlab_file_exchange_tools')));\n",
    "addpath(genpath(fullfile(matRoot,'cmtb')));\n",
    "addpath(genpath(fullfile(modelRoot,'src/code/2016-01-08-1245')));\n"
   ]
  },
  {
   "cell_type": "markdown",
   "metadata": {},
   "source": [
    "##### Step 1.3 - Specify random number generator seed"
   ]
  },
  {
   "cell_type": "markdown",
   "metadata": {},
   "source": [
    "_Goal_:  \n",
    "Ensure reproducible findings\n",
    "\n",
    "_Instruction_:  \n",
    "Paste code into MATLAB\n",
    "\n",
    "_Output_:  \n",
    "`rngStruct.mat` in `.../data/.../preproc01/`"
   ]
  },
  {
   "cell_type": "code",
   "execution_count": null,
   "metadata": {
    "collapsed": false
   },
   "outputs": [],
   "source": [
    "%%matlab\n",
    "preprocDataDir      = fullfile(modelRoot,'data/2016-01-08-1245/preproc01/');\n",
    "rngStruct           = rng('shuffle');\n",
    "save(fullfile(preprocDataDir,'rngStruct.mat'),'rngStruct');\n"
   ]
  },
  {
   "cell_type": "markdown",
   "metadata": {},
   "source": [
    "##### Step 1.2 - Simulate data based on best fits from a specified optimization"
   ]
  },
  {
   "cell_type": "markdown",
   "metadata": {},
   "source": [
    "_Goal_:  \n",
    "Use best fitting parameters from a previous (or current) fit to simulate data. \n",
    "\n",
    "_Instructions_:  \n",
    "Paste code into MATLAB\n",
    "\n",
    "_Output_:  \n",
    "`SAM_goTrials_model%.3d.mat`"
   ]
  },
  {
   "cell_type": "code",
   "execution_count": null,
   "metadata": {
    "collapsed": true
   },
   "outputs": [],
   "source": [
    "subject                 = 1;\n",
    "model                   = 60; %[60 137 167];\n",
    "architecture            = {'crace'}; %{'crace','cli','cffi'};\n",
    "dt                      = 10;\n",
    "trialVar                = true;\n",
    "simScope                = 'go';\n",
    "nSim                    = 10000;  % number of trials to simulate per factor\n",
    "optimDate               = '2015-12-23-1100';\n",
    "fileStr.root            = strcat(modelRoot,'/data/',optimDate,'/preproc01/subj%.2d/dt%d/%s/%s/');\n",
    "fileStr.save            = strcat(modelRoot,'/data/2016-01-08-1245/preproc01/subj%.2d/dt%d/%s/%s/');\n",
    "fileStr.preproc         = strcat(modelRoot,'/data/2016-01-08-1245/preproc01/');\n",
    "job_simulate_data(subject,model,architecture,dt,trialVar,simScope,fileStr,nSim); \n"
   ]
  },
  {
   "cell_type": "markdown",
   "metadata": {},
   "source": [
    "\n",
    "# Step 2 - Optimize the GO parameters, using a large step size"
   ]
  },
  {
   "cell_type": "markdown",
   "metadata": {},
   "source": [
    "### Step 2.1 - Build the general SAM structure"
   ]
  },
  {
   "cell_type": "markdown",
   "metadata": {},
   "source": [
    "_Goal_:  \n",
    "Specify general settings, including details about the experiment, model, simulation, and optimization.\n",
    "\n",
    "_Instruction_:  \n",
    "Paste into MATLAB\n",
    "\n",
    "_Output_:  \n",
    "`SAM_goTrials.mat`"
   ]
  },
  {
   "cell_type": "code",
   "execution_count": null,
   "metadata": {
    "collapsed": true
   },
   "outputs": [],
   "source": [
    "%%matlab\n",
    "subj                    = 1;\n",
    "dt                      = 10;\n",
    "trialVar                = true;\n",
    "simScope                = 'go';\n",
    "choiceMech              = {'race'}; %{'race','ffi','li'};\n",
    "stopMech                = 'none';\n",
    "fileStr.rawDataDir      = fullfile(modelRoot,'data/raw/');\n",
    "fileStr.preprocDataDir  = fullfile(modelRoot,'data/2016-01-08-1245/preproc01/');\n",
    "load(fullfile(fileStr.preprocDataDir,'rngStruct.mat'),'rngStruct');\n",
    "\n",
    "nChoiceMech = numel(choiceMech);\n",
    "\n",
    "for iChoiceMech = 1:nChoiceMech\n",
    "    job_spec_sam_general(subj,dt,trialVar,simScope,choiceMech{iChoiceMech},stopMech,rngStruct,fileStr);\n",
    "end\n"
   ]
  },
  {
   "cell_type": "markdown",
   "metadata": {},
   "source": [
    "### Step 2.2 - Automatic optimization of initial GO parameters"
   ]
  },
  {
   "cell_type": "markdown",
   "metadata": {},
   "source": [
    "_Goal_:  \n",
    "to find combinations of GO parameters with low Pearson's Chi-squared/BIC values that can be used as initial parameters for optimization. Since we're starting with optimized parameters, the initial parameters should end up being these optimzed parameters. Something would be amiss if a different set of initial parameters fit the simulated data better than the parameters from which the data were simulated.\n",
    "\n",
    "_Instruction_:  \n",
    "Run the bash script `exe_job_optim_x0.txt` on ACCRE\n",
    "\n",
    "_Output_:  \n",
    "`finalLog_initParam_goTrials_model%.3d_started%s.mat`  \n",
    "`SAM_initParam_goTrials_model%.3d_started%s.mat`  "
   ]
  },
  {
   "cell_type": "markdown",
   "metadata": {},
   "source": [
    "####If running on ACCRE:"
   ]
  },
  {
   "cell_type": "markdown",
   "metadata": {},
   "source": [
    "#### Update code in ACCRE by committing the most recent files/changes, and pulling in perceptualchoice_stop_model folder on ACCRE."
   ]
  },
  {
   "cell_type": "code",
   "execution_count": null,
   "metadata": {
    "collapsed": true
   },
   "outputs": [],
   "source": [
    "%%system\n",
    "scratch\n",
    "cd perceptualchoice_stop_model/src/code/2016-01-08-1245/sbatch\n",
    "./exe_job_optim_x0.txt\n"
   ]
  },
  {
   "cell_type": "markdown",
   "metadata": {},
   "source": [
    "####If running Locally:"
   ]
  },
  {
   "cell_type": "code",
   "execution_count": null,
   "metadata": {
    "collapsed": false
   },
   "outputs": [],
   "source": [
    "%%matlab\n",
    "cd /Users/paulmiddlebrooks/perceptualchoice_stop_model/src/code/2016-01-08-1245/matlab/\n",
    "exe_job_optim_x0\n"
   ]
  },
  {
   "cell_type": "markdown",
   "metadata": {},
   "source": [
    "### Step 2.3 - Build model-specific SAM structures"
   ]
  },
  {
   "cell_type": "markdown",
   "metadata": {},
   "source": [
    "_Goal_:  \n",
    "to specify modeling settings that are specific to each model variant\n",
    "\n",
    "_Instruction_:  \n",
    "Paste into MATLAB  \n",
    "\n",
    "_Output_:  \n",
    "`SAM_goTrials_model%.3d.mat`"
   ]
  },
  {
   "cell_type": "code",
   "execution_count": null,
   "metadata": {
    "collapsed": false
   },
   "outputs": [],
   "source": [
    "subj                    = 1;\n",
    "dt                      = 10;\n",
    "trialVar                = true;\n",
    "simScope                = 'go';\n",
    "choiceMech              = {'race'}; %{'race','li','ffi'};\n",
    "stopMech                = 'none';\n",
    "model                   = 60;% [60 137 167];\n",
    "fileStr.root            = fullfile(modelRoot,'data/2016-01-08-1245/preproc01/subj%.2d/dt%d/%s/%s/');\n",
    "for iChoiceMech = 1:numel(choiceMech)\n",
    "    job_spec_sam_model(subj,dt,trialVar,simScope,choiceMech{iChoiceMech},stopMech,model,fileStr);\n",
    "end\n"
   ]
  },
  {
   "cell_type": "markdown",
   "metadata": {},
   "source": [
    "### Step 2.4 - Automatic optimization of GO parameters"
   ]
  },
  {
   "cell_type": "markdown",
   "metadata": {},
   "source": [
    "_Goal_:  \n",
    "Find best-fitting GO parameters using constrained Simplex algorithm\n",
    "\n",
    "_Instruction_:  \n",
    "Run the bash script `exe_job_optim_x.txt` on ACCRE\n",
    "\n",
    "_Output_:  \n",
    "`finalLog_goTrials_model%.3d_startVal%.3d_started%s.mat`  \n",
    "`fValAndBestX_goTrials_model%.3d_startVal%.3d_exit%.1d_started%s.mat`  \n",
    "`SAM_goTrials_model%.3d_startVal%.3d_exit%.1d_started%s.mat`  "
   ]
  },
  {
   "cell_type": "markdown",
   "metadata": {},
   "source": [
    "####If running on ACCRE:"
   ]
  },
  {
   "cell_type": "code",
   "execution_count": null,
   "metadata": {
    "collapsed": true
   },
   "outputs": [],
   "source": [
    "%%system\n",
    "scratch\n",
    "cd perceptualchoice_stop_model/src/code/2016-01-08-1245/sbatch\n",
    "./exe_job_optim_x.txt\n"
   ]
  },
  {
   "cell_type": "markdown",
   "metadata": {},
   "source": [
    "####If running Locally:"
   ]
  },
  {
   "cell_type": "code",
   "execution_count": null,
   "metadata": {
    "collapsed": false
   },
   "outputs": [],
   "source": [
    "%%matlab\n",
    "cd /Users/paulmiddlebrooks/perceptualchoice_stop_model/src/code/2016-01-08-1245/matlab/\n",
    "exe_job_optim_x\n"
   ]
  },
  {
   "cell_type": "markdown",
   "metadata": {},
   "source": [
    "### Step 2.5 - Merge optimization files"
   ]
  },
  {
   "cell_type": "markdown",
   "metadata": {},
   "source": [
    "_Goal_:  \n",
    "Make one file containing minimized cost function value and best-fitting parameters\n",
    "\n",
    "_Instruction_:  \n",
    "Paste into MATLAB\n",
    "\n",
    "_Output_:  \n",
    "`allFValAndBestX_goTrials_model%.3d.txt`"
   ]
  },
  {
   "cell_type": "code",
   "execution_count": null,
   "metadata": {
    "collapsed": true
   },
   "outputs": [],
   "source": [
    "%%matlab\n",
    "subj        = 1;\n",
    "dt          = 10;\n",
    "trialVar    = true;\n",
    "optimScope  = 'go';\n",
    "choiceMech  = {'race'}; %{'race', 'li', 'ffi'};\n",
    "stopMech    = 'none';\n",
    "model       = 60;%[60 137 167];\n",
    "\n",
    "fileStr.root   = fullfile(modelRoot,'data/2016-01-08-1245/preproc01/subj%.2d/dt%d/%s/%s/');\n",
    "fileStr.output = 'allFValAndBestX_%sTrials_model%.3d.txt';\n",
    "\n",
    "for iChoiceMech = 1:numel(choiceMech)\n",
    "    job_merge_fvalandbestx(subj,dt,trialVar,optimScope,choiceMech{iChoiceMech},stopMech,model,fileStr);\n",
    "end\n"
   ]
  },
  {
   "cell_type": "markdown",
   "metadata": {},
   "source": [
    "### Step 2.6 - Copy output to local computer"
   ]
  },
  {
   "cell_type": "code",
   "execution_count": null,
   "metadata": {
    "collapsed": true
   },
   "outputs": [],
   "source": [
    "%%system\n",
    "\n",
    "scp  middlepg@login.accre.vanderbilt.edu:/scratch/middlepg/perceptualchoice_stop_model/data/2016-01-08-1245/preproc01/subj01/dt10/trialvar/crace/* /Users/paulmiddlebrooks/perceptualchoice_stop_model/data/2016-01-08-1245/preproc01/subj01/dt10/trialvar/crace/"
   ]
  },
  {
   "cell_type": "markdown",
   "metadata": {},
   "source": [
    "# STOP HERE. DID THE PARAMETER RECOVERY WORK?\n",
    "\n",
    "==========================================================================================="
   ]
  },
  {
   "cell_type": "markdown",
   "metadata": {},
   "source": [
    "# Step 3: Optimize STOP parameters"
   ]
  },
  {
   "cell_type": "markdown",
   "metadata": {},
   "source": [
    "This involves fitting the stop-signal trials only. The GO parameters are fixed to the best-fitting values from Step 2.\n",
    "\n",
    "Similar procedure as described above."
   ]
  },
  {
   "cell_type": "markdown",
   "metadata": {},
   "source": [
    "### Step 3 - Optimize the STOP parameters, using a large step size"
   ]
  },
  {
   "cell_type": "markdown",
   "metadata": {},
   "source": [
    "##### Step 3.1 - Build the general SAM structure"
   ]
  },
  {
   "cell_type": "markdown",
   "metadata": {},
   "source": [
    "_Goal_:  \n",
    "Specify general settings, including details about the experiment, model, simulation, and optimization.\n",
    "\n",
    "_Instruction_:  \n",
    "Paste into MATLAB\n",
    "\n",
    "_Output_:  \n",
    "`SAM_stopTrials.mat`"
   ]
  },
  {
   "cell_type": "code",
   "execution_count": null,
   "metadata": {
    "collapsed": true
   },
   "outputs": [],
   "source": [
    "%%matlab\n",
    "subj                    = 1;\n",
    "dt                      = 10;\n",
    "trialVar                = false;\n",
    "simScope                = 'stop';\n",
    "choiceMech              = {'race'};\n",
    "stopMech                = 'li';\n",
    "fileStr.rawDataDir      = '/Volumes/HD-1/Users/paulmiddlebrooks/perceptualchoice_stop_model/data/raw/';\n",
    "fileStr.preprocDataDir  = '/Volumes/HD-1/Users/paulmiddlebrooks/perceptualchoice_stop_model/data/2015-12-23-1100/preproc01/';\n",
    "load(fullfile(fileStr.preprocDataDir,'rngStruct.mat'),'rngStruct');\n",
    "\n",
    "nChoiceMech = numel(choiceMech);\n",
    "\n",
    "for iChoiceMech = 1:nChoiceMech\n",
    "    job_spec_sam_general(subj,dt,trialVar,simScope,choiceMech{iChoiceMech},stopMech,rngStruct,fileStr);\n",
    "end\n"
   ]
  },
  {
   "cell_type": "markdown",
   "metadata": {},
   "source": [
    "##### Step 3.2 - Non-automatic optimization of STOP parameters"
   ]
  },
  {
   "cell_type": "markdown",
   "metadata": {},
   "source": [
    "_Goal_:  \n",
    "To find good-fitting parameters by trial-and-error\n",
    "\n",
    "_Instruction_:  \n",
    "Paste code in notebook `Perceptual choice STOP x0.ipynb` into MATLAB, in GUI mode. Tweak parameters until a satisfactory fit is obtained.\n",
    "\n",
    "_Output_:  \n",
    "`userSpecX_stopTrials_model%.3d.mat`"
   ]
  },
  {
   "cell_type": "markdown",
   "metadata": {},
   "source": [
    "##### Step 3.3 - Automatic optimization of initial STOP parameters"
   ]
  },
  {
   "cell_type": "markdown",
   "metadata": {},
   "source": [
    "_Goal_:  \n",
    "to find combinations of STOP parameters with low Pearson's Chi-squared/BIC values that can be used as initial parameters for optimization\n",
    "\n",
    "_Instruction_:  \n",
    "Run the bash script `exe_job_optim_x0.txt` on ACCRE\n",
    "\n",
    "_Output_:  \n",
    "`finalLog_initParam_stopTrials_model%.3d_started%s.mat`  \n",
    "`SAM_initParam_stopTrials_model%.3d_started%s.mat`  "
   ]
  },
  {
   "cell_type": "markdown",
   "metadata": {
    "collapsed": true
   },
   "source": [
    "%%system\n",
    "scratch\n",
    "cd perceptualchoice_stop_model/src/code/2015-12-23-1100/sbatch\n",
    "./exe_job_optim_x0.txt\n"
   ]
  },
  {
   "cell_type": "markdown",
   "metadata": {},
   "source": [
    "##### Step 3.4 - Build model-specific SAM structures"
   ]
  },
  {
   "cell_type": "markdown",
   "metadata": {},
   "source": [
    "_Goal_:  \n",
    "to specify modeling settings that are specific to each model variant\n",
    "\n",
    "_Instruction_:  \n",
    "Paste into MATLAB  \n",
    "\n",
    "_Output_:  \n",
    "`SAM_stopTrials_model%.3d.mat`"
   ]
  },
  {
   "cell_type": "code",
   "execution_count": 2,
   "metadata": {
    "collapsed": false,
    "scrolled": true
   },
   "outputs": [
    {
     "ename": "SyntaxError",
     "evalue": "invalid syntax (<ipython-input-2-bda021e3c66b>, line 9)",
     "output_type": "error",
     "traceback": [
      "\u001b[0;36m  File \u001b[0;32m\"<ipython-input-2-bda021e3c66b>\"\u001b[0;36m, line \u001b[0;32m9\u001b[0m\n\u001b[0;31m    for iChoiceMech = 1:numel(choiceMech)\u001b[0m\n\u001b[0m                    ^\u001b[0m\n\u001b[0;31mSyntaxError\u001b[0m\u001b[0;31m:\u001b[0m invalid syntax\n"
     ]
    }
   ],
   "source": [
    "subj                    = 1;\n",
    "dt                      = 10;\n",
    "trialVar                = false;\n",
    "simScope                = 'stop';\n",
    "choiceMech              = {'race'};\n",
    "stopMech                = 'none';\n",
    "model                   = [9];\n",
    "fileStr.root            = '/Volumes/HD-1/Users/paulmiddlebrooks/perceptualchoice_stop_model/data/2015-12-23-1100/preproc01/subj%.2d/dt%d/%s/%s/';\n",
    "for iChoiceMech = 1:numel(choiceMech)\n",
    "    job_spec_sam_model(subj,dt,trialVar,simScope,choiceMech{iChoiceMech},stopMech,model,fileStr);\n",
    "end"
   ]
  },
  {
   "cell_type": "markdown",
   "metadata": {},
   "source": [
    "##### Step 3.5 - Automatic optimization of STOP parameters"
   ]
  },
  {
   "cell_type": "markdown",
   "metadata": {},
   "source": [
    "_Goal_:  \n",
    "Find best-fitting GO parameters using constrained Simplex algorithm\n",
    "\n",
    "_Instruction_:  \n",
    "Run the bash script `exe_job_optim_x.txt` on ACCRE\n",
    "\n",
    "_Output_:  \n",
    "`finalLog_stopTrials_model%.3d_startVal%.3d_started%s.mat`  \n",
    "`fValAndBestX_stopTrials_model%.3d_startVal%.3d_exit%.1d_started%s.mat`  \n",
    "`SAM_stopTrials_model%.3d_startVal%.3d_exit%.1d_started%s.mat`  "
   ]
  },
  {
   "cell_type": "markdown",
   "metadata": {
    "collapsed": true
   },
   "source": [
    "%%system\n",
    "scratch\n",
    "cd perceptualchoice_stop_model/src/code/2015-12-23-1100/sbatch\n",
    "./exe_job_optim_x.txt\n"
   ]
  },
  {
   "cell_type": "markdown",
   "metadata": {},
   "source": [
    "##### Step 3.6 - Merge optimization files"
   ]
  },
  {
   "cell_type": "markdown",
   "metadata": {},
   "source": [
    "_Goal_:  \n",
    "Make one file containing minimized cost function value and best-fitting parameters\n",
    "\n",
    "_Instruction_:  \n",
    "Paste into MATLAB\n",
    "\n",
    "_Output_:  \n",
    "`allFValAndBestX_stopTrials_model%.3d.txt`"
   ]
  },
  {
   "cell_type": "markdown",
   "metadata": {},
   "source": [
    "# Step 4 - Optimize the GO and STOP parameters"
   ]
  },
  {
   "cell_type": "markdown",
   "metadata": {},
   "source": [
    "This involves fitting the go and stop trials. The GO and STOP parameters start at the best-fitting values from Step 2 and 3."
   ]
  },
  {
   "cell_type": "markdown",
   "metadata": {},
   "source": [
    "#### Step 4.1 - Build the general SAM structure"
   ]
  },
  {
   "cell_type": "markdown",
   "metadata": {},
   "source": [
    "_Goal_:  \n",
    "Specify general settings, including details about the experiment, model, simulation, and optimization.\n",
    "\n",
    "_Instruction_:  \n",
    "Paste into MATLAB\n",
    "\n",
    "_Output_:  \n",
    "`SAM_allTrials.mat`"
   ]
  },
  {
   "cell_type": "code",
   "execution_count": 2,
   "metadata": {
    "collapsed": false
   },
   "outputs": [
    {
     "name": "stderr",
     "output_type": "stream",
     "text": [
      "ERROR: Cell magic `%%matlab` not found.\n"
     ]
    }
   ],
   "source": [
    "%%matlab\n",
    "subj                    = 1; % 1:2;\n",
    "dt                      = 10;\n",
    "trialVar                = false;\n",
    "optimScope              = 'all';\n",
    "choiceMech              = 'race'; %{'race','ffi','li'};\n",
    "stopMech                = 'race'; %{'race','bi','li'};\n",
    "fileStr.rawDataDir      = '/Volumes/HD-1/Users/paulmiddlebrooks/perceptualchoice_stop_model/data/raw/';\n",
    "fileStr.preprocDataDir  = '/Volumes/HD-1/Users/paulmiddlebrooks/perceptualchoice_stop_model/data/2015-12-23-1100/preproc01/';\n",
    "load(fullfile(fileStr.preprocDataDir,'rngStruct.mat'),'rngStruct');\n",
    "\n",
    "nChoiceMech             = numel(choiceMech);\n",
    "nStopMech               = numel(stopMech);\n",
    "\n",
    "for iChoiceMech = 1:nChoiceMech\n",
    "    for iStopMech = 1:nStopMech\n",
    "        job_spec_sam_general(subj,dt,trialVar,optimScope,choiceMech{iChoiceMech},stopMech{iStopMech},rngStruct,fileStr);\n",
    "    end\n",
    "end\n"
   ]
  },
  {
   "cell_type": "markdown",
   "metadata": {},
   "source": [
    "##### Step 4.2 - Extract best-fitting GO and STOP parameters"
   ]
  },
  {
   "cell_type": "code",
   "execution_count": null,
   "metadata": {
    "collapsed": true
   },
   "outputs": [],
   "source": [
    "%%matlab\n",
    "subj                    = 1; %1:2;\n",
    "trialVar                = false;\n",
    "optimScope              = 'all';\n",
    "choiceMech              = {'race'};\n",
    "stopMech                = {'race','bi','li'};\n",
    "model                   = [2,5,13,10,23,33];\n",
    "fileStr.root            = '/Volumes/HD-1/Users/paulmiddlebrooks/perceptualchoice_stop_model/data/2015-12-23-1100/preproc01/subj%.2d/dt10/%s/%s/';\n",
    "fileStr.bestXSTOP       = '/Volumes/HD-1/Users/paulmiddlebrooks/perceptualchoice_stop_model/data/2015-12-23-1100/preproc01/subj%.2d/dt10/%s/%s/allFValAndBestX_stopTrials_model%.3d.txt';\n",
    "x0Base                  = {};\n",
    "doPlot                  = false;\n",
    "doSave                  = true;\n",
    "doStartParCluster       = false;\n",
    "\n",
    "nChoiceMech             = numel(choiceMech);\n",
    "nStopMech               = numel(stopMech);\n",
    "nModel                  = numel(model);\n",
    "\n",
    "for iChoiceMech = 1:nChoiceMech\n",
    "    for iStopMech = 1:nStopMech\n",
    "        for iModel = 1:nModel\n",
    "            job_spec_x0base(subj,trialVar,optimScope,choiceMech{iChoiceMech},stopMech{iStopMech},model(iModel),fileStr,x0Base,doPlot,doSave,doStartParCluster);\n",
    "        end\n",
    "    end\n",
    "end\n",
    "\n",
    "choiceMech  = {'ffi'};\n",
    "model       = [1 2 5 13 7 10 23 33 12 21 35];\n",
    "\n",
    "nChoiceMech             = numel(choiceMech);\n",
    "nStopMech               = numel(stopMech);\n",
    "nModel                  = numel(model);\n",
    "\n",
    "for iChoiceMech = 1:nChoiceMech\n",
    "    for iStopMech = 1:nStopMech\n",
    "        for iModel = 1:nModel\n",
    "            job_spec_x0base(subj,trialVar,optimScope,choiceMech{iChoiceMech},stopMech{iStopMech},model(iModel),fileStr,x0Base,doPlot,doSave,doStartParCluster);\n",
    "        end\n",
    "    end\n",
    "end\n",
    "\n",
    "choiceMech  = {'li'}\n",
    "model       = [1 2 5 13 6 10 23 33 11 20 34];\n",
    "\n",
    "nChoiceMech             = numel(choiceMech);\n",
    "nStopMech               = numel(stopMech);\n",
    "nModel                  = numel(model);\n",
    "\n",
    "for iChoiceMech = 1:nChoiceMech\n",
    "    for iStopMech = 1:nStopMech\n",
    "        for iModel = 1:nModel\n",
    "            job_spec_x0base(subj,trialVar,optimScope,choiceMech{iChoiceMech},stopMech{iStopMech},model(iModel),fileStr,x0Base,doPlot,doSave,doStartParCluster);\n",
    "        end\n",
    "    end\n",
    "end"
   ]
  },
  {
   "cell_type": "markdown",
   "metadata": {},
   "source": [
    "##### Step 4.3 - Build model-specific SAM structure"
   ]
  },
  {
   "cell_type": "markdown",
   "metadata": {},
   "source": [
    "_Goal_:  \n",
    "to specify modeling settings that are specific to each model variant\n",
    "\n",
    "_Instruction_:  \n",
    "Paste into MATLAB  \n",
    "\n",
    "_Output_:  \n",
    "`SAM_allTrials_model%.3d.mat`"
   ]
  },
  {
   "cell_type": "code",
   "execution_count": null,
   "metadata": {
    "collapsed": true
   },
   "outputs": [],
   "source": [
    "%%matlab\n",
    "subj                    = 1; %1:2; 8:13;\n",
    "dt                      = 10;\n",
    "trialVar                = false;\n",
    "optimScope              = 'all';\n",
    "choiceMech              = {'race'};\n",
    "stopMech                = {'race','bi','li'};\n",
    "model                   = [2,5,13,10,23,33];\n",
    "fileStr.root            = '/Volumes/HD-1/Users/paulmiddlebrooks/perceptualchoice_stop_model/data/2015-12-23-1100/preproc01/subj%.2d/dt%d/%s/%s/';\n",
    "\n",
    "nChoiceMech             = numel(choiceMech);\n",
    "nStopMech               = numel(stopMech);\n",
    "\n",
    "for iChoiceMech = 1:nChoiceMech\n",
    "    for iStopMech = 1:nStopMech\n",
    "        job_spec_sam_model(subj,dt,trialVar,optimScope,choiceMech{iChoiceMech},stopMech{iStopMech},model,fileStr);\n",
    "    end\n",
    "end\n",
    "\n",
    "choiceMech              = {'ffi'};\n",
    "nChoiceMech             = numel(choiceMech);\n",
    "model                   = [1 2 5 13 7 10 23 33 12 21 35];\n",
    "for iChoiceMech = 1:numel(choiceMech)\n",
    "    for iStopMech = 1:nStopMech\n",
    "        job_spec_sam_model(subj,dt,trialVar,optimScope,choiceMech{iChoiceMech},stopMech{iStopMech},model,fileStr);\n",
    "    end\n",
    "end\n",
    "\n",
    "choiceMech              = {'li'};\n",
    "nChoiceMech             = numel(choiceMech);\n",
    "model                   = [1 2 5 13 6 10 23 33 11 20 34];\n",
    "for iChoiceMech = 1:numel(choiceMech)\n",
    "    for iStopMech = 1:nStopMech\n",
    "        job_spec_sam_model(subj,dt,trialVar,optimScope,choiceMech{iChoiceMech},stopMech{iStopMech},model,fileStr);\n",
    "    end\n",
    "end"
   ]
  },
  {
   "cell_type": "markdown",
   "metadata": {},
   "source": [
    "##### Step 4.4 - Automatic optimization of GO and STOP parameters"
   ]
  },
  {
   "cell_type": "markdown",
   "metadata": {},
   "source": [
    "_Goal_:  \n",
    "Find best-fitting GO and STOP parameters using constrained Simplex algorithm\n",
    "\n",
    "_Instruction_:  \n",
    "Run the bash script `exe_job_optim_x.sh` on ACCRE\n",
    "\n",
    "_Output_:  \n",
    "`finalLog_allTrials_model%.3d_startVal%.3d_started%s.mat`  \n",
    "`fValAndBestX_allpTrials_model%.3d_startVal%.3d_exit%.1d_started%s.mat`  \n",
    "`SAM_allTrials_model%.3d_startVal%.3d_exit%.1d_started%s.mat`  "
   ]
  },
  {
   "cell_type": "markdown",
   "metadata": {
    "collapsed": true
   },
   "source": [
    "%%system\n",
    "scratch\n",
    "cd perceptualchoice_stop_model/src/code/2015-12-23-1100/sbatch\n",
    "./exe_job_optim_x.txt\n"
   ]
  },
  {
   "cell_type": "markdown",
   "metadata": {},
   "source": [
    "##### Step 4.5 - Merge optimization files\n"
   ]
  },
  {
   "cell_type": "markdown",
   "metadata": {},
   "source": [
    "_Goal_:  \n",
    "Make one file containing minimized cost function value and best-fitting parameters\n",
    "\n",
    "_Instruction_:  \n",
    "Paste into MATLAB\n",
    "\n",
    "_Output_:  \n",
    "`allFValAndBestX_allTrials_model%.3d.txt`"
   ]
  },
  {
   "cell_type": "code",
   "execution_count": null,
   "metadata": {
    "collapsed": true
   },
   "outputs": [],
   "source": [
    "%%matlab\n",
    "subj        = 1; % 1:2;\n",
    "dt          = 10;\n",
    "trialVar    = false;\n",
    "optimScope  = 'all';\n",
    "choiceMech  = {'race'};\n",
    "stopMech    = {'race','bi','li'};\n",
    "model       = [9];\n",
    "\n",
    "nChoiceMech = numel(choiceMech);\n",
    "nStopMech   = numel(stopMech);\n",
    "\n",
    "fileStr.root = '/Volumes/HD-1/Users/paulmiddlebrooks/perceptualchoice_stop_model/data/2015-12-23-1100/preproc01/subj%.2d/dt%d/%s/%s/';\n",
    "fileStr.output = 'allFValAndBestX_%sTrials_model%.3d.txt';\n",
    "\n",
    "for iChoiceMech = 1:nChoiceMech\n",
    "    for iStopMech = 1:nStopMech\n",
    "        job_merge_fvalandbestx(subj,dt,trialVar,optimScope,choiceMech{iChoiceMech},stopMech{iStopMech},model,fileStr);\n",
    "    end\n",
    "end\n",
    "\n",
    "choiceMech  = {'ffi'};\n",
    "model       = [1 2 5 13 7 10 23 33 12 21 35];\n",
    "\n",
    "for iChoiceMech = 1:numel(choiceMech)\n",
    "    for iStopMech = 1:nStopMech\n",
    "        job_merge_fvalandbestx(subj,dt,trialVar,optimScope,choiceMech{iChoiceMech},stopMech{iStopMech},model,fileStr);\n",
    "    end\n",
    "end\n",
    "\n",
    "choiceMech  = {'li'};\n",
    "model       = [1 2 5 13 6 10 23 33 11 20 34];\n",
    "\n",
    "for iChoiceMech = 1:numel(choiceMech)\n",
    "    for iStopMech = 1:nStopMech\n",
    "        job_merge_fvalandbestx(subj,dt,trialVar,optimScope,choiceMech{iChoiceMech},stopMech{iStopMech},model,fileStr);\n",
    "    end\n",
    "end"
   ]
  },
  {
   "cell_type": "markdown",
   "metadata": {},
   "source": [
    "# Step 5 - Optimize GO and STOP parameters at 1-ms resolution\n"
   ]
  },
  {
   "cell_type": "markdown",
   "metadata": {},
   "source": [
    "This involves fitting the go and stop trials. The GO and STOP parameters start at the best-fitting values from Step 4."
   ]
  },
  {
   "cell_type": "markdown",
   "metadata": {},
   "source": [
    "##### Step 5.1 - Build the general SAM structure"
   ]
  },
  {
   "cell_type": "markdown",
   "metadata": {},
   "source": [
    "_Goal_:  \n",
    "Specify general settings, including details about the experiment, model, simulation, and optimization.\n",
    "\n",
    "_Instruction_:  \n",
    "Paste into MATLAB\n",
    "\n",
    "_Output_:  \n",
    "`SAM_allTrials.mat`"
   ]
  },
  {
   "cell_type": "code",
   "execution_count": null,
   "metadata": {
    "collapsed": true
   },
   "outputs": [],
   "source": [
    "%%matlab\n",
    "subj                    = 1; %1:2;\n",
    "dt                      = 1;\n",
    "trialVar                = false;\n",
    "optimScope              = 'all';\n",
    "choiceMech              = {'race','ffi','li'};\n",
    "stopMech                = {'race','bi','li'};\n",
    "fileStr.rawDataDir      = '/Volumes/HD-1/Users/paulmiddlebrooks/perceptualchoice_stop_model/data/raw/';\n",
    "fileStr.preprocDataDir  = '/Volumes/HD-1/Users/paulmiddlebrooks/perceptualchoice_stop_model/data/2015-12-23-1100/preproc01/';\n",
    "load(fullfile(fileStr.preprocDataDir,'rngStruct.mat'),'rngStruct');\n",
    "\n",
    "nChoiceMech             = numel(choiceMech);\n",
    "nStopMech               = numel(stopMech);\n",
    "\n",
    "for iChoiceMech = 1:nChoiceMech\n",
    "    for iStopMech = 1:nStopMech\n",
    "        job_spec_sam_general(subj,dt,trialVar,optimScope,choiceMech{iChoiceMech},stopMech{iStopMech},rngStruct,fileStr);\n",
    "    end\n",
    "end"
   ]
  },
  {
   "cell_type": "markdown",
   "metadata": {},
   "source": [
    "##### Step 5.2 - Extract best-fitting GO and STOP parameters at 20 ms resolution"
   ]
  },
  {
   "cell_type": "code",
   "execution_count": null,
   "metadata": {
    "collapsed": true
   },
   "outputs": [],
   "source": [
    "%%matlab\n",
    "subj                    = 1; %1:2;\n",
    "trialVar                = false;\n",
    "optimScope              = 'all';\n",
    "choiceMech              = {'race'};\n",
    "stopMech                = {'race','bi','li'};\n",
    "model                   = [2,5,13,10,23,33];\n",
    "fileStr.root            = '/Volumes/HD-1/Users/paulmiddlebrooks/perceptualchoice_stop_model/data/2015-12-23-1100/preproc01/subj%.2d/dt1/%s/%s/';\n",
    "fileStr.bestXSTOP       = '/Volumes/HD-1/Users/paulmiddlebrooks/perceptualchoice_stop_model/data/2015-12-23-1100/preproc01/subj%.2d/dt20/%s/%s/allFValAndBestX_allTrials_model%.3d.txt';\n",
    "x0Base                  = {};\n",
    "doPlot                  = false;\n",
    "doSave                  = true;\n",
    "doStartParCluster       = false;\n",
    "\n",
    "nChoiceMech             = numel(choiceMech);\n",
    "nStopMech               = numel(stopMech);\n",
    "nModel                  = numel(model);\n",
    "\n",
    "for iChoiceMech = 1:nChoiceMech\n",
    "    for iStopMech = 1:nStopMech\n",
    "        for iModel = 1:nModel\n",
    "            job_spec_x0base(subj,trialVar,optimScope,choiceMech{iChoiceMech},stopMech{iStopMech},model(iModel),fileStr,x0Base,doPlot,doSave,doStartParCluster);\n",
    "        end\n",
    "    end\n",
    "end\n",
    "\n",
    "choiceMech  = {'ffi'};\n",
    "model       = [1 2 5 13 7 10 23 33 12 21 35];\n",
    "\n",
    "nChoiceMech             = numel(choiceMech);\n",
    "nStopMech               = numel(stopMech);\n",
    "nModel                  = numel(model);\n",
    "\n",
    "for iChoiceMech = 1:nChoiceMech\n",
    "    for iStopMech = 1:nStopMech\n",
    "        for iModel = 1:nModel\n",
    "            job_spec_x0base(subj,trialVar,optimScope,choiceMech{iChoiceMech},stopMech{iStopMech},model(iModel),fileStr,x0Base,doPlot,doSave,doStartParCluster);\n",
    "        end\n",
    "    end\n",
    "end\n",
    "\n",
    "choiceMech  = {'li'}\n",
    "model       = [1 2 5 13 6 10 23 33 11 20 34];\n",
    "\n",
    "nChoiceMech             = numel(choiceMech);\n",
    "nStopMech               = numel(stopMech);\n",
    "nModel                  = numel(model);\n",
    "\n",
    "for iChoiceMech = 1:nChoiceMech\n",
    "    for iStopMech = 1:nStopMech\n",
    "        for iModel = 1:nModel\n",
    "            job_spec_x0base(subj,trialVar,optimScope,choiceMech{iChoiceMech},stopMech{iStopMech},model(iModel),fileStr,x0Base,doPlot,doSave,doStartParCluster);\n",
    "        end\n",
    "    end\n",
    "end"
   ]
  },
  {
   "cell_type": "markdown",
   "metadata": {},
   "source": [
    "##### Step 5.3 - Build model-specific SAM structure"
   ]
  },
  {
   "cell_type": "markdown",
   "metadata": {},
   "source": [
    "_Goal_:  \n",
    "to specify modeling settings that are specific to each model variant\n",
    "\n",
    "_Instruction_:  \n",
    "Paste into MATLAB  \n",
    "\n",
    "_Output_:  \n",
    "`SAM_allTrials_model%.3d.mat`"
   ]
  },
  {
   "cell_type": "code",
   "execution_count": null,
   "metadata": {
    "collapsed": true
   },
   "outputs": [],
   "source": [
    "%%matlab\n",
    "subj                    = 1; %1:2; 8:13;\n",
    "dt                      = 1;\n",
    "trialVar                = false;\n",
    "optimScope              = 'all';\n",
    "choiceMech              = {'race'};\n",
    "stopMech                = {'race','bi','li'};\n",
    "model                   = [2,5,13,10,23,33];\n",
    "fileStr.root            = '/Volumes/HD-1/Users/paulmiddlebrooks/perceptualchoice_stop_model/data/2015-12-23-1100/preproc01/subj%.2d/dt%d/%s/%s/';\n",
    "\n",
    "nChoiceMech             = numel(choiceMech);\n",
    "nStopMech               = numel(stopMech);\n",
    "\n",
    "for iChoiceMech = 1:nChoiceMech\n",
    "    for iStopMech = 1:nStopMech\n",
    "        job_spec_sam_model(subj,dt,trialVar,optimScope,choiceMech{iChoiceMech},stopMech{iStopMech},model,fileStr);\n",
    "    end\n",
    "end\n",
    "\n",
    "choiceMech              = {'ffi'};\n",
    "nChoiceMech             = numel(choiceMech);\n",
    "model                   = [1 2 5 13 7 10 23 33 12 21 35];\n",
    "for iChoiceMech = 1:numel(choiceMech)\n",
    "    for iStopMech = 1:nStopMech\n",
    "        job_spec_sam_model(subj,dt,trialVar,optimScope,choiceMech{iChoiceMech},stopMech{iStopMech},model,fileStr);\n",
    "    end\n",
    "end\n",
    "\n",
    "choiceMech              = {'li'};\n",
    "nChoiceMech             = numel(choiceMech);\n",
    "model                   = [1 2 5 13 6 10 23 33 11 20 34];\n",
    "for iChoiceMech = 1:numel(choiceMech)\n",
    "    for iStopMech = 1:nStopMech\n",
    "        job_spec_sam_model(subj,dt,trialVar,optimScope,choiceMech{iChoiceMech},stopMech{iStopMech},model,fileStr);\n",
    "    end\n",
    "end"
   ]
  },
  {
   "cell_type": "markdown",
   "metadata": {},
   "source": [
    "##### Step 5.4 - Automatic optimization of GO and STOP parameters\n"
   ]
  },
  {
   "cell_type": "markdown",
   "metadata": {},
   "source": [
    "_Goal_:  \n",
    "Find best-fitting GO and STOP parameters using constrained Simplex algorithm\n",
    "\n",
    "_Instruction_:  \n",
    "Run the bash script `exe_job_optim_x.sh` on ACCRE\n",
    "\n",
    "_Output_:  \n",
    "`finalLog_allTrials_model%.3d_startVal%.3d_started%s.mat`  \n",
    "`fValAndBestX_allpTrials_model%.3d_startVal%.3d_exit%.1d_started%s.mat`  \n",
    "`SAM_allTrials_model%.3d_startVal%.3d_exit%.1d_started%s.mat`  "
   ]
  },
  {
   "cell_type": "markdown",
   "metadata": {
    "collapsed": true
   },
   "source": [
    "%%system\n",
    "scratch\n",
    "cd perceptualchoice_stop_model/src/code/2015-12-23-1100/sbatch\n",
    "./exe_job_optim_x.txt\n"
   ]
  },
  {
   "cell_type": "code",
   "execution_count": null,
   "metadata": {
    "collapsed": true
   },
   "outputs": [],
   "source": [
    "#!/bin/bash\n",
    "# \n",
    "# exe_job_optim_x.txt \n",
    "# \n",
    "# N.B. Make sure that file's permissions allow others to execute this file  (e.g. 'chmod 755')\n",
    "# N.B. Make sure that you update path strings and PBS .txt-file below\n",
    "\n",
    "pathStr=\"/scratch/middlepg/perceptualchoice_stop_model/data/2015-12-17-1312/subj%.2d/dt%d/%s/%s/SAM_%sTrials_model%.3d.mat\";\n",
    "\n",
    "# Optimization scope\n",
    "optimScope=\"all\";\n",
    "\n",
    "# Time step\n",
    "dt=\"1\";\n",
    "\n",
    "# Trial variability tag (for starting point, non-decision time, and rate)\n",
    "trialVar=\"notrialvar\";\n",
    "\n",
    "# Model architectures\n",
    "modelArch=\"crace_irace crace_ibi crace_ili\";\n",
    "\n",
    "# Model variants\n",
    "model=\"9\";\n",
    "\n",
    "# Subject\n",
    "subject=\"1\";\n",
    "\n",
    "# PBS Settings\n",
    "WALLTIME=\"10:00:00\";\n",
    "PPN=\"4\";\n",
    "MEM=\"12000\";\n",
    "\n",
    "for iModelArch in `echo $modelArch`\n",
    "do\n",
    "\tfor iModel in `echo $model`\n",
    "\tdo\n",
    "\t\tfor iSubj in `echo $subject`\n",
    "\t\tdo\n",
    "\t\t\tfor iStartVal in {1..1}\n",
    "\t\t\tdo\n",
    "\t\t\t\tqsub -l walltime=`echo $WALLTIME` -l nodes=1:ppn=`echo $PPN` -l mem=`echo \"$MEM\"mb` -v pathStr=`echo \"$pathStr\"`,subject=`echo \"$iSubj\"`,optimScope=`echo \"$optimScope\"`,dt=`echo \"$dt\"`,trialVar=`echo \"$trialVar\"`,modelArch=`echo \"$iModelArch\"`,iModel=`echo \"$iModel\"`,iStartVal=`echo \"$iStartVal\"`,processorsPerNode=`echo \"$PPN\"` /scratch/zandbeb/perceptualchoice_stop_model/src/code/2015-12-17-1312/pbs/pbs_job_optim_x.txt\n",
    "\t\t\tdone\n",
    "\t\tdone\n",
    "\tdone\t\t\n",
    "done    \n"
   ]
  },
  {
   "cell_type": "markdown",
   "metadata": {},
   "source": [
    "##### Step 5.5 - Merge optimization files\n"
   ]
  },
  {
   "cell_type": "markdown",
   "metadata": {},
   "source": [
    "_Goal_:  \n",
    "Make one file containing minimized cost function value and best-fitting parameters\n",
    "\n",
    "_Instruction_:  \n",
    "Paste into MATLAB\n",
    "\n",
    "_Output_:  \n",
    "`allFValAndBestX_allTrials_model%.3d.txt`"
   ]
  },
  {
   "cell_type": "code",
   "execution_count": null,
   "metadata": {
    "collapsed": true
   },
   "outputs": [],
   "source": [
    "%%matlab\n",
    "subj        = 1; % 1:2;\n",
    "dt          = 1;\n",
    "trialVar    = false;\n",
    "optimScope  = 'all';\n",
    "choiceMech  = {'race'};\n",
    "stopMech    = {'race','bi','li'};\n",
    "model       = [9];\n",
    "\n",
    "nChoiceMech = numel(choiceMech);\n",
    "nStopMech   = numel(stopMech);\n",
    "\n",
    "fileStr.root = '/Volumes/HD-1/Users/paulmiddlebrooks/perceptualchoice_stop_model/data/2015-12-23-1100/preproc01/subj%.2d/dt%d/%s/%s/';\n",
    "fileStr.output = 'allFValAndBestX_%sTrials_model%.3d.txt';\n",
    "\n",
    "for iChoiceMech = 1:nChoiceMech\n",
    "    for iStopMech = 1:nStopMech\n",
    "        job_merge_fvalandbestx(subj,dt,trialVar,optimScope,choiceMech{iChoiceMech},stopMech{iStopMech},model,fileStr);\n",
    "    end\n",
    "end\n",
    "\n",
    "choiceMech  = {'ffi'};\n",
    "model       = [1 2 5 13 7 10 23 33 12 21 35];\n",
    "\n",
    "for iChoiceMech = 1:numel(choiceMech)\n",
    "    for iStopMech = 1:nStopMech\n",
    "        job_merge_fvalandbestx(subj,dt,trialVar,optimScope,choiceMech{iChoiceMech},stopMech{iStopMech},model,fileStr);\n",
    "    end\n",
    "end\n",
    "\n",
    "choiceMech  = {'li'};\n",
    "model       = [1 2 5 13 6 10 23 33 11 20 34];\n",
    "\n",
    "for iChoiceMech = 1:numel(choiceMech)\n",
    "    for iStopMech = 1:nStopMech\n",
    "        job_merge_fvalandbestx(subj,dt,trialVar,optimScope,choiceMech{iChoiceMech},stopMech{iStopMech},model,fileStr);\n",
    "    end\n",
    "end"
   ]
  }
 ],
 "metadata": {
  "kernelspec": {
   "display_name": "Python 2",
   "language": "python",
   "name": "python2"
  },
  "language_info": {
   "codemirror_mode": {
    "name": "ipython",
    "version": 2
   },
   "file_extension": ".py",
   "mimetype": "text/x-python",
   "name": "python",
   "nbconvert_exporter": "python",
   "pygments_lexer": "ipython2",
   "version": "2.7.10"
  }
 },
 "nbformat": 4,
 "nbformat_minor": 0
}
