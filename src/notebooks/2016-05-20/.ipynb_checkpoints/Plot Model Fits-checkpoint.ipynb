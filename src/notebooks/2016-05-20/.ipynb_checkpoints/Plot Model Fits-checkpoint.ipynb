{
 "cells": [
  {
   "cell_type": "markdown",
   "metadata": {},
   "source": [
    "##Plot goodness of fits\n"
   ]
  },
  {
   "cell_type": "code",
   "execution_count": null,
   "metadata": {
    "collapsed": true
   },
   "outputs": [],
   "source": [
    "%%matlab\n",
    "subject                 = 2;\n",
    "model                   = [79,191,652,478];\n",
    "%architecture            = {'crace_irace','crace_ibi','crace_ili','cffi_irace','cffi_ibi','cffi_ili','cli_irace','cli_ibi','cli_ili'};\n",
    "architecture            = {'crace','cli','cffi'};\n",
    "dt                      = 10;\n",
    "trialVar                = true;\n",
    "simScope                = 'go';\n",
    "fileStr.root            = '/Volumes/HD-1/Users/paulmiddlebrooks/perceptualchoice_stop_model/data/2016-05-20/preproc01/subj%.2d/dt%d/%s/%s/';\n",
    "\n",
    "plot_goodness_of_fit('chisquare',subject,model,architecture,dt,trialVar,simScope,fileStr);\n"
   ]
  },
  {
   "cell_type": "markdown",
   "metadata": {},
   "source": [
    "## Plot model fits: GO"
   ]
  },
  {
   "cell_type": "code",
   "execution_count": null,
   "metadata": {
    "collapsed": true
   },
   "outputs": [],
   "source": [
    "%%matlab\n",
    "subject                 = [1 2];\n",
    "model                   = [79,191,352,478];\n",
    "architecture            = {'crace','cli','cffi'}; %{'crace','cli','cffi'};\n",
    "dt                      = 5;\n",
    "trialVar                = true;\n",
    "fileStr.root            = '/Volumes/HD-1/Users/paulmiddlebrooks/perceptualchoice_stop_model/data/2016-05-20/preproc01/subj%.2d/dt%d/%s/%s/';\n",
    "fileStr.src             = '/Volumes/HD-1/Users/paulmiddlebrooks/perceptualchoice_stop_model/src/code/2016-05-20/matlab/';\n",
    "fileStr.result          = '/Volumes/HD-1/Users/paulmiddlebrooks/perceptualchoice_stop_model/results/2016-05-20/subj%.2d/dt%d/%s/%s/';\n",
    "responseSide            = {'left','right'};\n",
    "accuracy                = 'both';\n",
    "savePlot                = true;\n",
    "\n",
    "cd(fileStr.src)\n",
    "for iRsp = 1 : length(responseSide)\n",
    "    respSide = responseSide{iRsp};\n",
    "    plot_fits_go(subject,model,architecture,dt,trialVar,fileStr,respSide,accuracy,savePlot); \n",
    "end\n"
   ]
  },
  {
   "cell_type": "markdown",
   "metadata": {},
   "source": [
    "## Plot parameter fits from start to best fitting: GO"
   ]
  },
  {
   "cell_type": "code",
   "execution_count": null,
   "metadata": {
    "collapsed": true
   },
   "outputs": [],
   "source": [
    "%%matlab\n",
    "subject                 = 1;\n",
    "model                   = 79; %[79,191,245];\n",
    "architecture            = {'crace'}; %{'crace','cli','cffi'};\n",
    "dt                      = 10;\n",
    "trialVar                = true;\n",
    "fileStr.root            = '/Volumes/HD-1/Users/paulmiddlebrooks/perceptualchoice_stop_model/data/2016-05-20/preproc01/subj%.2d/dt%d/%s/%s/';\n",
    "fileStr.src             = '/Volumes/HD-1/Users/paulmiddlebrooks/perceptualchoice_stop_model/src/code/2016-05-20/matlab/';\n",
    "fileStr.result          = '/Volumes/HD-1/Users/paulmiddlebrooks/perceptualchoice_stop_model/results/2016-05-20/subj%.2d/dt%d/%s/%s/';\n",
    "savePlot                = false;\n",
    "\n",
    "plot_parameter_fits_go(subject,model,architecture,dt,trialVar,fileStr,savePlot); \n"
   ]
  },
  {
   "cell_type": "markdown",
   "metadata": {},
   "source": [
    "## Print model fit simulations"
   ]
  },
  {
   "cell_type": "code",
   "execution_count": null,
   "metadata": {
    "collapsed": true
   },
   "outputs": [],
   "source": [
    "subject                 = 2;\n",
    "model                   = [79,191,352,478];\n",
    "architecture            = {'crace','cli','cffi'}; %{'crace','cli','cffi'};\n",
    "dt                      = 10;\n",
    "trialVar                = true;\n",
    "fileStr.root            = '/Volumes/HD-1/Users/paulmiddlebrooks/perceptualchoice_stop_model/data/2016-05-20/preproc01/subj%.2d/dt%d/%s/%s/';\n",
    "fileStr.src             = '/Volumes/HD-1/Users/paulmiddlebrooks/perceptualchoice_stop_model/src/code/2016-05-20/matlab/';\n",
    "fileStr.result          = '/Volumes/HD-1/Users/paulmiddlebrooks/perceptualchoice_stop_model/results/2016-05-20/subj%.2d/dt%d/%s/%s/';\n",
    "responseSide            = {'right'};\n",
    "accuracy                = 'correct';\n",
    "savePlot                = false;\n",
    "\n",
    "cd(fileStr.src)\n",
    "for iRsp = 1 : length(responseSide)\n",
    "    respSide = responseSide{iRsp};\n",
    "    plot_simulation(subject,model,architecture,dt,trialVar,fileStr,savePlot); \n",
    "end\n"
   ]
  },
  {
   "cell_type": "markdown",
   "metadata": {},
   "source": [
    "##Plot model fits\n"
   ]
  },
  {
   "cell_type": "code",
   "execution_count": 1,
   "metadata": {
    "collapsed": false
   },
   "outputs": [
    {
     "name": "stderr",
     "output_type": "stream",
     "text": [
      "ERROR: Cell magic `%%matlab` not found.\n"
     ]
    }
   ],
   "source": [
    "subject                 = 2;\n",
    "model                   = [79,191,352,478];\n",
    "architecture            = {'crace_ili','cli_ili','cffi_ili'};\n",
    "architecture            = {'cli_ili'};\n",
    "dt                      = 1;\n",
    "trialVar                = true;\n",
    "simScope                = 'all';\n",
    "fileStr.root            = '/Volumes/HD-1/Users/paulmiddlebrooks/perceptualchoice_stop_model/data/2016-05-20/preproc01/subj%.2d/dt%d/%s/%s/';\n",
    "fileStr.src             = '/Volumes/HD-1/Users/paulmiddlebrooks/perceptualchoice_stop_model/src/code/2016-05-20/matlab/';\n",
    "fileStr.result          = '/Volumes/HD-1/Users/paulmiddlebrooks/perceptualchoice_stop_model/results/2016-05-20/subj%.2d/dt%d/%s/%s/';\n",
    "responseSide            = {'right','left','both'};\n",
    "accuracy                = {'both'};\n",
    "defective               = true;\n",
    "savePlot                = true;\n",
    "\n",
    "cd(fileStr.src)\n",
    "for iRsp = 1 : length(responseSide)\n",
    "    respSide = responseSide{iRsp};\n",
    "    for iAcc = 1 : length(accuracy)\n",
    "        accur = accuracy{iAcc};\n",
    "plot_fits(subject,model,architecture,dt,trialVar,simScope,fileStr,respSide,accur,defective,savePlot); \n",
    "    end\n",
    "end\n"
   ]
  },
  {
   "cell_type": "markdown",
   "metadata": {},
   "source": [
    "##Plot model fit summary stats\n"
   ]
  },
  {
   "cell_type": "code",
   "execution_count": 1,
   "metadata": {
    "collapsed": false
   },
   "outputs": [
    {
     "name": "stderr",
     "output_type": "stream",
     "text": [
      "ERROR: Cell magic `%%matlab` not found.\n"
     ]
    }
   ],
   "source": [
    "subject                 = 2;\n",
    "model                   = [79,191,352,478];\n",
    "architecture            = {'crace_ili','cli_ili','cffi_ili'};\n",
    "dt                      = 1;\n",
    "trialVar                = true;\n",
    "simScope                = 'all';\n",
    "fileStr.root            = '/Volumes/HD-1/Users/paulmiddlebrooks/perceptualchoice_stop_model/data/2016-05-20/preproc01/subj%.2d/dt%d/%s/%s/';\n",
    "fileStr.src             = '/Volumes/HD-1/Users/paulmiddlebrooks/perceptualchoice_stop_model/src/code/2016-05-20/matlab/';\n",
    "fileStr.result          = '/Volumes/HD-1/Users/paulmiddlebrooks/perceptualchoice_stop_model/results/2016-05-20/subj%.2d/dt%d/%s/%s/';\n",
    "savePlot                = true;\n",
    "\n",
    "cd(fileStr.src)\n",
    "plot_summary_stats(subject,model,architecture,dt,trialVar,simScope,fileStr,savePlot); \n",
    "\n"
   ]
  }
 ],
 "metadata": {
  "kernelspec": {
   "display_name": "Python 2",
   "language": "python",
   "name": "python2"
  },
  "language_info": {
   "codemirror_mode": {
    "name": "ipython",
    "version": 2
   },
   "file_extension": ".py",
   "mimetype": "text/x-python",
   "name": "python",
   "nbconvert_exporter": "python",
   "pygments_lexer": "ipython2",
   "version": "2.7.10"
  }
 },
 "nbformat": 4,
 "nbformat_minor": 0
}
