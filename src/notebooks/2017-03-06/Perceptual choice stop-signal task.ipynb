{
 "cells": [
  {
   "cell_type": "markdown",
   "metadata": {},
   "source": [
    "# Step 1 - Preparatory processes"
   ]
  },
  {
   "cell_type": "markdown",
   "metadata": {},
   "source": [
    "Log into accre (via a terminal window)"
   ]
  },
  {
   "cell_type": "code",
   "execution_count": null,
   "metadata": {
    "collapsed": true
   },
   "outputs": [],
   "source": [
    "ssh middlepg@login.accre.vanderbilt.edu"
   ]
  },
  {
   "cell_type": "markdown",
   "metadata": {},
   "source": [
    "##### Step 1.1 - Check out specific versions of various toolboxes"
   ]
  },
  {
   "cell_type": "markdown",
   "metadata": {},
   "source": [
    "_Goal_:  \n",
    "Control the version of the toolboxes used; either update to most recent (present experiment), or update to correct commit (past experiment).\n",
    "\n",
    "_Instructions_:  \n",
    "Paste code into terminal. Make sure to clone versions of these toolboxes into your own home directory and refer to those paths.\n",
    "\n",
    "_Output_:  \n",
    "None"
   ]
  },
  {
   "cell_type": "markdown",
   "metadata": {},
   "source": [
    "###IN ACCRE, Checkout the right commit of source codes (matlab and slurm scripts)"
   ]
  },
  {
   "cell_type": "markdown",
   "metadata": {},
   "source": [
    "####If running a present experiment, update to the latest code:"
   ]
  },
  {
   "cell_type": "code",
   "execution_count": null,
   "metadata": {
    "collapsed": true
   },
   "outputs": [],
   "source": [
    "# Check out analysis code\n",
    "cd /scratch/middlepg/perceptualchoice_stop_model/\n",
    "\n",
    "\n",
    "git pull\n",
    "\n",
    "# or\n",
    "\n",
    "git fetch --all\n",
    "# then\n",
    "git reset --hard origin/master\n"
   ]
  },
  {
   "cell_type": "markdown",
   "metadata": {},
   "source": [
    "####If re-running a past experiment, update to the correct commit (to be filled in by experimenter after updating):"
   ]
  },
  {
   "cell_type": "code",
   "execution_count": null,
   "metadata": {
    "collapsed": true
   },
   "outputs": [],
   "source": [
    "#Check out analysis code\n",
    "cd /scratch/middlepg/perceptualchoice_stop_model/\n",
    "git checkout <paste checkout version here> \n",
    "git checkout master;\n"
   ]
  },
  {
   "cell_type": "markdown",
   "metadata": {},
   "source": [
    "###IN ACCRE, if needed checkout the right version of sam and related toolboxes.\n",
    "\n",
    "Only do this if needed\n"
   ]
  },
  {
   "cell_type": "code",
   "execution_count": 1,
   "metadata": {
    "collapsed": false
   },
   "outputs": [
    {
     "ename": "SyntaxError",
     "evalue": "invalid syntax (<ipython-input-1-943242c9d4e6>, line 1)",
     "output_type": "error",
     "traceback": [
      "\u001b[0;36m  File \u001b[0;32m\"<ipython-input-1-943242c9d4e6>\"\u001b[0;36m, line \u001b[0;32m1\u001b[0m\n\u001b[0;31m    FIX THIS CODE TO OPTION WHETHER ON ACCRE OR LOCAL\u001b[0m\n\u001b[0m           ^\u001b[0m\n\u001b[0;31mSyntaxError\u001b[0m\u001b[0;31m:\u001b[0m invalid syntax\n"
     ]
    }
   ],
   "source": [
    "# FIX THIS CODE TO OPTION WHETHER ON ACCRE OR LOCAL\n",
    "\n",
    "#Check out a particular commit of sam toolbox, then the branch we were working on\n",
    "cd /home/middlepg/m-files/sam/\n",
    "git checkout xxxxx .\n",
    "git checkout master;\n",
    "\n",
    "#Check out my own MATLAB tools\n",
    "cd /home/middlepg/m-files/matlab_code_bbz/\n",
    "git checkout xxxxx .\n",
    "git checkout master;\n",
    "\n",
    "#Check out tools from the MATLAB File Exchange\n",
    "cd /home/middlepg/m-files/matlab_file_exchange_tools/\n",
    "git checkout xxxx .\n",
    "git checkout master;\n",
    "\n",
    "#Check out my cognitive modeling tools\n",
    "cd /home/middlepg/m-files/cmtb/\n",
    "git checkout xxxx .\n",
    "git checkout master;\n"
   ]
  },
  {
   "cell_type": "markdown",
   "metadata": {},
   "source": [
    "##### Step 1.2 - Add paths to MATLAB's search path"
   ]
  },
  {
   "cell_type": "markdown",
   "metadata": {},
   "source": [
    "_Goal_:  \n",
    "Ensure access to SAM toolbox and job code\n",
    "\n",
    "_Instructions_:  \n",
    "Paste code into MATLAB\n",
    "\n",
    "_Output_:  \n",
    "None"
   ]
  },
  {
   "cell_type": "code",
   "execution_count": 2,
   "metadata": {
    "collapsed": false
   },
   "outputs": [
    {
     "name": "stderr",
     "output_type": "stream",
     "text": [
      "ERROR: Cell magic `%%matlab` not found.\n"
     ]
    }
   ],
   "source": [
    "%%matlab\n",
    "accreRoot = '/gpfs22';\n",
    "accreHome = '/home/middlepg';\n",
    "accreScratch = '/scratch/middlepg';\n",
    "if isdir(fullfile(accreScratch))\n",
    "    matRoot = fullfile(accreRoot,accreHome,'m-files');\n",
    "    modelRoot = fullfile(accreScratch,'perceptualchoice_stop_model');\n",
    "    environ = 'accre';\n",
    "else\n",
    "    matRoot = '/Volumes/HD-1/Users/paulmiddlebrooks/schalllab';\n",
    "    modelRoot = '/Volumes/HD-1/Users/paulmiddlebrooks/perceptualchoice_stop_model';\n",
    "    environ = 'local';\n",
    "end\n",
    "\n",
    "addpath(genpath(fullfile(matRoot,'sam')));\n",
    "addpath(genpath(fullfile(matRoot,'matlab_code_bbz')));\n",
    "addpath(genpath(fullfile(matRoot,'matlab_file_exchange_tools')));\n",
    "addpath(genpath(fullfile(matRoot,'cmtb')));\n",
    "addpath(genpath(fullfile(modelRoot,'src/code/2017-03-06')));\n",
    "\n",
    "cd(fullfile(modelRoot,'src/code/2017-03-06/matlab'))\n"
   ]
  },
  {
   "cell_type": "markdown",
   "metadata": {},
   "source": [
    "##### Step 1.3 - Preprocess data"
   ]
  },
  {
   "cell_type": "markdown",
   "metadata": {},
   "source": [
    "_Goal:_  \n",
    "Convert behavioral data to SAM-compatible format\n",
    "\n",
    "_Instruction_:  \n",
    "Paste code into MATLAB\n",
    "\n",
    "_Output_:  \n",
    "`data_subj%.2d.mat` in `.../data/.../preproc01/subj%.2d/`"
   ]
  },
  {
   "cell_type": "code",
   "execution_count": null,
   "metadata": {
    "collapsed": false
   },
   "outputs": [],
   "source": [
    "%%matlab\n",
    "rawDataDir          = fullfile(modelRoot,'data/raw/');\n",
    "preprocDataDir      = fullfile(modelRoot,'data/2017-03-06/preproc01/');\n",
    "\n",
    "subject             = 'broca';\n",
    "sessions            = 'behavior2_ssd';\n",
    "job_preproc_data(rawDataDir,subject,sessions,preprocDataDir);\n",
    "\n",
    "subject             = 'xena';\n",
    "sessions            = 'behavior1_ssd';\n",
    "job_preproc_data(rawDataDir,subject,sessions,preprocDataDir);\n"
   ]
  },
  {
   "cell_type": "markdown",
   "metadata": {},
   "source": [
    "##### Step 1.4 - Specify random number generator seed"
   ]
  },
  {
   "cell_type": "markdown",
   "metadata": {},
   "source": [
    "_Goal_:  \n",
    "Ensure reproducible findings\n",
    "\n",
    "_Instruction_:  \n",
    "Paste code into MATLAB\n",
    "\n",
    "_Output_:  \n",
    "`rngStruct.mat` in `.../data/.../preproc01/`"
   ]
  },
  {
   "cell_type": "code",
   "execution_count": null,
   "metadata": {
    "collapsed": false
   },
   "outputs": [],
   "source": [
    "%%matlab\n",
    "preprocDataDir      = fullfile(modelRoot,'data/2017-03-06/preproc01/');\n",
    "rngStruct           = rng('shuffle');\n",
    "save(fullfile(preprocDataDir,'rngStruct.mat'),'rngStruct');\n"
   ]
  },
  {
   "cell_type": "markdown",
   "metadata": {},
   "source": [
    "\n",
    "# Step 2 - Optimize the GO parameters, using a large step size"
   ]
  },
  {
   "cell_type": "markdown",
   "metadata": {},
   "source": [
    "### Step 2.1 - Build the general SAM structure"
   ]
  },
  {
   "cell_type": "markdown",
   "metadata": {},
   "source": [
    "_Goal_:  \n",
    "Specify general settings, including details about the experiment, model, simulation, and optimization.\n",
    "\n",
    "_Instruction_:  \n",
    "Paste into MATLAB\n",
    "\n",
    "_Output_:  \n",
    "`SAM_goTrials.mat`"
   ]
  },
  {
   "cell_type": "code",
   "execution_count": null,
   "metadata": {
    "collapsed": false
   },
   "outputs": [],
   "source": [
    "%%matlab\n",
    "subj                    = [1 2];\n",
    "dt                      = 5;\n",
    "trialVar                = true;\n",
    "simScope                = 'go';\n",
    "choiceMech              = {'race','ffi','li'};\n",
    "stopMech                = 'none';\n",
    "fileStr.rawDataDir      = fullfile(modelRoot,'data/raw/');\n",
    "fileStr.preprocDataDir  = fullfile(modelRoot,'data/2017-03-06/preproc01/');\n",
    "load(fullfile(fileStr.preprocDataDir,'rngStruct.mat'),'rngStruct');\n",
    "\n",
    "nChoiceMech = numel(choiceMech);\n",
    "\n",
    "for iChoiceMech = 1:nChoiceMech\n",
    "    job_spec_sam_general(subj,dt,trialVar,simScope,choiceMech{iChoiceMech},stopMech,rngStruct,fileStr);\n",
    "end\n"
   ]
  },
  {
   "cell_type": "markdown",
   "metadata": {},
   "source": [
    "### Step 2.2 - Non-automatic optimization of GO parameters"
   ]
  },
  {
   "cell_type": "markdown",
   "metadata": {},
   "source": [
    "_Goal_:  \n",
    "To find good-fitting parameters by trial-and-error\n",
    "\n",
    "_Instruction_:  \n",
    "Paste code in notebook `Perceptual choice GO x0.ipynb` into MATLAB, in GUI mode. Tweak parameters until a satisfactory fit is obtained.\n",
    "\n",
    "_Output_:  \n",
    "`userSpecX_goTrials_model%.3d.mat`"
   ]
  },
  {
   "cell_type": "markdown",
   "metadata": {},
   "source": [
    "### Step 2.3 - Automatic optimization of initial GO parameters"
   ]
  },
  {
   "cell_type": "markdown",
   "metadata": {},
   "source": [
    "_Goal_:  \n",
    "to find combinations of GO parameters with low Pearson's Chi-squared/BIC values that can be used as initial parameters for optimization\n",
    "\n",
    "_Instruction_:  \n",
    "Run the bash script `exe_job_optim_x0.txt` on ACCRE\n",
    "\n",
    "_Output_:  \n",
    "`finalLog_initParam_goTrials_model%.3d_started%s.mat`  \n",
    "`SAM_initParam_goTrials_model%.3d_started%s.mat`  "
   ]
  },
  {
   "cell_type": "markdown",
   "metadata": {},
   "source": [
    "####If running on ACCRE:"
   ]
  },
  {
   "cell_type": "markdown",
   "metadata": {},
   "source": [
    "#### Update code in ACCRE by committing the most recent files/changes, and pulling in perceptualchoice_stop_model folder on ACCRE."
   ]
  },
  {
   "cell_type": "code",
   "execution_count": null,
   "metadata": {
    "collapsed": true
   },
   "outputs": [],
   "source": [
    "%%system\n",
    "scratch\n",
    "cd perceptualchoice_stop_model/src/code/2017-03-06/sbatch\n",
    "./exe_job_optim_x0.txt\n"
   ]
  },
  {
   "cell_type": "markdown",
   "metadata": {},
   "source": [
    "####If running Locally:"
   ]
  },
  {
   "cell_type": "code",
   "execution_count": null,
   "metadata": {
    "collapsed": false
   },
   "outputs": [],
   "source": [
    "%%matlab\n",
    "cd /Users/paulmiddlebrooks/perceptualchoice_stop_model/src/code/2017-03-06/matlab/\n",
    "exe_job_optim_x0\n"
   ]
  },
  {
   "cell_type": "markdown",
   "metadata": {},
   "source": [
    "##### Step 2.4 - Build model-specific SAM structures"
   ]
  },
  {
   "cell_type": "markdown",
   "metadata": {},
   "source": [
    "_Goal_:  \n",
    "to specify modeling settings that are specific to each model variant\n",
    "\n",
    "_Instruction_:  \n",
    "Paste into MATLAB  \n",
    "\n",
    "_Output_:  \n",
    "`SAM_goTrials_model%.3d.mat`"
   ]
  },
  {
   "cell_type": "code",
   "execution_count": null,
   "metadata": {
    "collapsed": false
   },
   "outputs": [],
   "source": [
    "subj                    = [1 2];\n",
    "dt                      = 5;\n",
    "trialVar                = true;\n",
    "simScope                = 'go';\n",
    "choiceMech              = {'race','li','ffi'};\n",
    "stopMech                = 'none';\n",
    "model                   = [2,43,79,352,478];\n",
    "fileStr.root            = fullfile(modelRoot,'data/2017-03-06/preproc01/subj%.2d/dt%d/%s/%s/');\n",
    "for iChoiceMech = 1:numel(choiceMech)\n",
    "    job_spec_sam_model(subj,dt,trialVar,simScope,choiceMech{iChoiceMech},stopMech,model,fileStr);\n",
    "end\n"
   ]
  },
  {
   "cell_type": "markdown",
   "metadata": {},
   "source": [
    "##### Step 2.5 - Automatic optimization of GO parameters"
   ]
  },
  {
   "cell_type": "markdown",
   "metadata": {},
   "source": [
    "_Goal_:  \n",
    "Find best-fitting GO parameters using constrained Simplex algorithm\n",
    "\n",
    "_Instruction_:  \n",
    "Run the bash script `exe_job_optim_x.txt` on ACCRE\n",
    "\n",
    "_Output_:  \n",
    "`finalLog_goTrials_model%.3d_startVal%.3d_started%s.mat`  \n",
    "`fValAndBestX_goTrials_model%.3d_startVal%.3d_exit%.1d_started%s.mat`  \n",
    "`SAM_goTrials_model%.3d_startVal%.3d_exit%.1d_started%s.mat`  "
   ]
  },
  {
   "cell_type": "markdown",
   "metadata": {},
   "source": [
    "####If running on ACCRE:"
   ]
  },
  {
   "cell_type": "code",
   "execution_count": null,
   "metadata": {
    "collapsed": true
   },
   "outputs": [],
   "source": [
    "%%system\n",
    "scratch\n",
    "cd perceptualchoice_stop_model/src/code/2017-03-06/sbatch\n",
    "./exe_job_optim_x.txt\n"
   ]
  },
  {
   "cell_type": "markdown",
   "metadata": {},
   "source": []
  },
  {
   "cell_type": "markdown",
   "metadata": {},
   "source": [
    "####If running Locally:"
   ]
  },
  {
   "cell_type": "code",
   "execution_count": null,
   "metadata": {
    "collapsed": false
   },
   "outputs": [],
   "source": [
    "%%matlab\n",
    "cd /Users/paulmiddlebrooks/perceptualchoice_stop_model/src/code/2017-03-06/matlab/\n",
    "exe_job_optim_x\n"
   ]
  },
  {
   "cell_type": "markdown",
   "metadata": {},
   "source": [
    "##### Step 2.6 - Merge optimization files"
   ]
  },
  {
   "cell_type": "markdown",
   "metadata": {},
   "source": [
    "_Goal_:  \n",
    "Make one file containing minimized cost function value and best-fitting parameters\n",
    "\n",
    "_Instruction_:  \n",
    "Paste into MATLAB\n",
    "\n",
    "_Output_:  \n",
    "`allFValAndBestX_goTrials_model%.3d.txt`"
   ]
  },
  {
   "cell_type": "code",
   "execution_count": null,
   "metadata": {
    "collapsed": true
   },
   "outputs": [],
   "source": [
    "%%matlab\n",
    "subj        = [1 2];\n",
    "dt          = 5;\n",
    "trialVar    = true;\n",
    "optimScope  = 'go';\n",
    "choiceMech  = {'race', 'li', 'ffi'};\n",
    "stopMech    = 'none';\n",
    "model                   = [2,43,79,352,478];\n",
    "\n",
    "fileStr.root   = fullfile(modelRoot,'data/2017-03-06/preproc01/subj%.2d/dt%d/%s/%s/');\n",
    "fileStr.output = 'allFValAndBestX_%sTrials_model%.3d.txt';\n",
    "\n",
    "for iChoiceMech = 1:numel(choiceMech)\n",
    "    job_merge_fvalandbestx(subj,dt,trialVar,optimScope,choiceMech{iChoiceMech},stopMech,model,fileStr);\n",
    "end\n"
   ]
  },
  {
   "cell_type": "markdown",
   "metadata": {},
   "source": [
    "##### Step 2.7 - Copy output to local computer"
   ]
  },
  {
   "cell_type": "code",
   "execution_count": null,
   "metadata": {
    "collapsed": true
   },
   "outputs": [],
   "source": [
    "%%system\n",
    "scp -r middlepg@login.accre.vanderbilt.edu:/scratch/middlepg/perceptualchoice_stop_model/data/2017-03-06/preproc01/subj01/dt5/trialvar/* /Users/paulmiddlebrooks/perceptualchoice_stop_model/data/2017-03-06/preproc01/subj01/dt5/trialvar/\n",
    "    \n",
    "scp -r middlepg@login.accre.vanderbilt.edu:/scratch/middlepg/perceptualchoice_stop_model/data/2017-03-06/preproc01/subj02/dt5/trialvar/* /Users/paulmiddlebrooks/perceptualchoice_stop_model/data/2017-03-06/preproc01/subj02/dt5/trialvar/\n",
    "\n"
   ]
  },
  {
   "cell_type": "markdown",
   "metadata": {},
   "source": [
    "# Stop Here. How are the GO fits??\n",
    "\n",
    "\n",
    "\n"
   ]
  },
  {
   "cell_type": "markdown",
   "metadata": {},
   "source": [
    "Run code in Plot Model Fits notebook"
   ]
  },
  {
   "cell_type": "markdown",
   "metadata": {},
   "source": [
    "# Step 3: Optimize STOP parameters"
   ]
  },
  {
   "cell_type": "markdown",
   "metadata": {},
   "source": [
    "This involves fitting the stop-signal trials only. The GO parameters are fixed to the best-fitting values from Step 2.\n",
    "\n",
    "Similar procedure as described above."
   ]
  },
  {
   "cell_type": "markdown",
   "metadata": {},
   "source": [
    "### Step 3 - Optimize the STOP parameters, using a large step size"
   ]
  },
  {
   "cell_type": "markdown",
   "metadata": {},
   "source": [
    "##### Step 3.1 - Build the general SAM structure"
   ]
  },
  {
   "cell_type": "markdown",
   "metadata": {},
   "source": [
    "_Goal_:  \n",
    "Specify general settings, including details about the experiment, model, simulation, and optimization.\n",
    "\n",
    "_Instruction_:  \n",
    "Paste into MATLAB\n",
    "\n",
    "_Output_:  \n",
    "`SAM_stopTrials.mat`"
   ]
  },
  {
   "cell_type": "code",
   "execution_count": null,
   "metadata": {
    "collapsed": true
   },
   "outputs": [],
   "source": [
    "%%matlab\n",
    "subj                    = [1 2];\n",
    "dt                      = 5;\n",
    "trialVar                = true;\n",
    "simScope                = 'stop';\n",
    "choiceMech              = {'race','li','ffi'};\n",
    "stopMech                = 'li';\n",
    "fileStr.rawDataDir      = fullfile(modelRoot,'data/raw/');\n",
    "fileStr.preprocDataDir  = fullfile(modelRoot,'data/2017-03-06/preproc01/');\n",
    "load(fullfile(fileStr.preprocDataDir,'rngStruct.mat'),'rngStruct');\n",
    "\n",
    "nChoiceMech = numel(choiceMech);\n",
    "\n",
    "for iChoiceMech = 1:nChoiceMech\n",
    "    job_spec_sam_general(subj,dt,trialVar,simScope,choiceMech{iChoiceMech},stopMech,rngStruct,fileStr);\n",
    "end\n"
   ]
  },
  {
   "cell_type": "markdown",
   "metadata": {},
   "source": [
    "##### Step 3.2 - Non-automatic optimization of STOP parameters"
   ]
  },
  {
   "cell_type": "markdown",
   "metadata": {},
   "source": [
    "_Goal_:  \n",
    "To find good-fitting parameters by trial-and-error\n",
    "\n",
    "_Instruction_:  \n",
    "Paste code in notebook `Perceptual choice STOP x0.ipynb` into MATLAB, in GUI mode. Tweak parameters until a satisfactory fit is obtained.\n",
    "\n",
    "_Output_:  \n",
    "`userSpecX_stopTrials_model%.3d.mat`"
   ]
  },
  {
   "cell_type": "markdown",
   "metadata": {},
   "source": [
    "##### Step 3.3 - Automatic optimization of initial STOP parameters"
   ]
  },
  {
   "cell_type": "markdown",
   "metadata": {},
   "source": [
    "_Goal_:  \n",
    "to find combinations of STOP parameters with low Pearson's Chi-squared/BIC values that can be used as initial parameters for optimization\n",
    "\n",
    "_Instruction_:  \n",
    "Run the bash script `exe_job_optim_x0.txt` on ACCRE\n",
    "\n",
    "_Output_:  \n",
    "`finalLog_initParam_stopTrials_model%.3d_started%s.mat`  \n",
    "`SAM_initParam_stopTrials_model%.3d_started%s.mat`  "
   ]
  },
  {
   "cell_type": "markdown",
   "metadata": {},
   "source": [
    "####If running on ACCRE:"
   ]
  },
  {
   "cell_type": "markdown",
   "metadata": {
    "collapsed": true
   },
   "source": [
    "%%system\n",
    "scratch\n",
    "cd perceptualchoice_stop_model/src/code/2017-03-06/sbatch\n",
    "./exe_job_optim_x0_STOP_broca.txt\n",
    "\n",
    "./exe_job_optim_x0_STOP_xena.txt\n"
   ]
  },
  {
   "cell_type": "markdown",
   "metadata": {},
   "source": [
    "####If running Locally:"
   ]
  },
  {
   "cell_type": "code",
   "execution_count": null,
   "metadata": {
    "collapsed": false
   },
   "outputs": [],
   "source": [
    "%%matlab\n",
    "cd /Users/paulmiddlebrooks/perceptualchoice_stop_model/src/code/2017-03-06/matlab/\n",
    "exe_job_optim_x0_STOP\n"
   ]
  },
  {
   "cell_type": "markdown",
   "metadata": {},
   "source": [
    "##### Step 3.4 - Build model-specific SAM structures"
   ]
  },
  {
   "cell_type": "markdown",
   "metadata": {},
   "source": [
    "_Goal_:  \n",
    "to specify modeling settings that are specific to each model variant\n",
    "\n",
    "_Instruction_:  \n",
    "Paste into MATLAB  \n",
    "\n",
    "_Output_:  \n",
    "`SAM_stopTrials_model%.3d.mat`"
   ]
  },
  {
   "cell_type": "code",
   "execution_count": 2,
   "metadata": {
    "collapsed": false,
    "scrolled": true
   },
   "outputs": [
    {
     "ename": "SyntaxError",
     "evalue": "invalid syntax (<ipython-input-2-bda021e3c66b>, line 9)",
     "output_type": "error",
     "traceback": [
      "\u001b[0;36m  File \u001b[0;32m\"<ipython-input-2-bda021e3c66b>\"\u001b[0;36m, line \u001b[0;32m9\u001b[0m\n\u001b[0;31m    for iChoiceMech = 1:numel(choiceMech)\u001b[0m\n\u001b[0m                    ^\u001b[0m\n\u001b[0;31mSyntaxError\u001b[0m\u001b[0;31m:\u001b[0m invalid syntax\n"
     ]
    }
   ],
   "source": [
    "subj                    = [1 2];\n",
    "model                   = [2,43,79,352,478];;\n",
    "dt                      = 5;\n",
    "trialVar                = true;\n",
    "simScope                = 'stop';\n",
    "choiceMech              = {'race','li','ffi'};\n",
    "stopMech                = 'li';\n",
    "fileStr.root   = fullfile(modelRoot,'data/2017-03-06/preproc01/subj%.2d/dt%d/%s/%s/');\n",
    "for iChoiceMech = 1:numel(choiceMech)\n",
    "    job_spec_sam_model(subj,dt,trialVar,simScope,choiceMech{iChoiceMech},stopMech,model,fileStr);\n",
    "end\n"
   ]
  },
  {
   "cell_type": "markdown",
   "metadata": {},
   "source": [
    "##### Step 3.5 - Automatic optimization of STOP parameters"
   ]
  },
  {
   "cell_type": "markdown",
   "metadata": {},
   "source": [
    "_Goal_:  \n",
    "Find best-fitting GO parameters using constrained Simplex algorithm\n",
    "\n",
    "_Instruction_:  \n",
    "Run the bash script `exe_job_optim_x.txt` on ACCRE\n",
    "\n",
    "_Output_:  \n",
    "`finalLog_stopTrials_model%.3d_startVal%.3d_started%s.mat`  \n",
    "`fValAndBestX_stopTrials_model%.3d_startVal%.3d_exit%.1d_started%s.mat`  \n",
    "`SAM_stopTrials_model%.3d_startVal%.3d_exit%.1d_started%s.mat`  "
   ]
  },
  {
   "cell_type": "markdown",
   "metadata": {},
   "source": [
    "####If running on ACCRE:"
   ]
  },
  {
   "cell_type": "markdown",
   "metadata": {
    "collapsed": true
   },
   "source": [
    "%%system\n",
    "scratch\n",
    "cd perceptualchoice_stop_model/src/code/2017-03-06/sbatch\n",
    "./exe_job_optim_x_STOP_broca.txt\n",
    "\n",
    "./exe_job_optim_x_STOP_xena.txt\n"
   ]
  },
  {
   "cell_type": "markdown",
   "metadata": {},
   "source": [
    "####If running Locally:"
   ]
  },
  {
   "cell_type": "code",
   "execution_count": null,
   "metadata": {
    "collapsed": false
   },
   "outputs": [],
   "source": [
    "%%matlab\n",
    "cd /Users/paulmiddlebrooks/perceptualchoice_stop_model/src/code/2017-03-06/matlab/\n",
    "exe_job_optim_x\n"
   ]
  },
  {
   "cell_type": "markdown",
   "metadata": {},
   "source": [
    "##### Step 3.6 - Merge optimization files"
   ]
  },
  {
   "cell_type": "markdown",
   "metadata": {},
   "source": [
    "_Goal_:  \n",
    "Make one file containing minimized cost function value and best-fitting parameters\n",
    "\n",
    "_Instruction_:  \n",
    "Paste into MATLAB\n",
    "\n",
    "_Output_:  \n",
    "`allFValAndBestX_stopTrials_model%.3d.txt`"
   ]
  },
  {
   "cell_type": "code",
   "execution_count": null,
   "metadata": {
    "collapsed": true
   },
   "outputs": [],
   "source": [
    "%%matlab\n",
    "subj        = [1 2];\n",
    "dt          = 5;\n",
    "trialVar    = true;\n",
    "optimScope  = 'stop';\n",
    "choiceMech  = {'race', 'li', 'ffi'};\n",
    "stopMech    = 'li';\n",
    "model       = [2,43,79,352,478];\n",
    "\n",
    "fileStr.root   = fullfile(modelRoot,'data/2017-03-06/preproc01/subj%.2d/dt%d/%s/%s/');\n",
    "fileStr.output = 'allFValAndBestX_%sTrials_model%.3d.txt';\n",
    "\n",
    "for iChoiceMech = 1:numel(choiceMech)\n",
    "    job_merge_fvalandbestx(subj,dt,trialVar,optimScope,choiceMech{iChoiceMech},stopMech,model,fileStr);\n",
    "end\n"
   ]
  },
  {
   "cell_type": "markdown",
   "metadata": {},
   "source": [
    "##### Step 3.7 - Copy output to local computer"
   ]
  },
  {
   "cell_type": "code",
   "execution_count": null,
   "metadata": {
    "collapsed": true
   },
   "outputs": [],
   "source": [
    "%%system\n",
    "  \n",
    "scp -r middlepg@login.accre.vanderbilt.edu:/scratch/middlepg/perceptualchoice_stop_model/data/2017-03-06/preproc01/subj01/dt5/trialvar/* /Users/paulmiddlebrooks/perceptualchoice_stop_model/data/2017-03-06/preproc01/subj01/dt5/trialvar/\n",
    "\n",
    "scp -r middlepg@login.accre.vanderbilt.edu:/scratch/middlepg/perceptualchoice_stop_model/data/2017-03-06/preproc01/subj02/dt5/trialvar/* /Users/paulmiddlebrooks/perceptualchoice_stop_model/data/2017-03-06/preproc01/subj02/dt5/trialvar/\n"
   ]
  },
  {
   "cell_type": "markdown",
   "metadata": {},
   "source": [
    "# Step 4 - Optimize the GO and STOP parameters"
   ]
  },
  {
   "cell_type": "markdown",
   "metadata": {},
   "source": [
    "This involves fitting the go and stop trials. The GO and STOP parameters start at the best-fitting values from Step 2 and 3."
   ]
  },
  {
   "cell_type": "markdown",
   "metadata": {},
   "source": [
    "#### Step 4.1 - Build the general SAM structure"
   ]
  },
  {
   "cell_type": "markdown",
   "metadata": {},
   "source": [
    "_Goal_:  \n",
    "Specify general settings, including details about the experiment, model, simulation, and optimization.\n",
    "\n",
    "_Instruction_:  \n",
    "Paste into MATLAB\n",
    "\n",
    "_Output_:  \n",
    "`SAM_allTrials.mat`"
   ]
  },
  {
   "cell_type": "code",
   "execution_count": 2,
   "metadata": {
    "collapsed": false
   },
   "outputs": [
    {
     "name": "stderr",
     "output_type": "stream",
     "text": [
      "ERROR: Cell magic `%%matlab` not found.\n"
     ]
    }
   ],
   "source": [
    "%%matlab\n",
    "subj                    = 1:2;\n",
    "dt                      = 5;\n",
    "trialVar                = true;\n",
    "optimScope              = 'all';\n",
    "choiceMech              = {'race','ffi','li'};\n",
    "stopMech                = 'li';\n",
    "fileStr.rawDataDir      = fullfile(modelRoot,'data/raw/');\n",
    "fileStr.preprocDataDir  = fullfile(modelRoot,'data/2017-03-06/preproc01/');\n",
    "load(fullfile(fileStr.preprocDataDir,'rngStruct.mat'),'rngStruct');\n",
    "\n",
    "nChoiceMech             = numel(choiceMech);\n",
    "nStopMech               = numel(stopMech);\n",
    "\n",
    "for iChoiceMech = 1:nChoiceMech\n",
    "        job_spec_sam_general(subj,dt,trialVar,optimScope,choiceMech{iChoiceMech},stopMech,rngStruct,fileStr);\n",
    "end\n"
   ]
  },
  {
   "cell_type": "markdown",
   "metadata": {},
   "source": [
    "##### Step 4.2 - Extract best-fitting GO and STOP parameters"
   ]
  },
  {
   "cell_type": "code",
   "execution_count": null,
   "metadata": {
    "collapsed": true
   },
   "outputs": [],
   "source": [
    "%%matlab\n",
    "subj                    = 1:2;\n",
    "dt                = 5;\n",
    "trialVar                = true;\n",
    "optimScope              = 'all';\n",
    "stopMech                = {'li'};\n",
    "model                   = [2,43,79,352,478];\n",
    "fileStr.root            = fullfile(modelRoot,'data/2017-03-06/preproc01/subj%.2d/dt%d/%s/%s/');\n",
    "fileStr.bestXSTOP       = fullfile(modelRoot,'data/2017-03-06/preproc01/subj%.2d/dt5/%s/%s/allFValAndBestX_stopTrials_model%.3d.txt');\n",
    "x0Base                  = {};\n",
    "doPlot                  = false;\n",
    "doSave                  = true;\n",
    "doStartParCluster       = false;\n",
    "\n",
    "\n",
    "choiceMech  = {'race'};\n",
    "\n",
    "nChoiceMech             = numel(choiceMech);\n",
    "nStopMech               = numel(stopMech);\n",
    "nModel                  = numel(model);\n",
    "\n",
    "for iChoiceMech = 1:nChoiceMech\n",
    "    for iStopMech = 1:nStopMech\n",
    "        for iModel = 1:nModel\n",
    "            job_spec_x0base(subj,dt,trialVar,optimScope,choiceMech{iChoiceMech},stopMech{iStopMech},model(iModel),fileStr,x0Base,doPlot,doSave,doStartParCluster);\n",
    "        end\n",
    "    end\n",
    "end\n",
    "\n",
    "choiceMech  = {'ffi'};\n",
    "\n",
    "nChoiceMech             = numel(choiceMech);\n",
    "nStopMech               = numel(stopMech);\n",
    "nModel                  = numel(model);\n",
    "\n",
    "for iChoiceMech = 1:nChoiceMech\n",
    "    for iStopMech = 1:nStopMech\n",
    "        for iModel = 1:nModel\n",
    "            job_spec_x0base(subj,dt,trialVar,optimScope,choiceMech{iChoiceMech},stopMech{iStopMech},model(iModel),fileStr,x0Base,doPlot,doSave,doStartParCluster);\n",
    "        end\n",
    "    end\n",
    "end\n",
    "\n",
    "choiceMech  = {'li'}\n",
    "\n",
    "nChoiceMech             = numel(choiceMech);\n",
    "nStopMech               = numel(stopMech);\n",
    "nModel                  = numel(model);\n",
    "\n",
    "for iChoiceMech = 1:nChoiceMech\n",
    "    for iStopMech = 1:nStopMech\n",
    "        for iModel = 1:nModel\n",
    "            job_spec_x0base(subj,dt,trialVar,optimScope,choiceMech{iChoiceMech},stopMech{iStopMech},model(iModel),fileStr,x0Base,doPlot,doSave,doStartParCluster);\n",
    "        end\n",
    "    end\n",
    "end\n"
   ]
  },
  {
   "cell_type": "markdown",
   "metadata": {},
   "source": [
    "##### Step 4.3 - Build model-specific SAM structure"
   ]
  },
  {
   "cell_type": "markdown",
   "metadata": {},
   "source": [
    "_Goal_:  \n",
    "to specify modeling settings that are specific to each model variant\n",
    "\n",
    "_Instruction_:  \n",
    "Paste into MATLAB  \n",
    "\n",
    "_Output_:  \n",
    "`SAM_allTrials_model%.3d.mat`"
   ]
  },
  {
   "cell_type": "code",
   "execution_count": null,
   "metadata": {
    "collapsed": true
   },
   "outputs": [],
   "source": [
    "%%matlab\n",
    "subj                    = 1:2;\n",
    "dt                      = 5;\n",
    "trialVar                = true;\n",
    "optimScope              = 'all';\n",
    "choiceMech  = {'race', 'li', 'ffi'};\n",
    "stopMech    = 'li';\n",
    "model       = [2,43,79,352,478];\n",
    "fileStr.root            = fullfile(modelRoot,'data/2017-03-06/preproc01/subj%.2d/dt%d/%s/%s/');\n",
    "\n",
    "nChoiceMech             = numel(choiceMech);\n",
    "\n",
    "for iChoiceMech = 1:nChoiceMech\n",
    "        job_spec_sam_model(subj,dt,trialVar,optimScope,choiceMech{iChoiceMech},stopMech,model,fileStr);\n",
    "end\n",
    "\n"
   ]
  },
  {
   "cell_type": "markdown",
   "metadata": {},
   "source": [
    "##### Step 4.4 - Automatic optimization of GO and STOP parameters"
   ]
  },
  {
   "cell_type": "markdown",
   "metadata": {},
   "source": [
    "_Goal_:  \n",
    "Find best-fitting GO and STOP parameters using constrained Simplex algorithm\n",
    "\n",
    "_Instruction_:  \n",
    "Run the bash script `exe_job_optim_x.sh` on ACCRE\n",
    "\n",
    "_Output_:  \n",
    "`finalLog_allTrials_model%.3d_startVal%.3d_started%s.mat`  \n",
    "`fValAndBestX_allpTrials_model%.3d_startVal%.3d_exit%.1d_started%s.mat`  \n",
    "`SAM_allTrials_model%.3d_startVal%.3d_exit%.1d_started%s.mat`  "
   ]
  },
  {
   "cell_type": "markdown",
   "metadata": {
    "collapsed": true
   },
   "source": [
    "%%system\n",
    "scratch\n",
    "cd perceptualchoice_stop_model/src/code/2017-03-06/sbatch\n",
    "./exe_job_optim_x_All_broca.txt\n",
    "./exe_job_optim_x_All_xena.txt\n"
   ]
  },
  {
   "cell_type": "markdown",
   "metadata": {},
   "source": [
    "##### Step 4.5 - Merge optimization files\n"
   ]
  },
  {
   "cell_type": "markdown",
   "metadata": {},
   "source": [
    "_Goal_:  \n",
    "Make one file containing minimized cost function value and best-fitting parameters\n",
    "\n",
    "_Instruction_:  \n",
    "Paste into MATLAB\n",
    "\n",
    "_Output_:  \n",
    "`allFValAndBestX_allTrials_model%.3d.txt`"
   ]
  },
  {
   "cell_type": "code",
   "execution_count": null,
   "metadata": {
    "collapsed": true
   },
   "outputs": [],
   "source": [
    "%%matlab\n",
    "subj        = 1:2;\n",
    "dt          = 5;\n",
    "trialVar                = true;\n",
    "optimScope              = 'all';\n",
    "choiceMech  = {'race', 'li', 'ffi'};\n",
    "stopMech    = {'li'};\n",
    "model       = [2,43,79,352,478];\n",
    "fileStr.root            = fullfile(modelRoot,'data/2017-03-06/preproc01/subj%.2d/dt%d/%s/%s/');\n",
    "\n",
    "\n",
    "choiceMech  = {'race'};\n",
    "nChoiceMech = numel(choiceMech);\n",
    "nStopMech   = numel(stopMech);\n",
    "\n",
    "fileStr.output = 'allFValAndBestX_%sTrials_model%.3d.txt';\n",
    "\n",
    "for iChoiceMech = 1:nChoiceMech\n",
    "    for iStopMech = 1:nStopMech\n",
    "        job_merge_fvalandbestx(subj,dt,trialVar,optimScope,choiceMech{iChoiceMech},stopMech{iStopMech},model,fileStr);\n",
    "    end\n",
    "end\n",
    "\n",
    "choiceMech  = {'ffi'};\n",
    "\n",
    "for iChoiceMech = 1:numel(choiceMech)\n",
    "    for iStopMech = 1:nStopMech\n",
    "        job_merge_fvalandbestx(subj,dt,trialVar,optimScope,choiceMech{iChoiceMech},stopMech{iStopMech},model,fileStr);\n",
    "    end\n",
    "end\n",
    "\n",
    "choiceMech  = {'li'};\n",
    "\n",
    "for iChoiceMech = 1:numel(choiceMech)\n",
    "    for iStopMech = 1:nStopMech\n",
    "        job_merge_fvalandbestx(subj,dt,trialVar,optimScope,choiceMech{iChoiceMech},stopMech{iStopMech},model,fileStr);\n",
    "    end\n",
    "end"
   ]
  },
  {
   "cell_type": "markdown",
   "metadata": {},
   "source": [
    "# Step 5 - Optimize GO and STOP parameters at 1-ms resolution\n"
   ]
  },
  {
   "cell_type": "markdown",
   "metadata": {},
   "source": [
    "This involves fitting the go and stop trials. The GO and STOP parameters start at the best-fitting values from Step 4."
   ]
  },
  {
   "cell_type": "markdown",
   "metadata": {},
   "source": [
    "##### Step 5.1 - Build the general SAM structure"
   ]
  },
  {
   "cell_type": "markdown",
   "metadata": {},
   "source": [
    "_Goal_:  \n",
    "Specify general settings, including details about the experiment, model, simulation, and optimization.\n",
    "\n",
    "_Instruction_:  \n",
    "Paste into MATLAB\n",
    "\n",
    "_Output_:  \n",
    "`SAM_allTrials.mat`"
   ]
  },
  {
   "cell_type": "code",
   "execution_count": null,
   "metadata": {
    "collapsed": true
   },
   "outputs": [],
   "source": [
    "%%matlab\n",
    "subj                    = 1:2;\n",
    "dt                      = 1;\n",
    "trialVar                = true;\n",
    "optimScope              = 'all';\n",
    "choiceMech              = {'race','ffi','li'};\n",
    "stopMech                = {'li'};\n",
    "fileStr.rawDataDir      = fullfile(modelRoot,'data/raw/');\n",
    "fileStr.preprocDataDir  = fullfile(modelRoot,'data/2017-03-06/preproc01/');\n",
    "load(fullfile(fileStr.preprocDataDir,'rngStruct.mat'),'rngStruct');\n",
    "\n",
    "nChoiceMech             = numel(choiceMech);\n",
    "nStopMech               = numel(stopMech);\n",
    "\n",
    "for iChoiceMech = 1:nChoiceMech\n",
    "    for iStopMech = 1:nStopMech\n",
    "        job_spec_sam_general(subj,dt,trialVar,optimScope,choiceMech{iChoiceMech},stopMech{iStopMech},rngStruct,fileStr);\n",
    "    end\n",
    "end\n"
   ]
  },
  {
   "cell_type": "markdown",
   "metadata": {},
   "source": [
    "##### Step 5.2 - Extract best-fitting GO and STOP (\"All\") parameters at 5 ms resolution"
   ]
  },
  {
   "cell_type": "code",
   "execution_count": null,
   "metadata": {
    "collapsed": true
   },
   "outputs": [],
   "source": [
    "%%matlab\n",
    "subj                    = 1:2;\n",
    "dt                      = 1;\n",
    "trialVar                = true;\n",
    "optimScope              = 'all';\n",
    "stopMech                = {'li'};\n",
    "model                   = [2,43,79,352,478];\n",
    "fileStr.root            = fullfile(modelRoot,'data/2017-03-06/preproc01/subj%.2d/dt%d/%s/%s/');\n",
    "fileStr.bestXSTOP       = fullfile(modelRoot,'data/2017-03-06/preproc01/subj%.2d/dt5/%s/%s/allFValAndBestX_allTrials_model%.3d.txt');\n",
    "x0Base                  = {};\n",
    "doPlot                  = false;\n",
    "doSave                  = true;\n",
    "doStartParCluster       = false;\n",
    "\n",
    "nStopMech               = numel(stopMech);\n",
    "nModel                  = numel(model);\n",
    "\n",
    "\n",
    "choiceMech              = {'race'};\n",
    "nChoiceMech             = numel(choiceMech);\n",
    "\n",
    "for iChoiceMech = 1:nChoiceMech\n",
    "    for iStopMech = 1:nStopMech\n",
    "        for iModel = 1:nModel\n",
    "            job_spec_x0base(subj,dt,trialVar,optimScope,choiceMech{iChoiceMech},stopMech{iStopMech},model(iModel),fileStr,x0Base,doPlot,doSave,doStartParCluster);\n",
    "        end\n",
    "    end\n",
    "end\n",
    "\n",
    "\n",
    "choiceMech  = {'ffi'};\n",
    "\n",
    "for iChoiceMech = 1:nChoiceMech\n",
    "    for iStopMech = 1:nStopMech\n",
    "        for iModel = 1:nModel\n",
    "            job_spec_x0base(subj,dt,trialVar,optimScope,choiceMech{iChoiceMech},stopMech{iStopMech},model(iModel),fileStr,x0Base,doPlot,doSave,doStartParCluster);\n",
    "        end\n",
    "    end\n",
    "end\n",
    "\n",
    "\n",
    "choiceMech  = {'li'}\n",
    "\n",
    "for iChoiceMech = 1:nChoiceMech\n",
    "    for iStopMech = 1:nStopMech\n",
    "        for iModel = 1:nModel\n",
    "            job_spec_x0base(subj,dt,trialVar,optimScope,choiceMech{iChoiceMech},stopMech{iStopMech},model(iModel),fileStr,x0Base,doPlot,doSave,doStartParCluster);\n",
    "        end\n",
    "    end\n",
    "end\n"
   ]
  },
  {
   "cell_type": "markdown",
   "metadata": {},
   "source": [
    "##### Step 5.3 - Build model-specific SAM structure"
   ]
  },
  {
   "cell_type": "markdown",
   "metadata": {},
   "source": [
    "_Goal_:  \n",
    "to specify modeling settings that are specific to each model variant\n",
    "\n",
    "_Instruction_:  \n",
    "Paste into MATLAB  \n",
    "\n",
    "_Output_:  \n",
    "`SAM_allTrials_model%.3d.mat`"
   ]
  },
  {
   "cell_type": "code",
   "execution_count": null,
   "metadata": {
    "collapsed": true
   },
   "outputs": [],
   "source": [
    "%%matlab\n",
    "subj                    = 1:2;\n",
    "dt                      = 1;\n",
    "trialVar                = true;\n",
    "optimScope              = 'all';\n",
    "model                   = [2,43,79,352,478];\n",
    "stopMech                = {'li'};\n",
    "fileStr.root            = fullfile(modelRoot,'data/2017-03-06/preproc01/subj%.2d/dt%d/%s/%s/');\n",
    "\n",
    "\n",
    "choiceMech              = {'race'};\n",
    "nChoiceMech             = numel(choiceMech);\n",
    "nStopMech               = numel(stopMech);\n",
    "\n",
    "for iChoiceMech = 1:nChoiceMech\n",
    "    for iStopMech = 1:nStopMech\n",
    "        job_spec_sam_model(subj,dt,trialVar,optimScope,choiceMech{iChoiceMech},stopMech{iStopMech},model,fileStr);\n",
    "    end\n",
    "end\n",
    "\n",
    "choiceMech              = {'ffi'};\n",
    "for iChoiceMech = 1:numel(choiceMech)\n",
    "    for iStopMech = 1:nStopMech\n",
    "        job_spec_sam_model(subj,dt,trialVar,optimScope,choiceMech{iChoiceMech},stopMech{iStopMech},model,fileStr);\n",
    "    end\n",
    "end\n",
    "\n",
    "choiceMech              = {'li'};\n",
    "for iChoiceMech = 1:numel(choiceMech)\n",
    "    for iStopMech = 1:nStopMech\n",
    "        job_spec_sam_model(subj,dt,trialVar,optimScope,choiceMech{iChoiceMech},stopMech{iStopMech},model,fileStr);\n",
    "    end\n",
    "end\n"
   ]
  },
  {
   "cell_type": "markdown",
   "metadata": {},
   "source": [
    "##### Step 5.4 - Automatic optimization of GO and STOP parameters\n"
   ]
  },
  {
   "cell_type": "markdown",
   "metadata": {},
   "source": [
    "_Goal_:  \n",
    "Find best-fitting GO and STOP parameters using constrained Simplex algorithm\n",
    "\n",
    "_Instruction_:  \n",
    "Run the bash script `exe_job_optim_x.sh` on ACCRE\n",
    "\n",
    "_Output_:  \n",
    "`finalLog_allTrials_model%.3d_startVal%.3d_started%s.mat`  \n",
    "`fValAndBestX_allpTrials_model%.3d_startVal%.3d_exit%.1d_started%s.mat`  \n",
    "`SAM_allTrials_model%.3d_startVal%.3d_exit%.1d_started%s.mat`  "
   ]
  },
  {
   "cell_type": "markdown",
   "metadata": {
    "collapsed": true
   },
   "source": [
    "%%system\n",
    "scratch\n",
    "cd perceptualchoice_stop_model/src/code/2017-03-06/sbatch\n",
    "./exe_job_optim_x_broca.txt\n",
    "\n",
    "./exe_job_optim_x_xena.txt\n"
   ]
  },
  {
   "cell_type": "markdown",
   "metadata": {},
   "source": [
    "##### Step 5.5 - Merge optimization files\n"
   ]
  },
  {
   "cell_type": "markdown",
   "metadata": {},
   "source": [
    "_Goal_:  \n",
    "Make one file containing minimized cost function value and best-fitting parameters\n",
    "\n",
    "_Instruction_:  \n",
    "Paste into MATLAB\n",
    "\n",
    "_Output_:  \n",
    "`allFValAndBestX_allTrials_model%.3d.txt`"
   ]
  },
  {
   "cell_type": "code",
   "execution_count": null,
   "metadata": {
    "collapsed": true
   },
   "outputs": [],
   "source": [
    "%%matlab\n",
    "subj        = [1:2];\n",
    "dt          = 1;\n",
    "trialVar    = true;\n",
    "optimScope  = 'all';\n",
    "stopMech    = {'li'};\n",
    "model       = [2,43,79,352,478];\n",
    "fileStr.root  = fullfile(modelRoot,'data/2017-03-06/preproc01/subj%.2d/dt%d/%s/%s/');\n",
    "fileStr.output = 'allFValAndBestX_%sTrials_model%.3d.txt';\n",
    "\n",
    "\n",
    "choiceMech  = {'race'};\n",
    "nChoiceMech = numel(choiceMech);\n",
    "nStopMech   = numel(stopMech);\n",
    "\n",
    "for iChoiceMech = 1:nChoiceMech\n",
    "    for iStopMech = 1:nStopMech\n",
    "        job_merge_fvalandbestx(subj,dt,trialVar,optimScope,choiceMech{iChoiceMech},stopMech{iStopMech},model,fileStr);\n",
    "    end\n",
    "end\n",
    "\n",
    "choiceMech  = {'ffi'};\n",
    "\n",
    "for iChoiceMech = 1:numel(choiceMech)\n",
    "    for iStopMech = 1:nStopMech\n",
    "        job_merge_fvalandbestx(subj,dt,trialVar,optimScope,choiceMech{iChoiceMech},stopMech{iStopMech},model,fileStr);\n",
    "    end\n",
    "end\n",
    "\n",
    "choiceMech  = {'li'};\n",
    "\n",
    "for iChoiceMech = 1:numel(choiceMech)\n",
    "    for iStopMech = 1:nStopMech\n",
    "        job_merge_fvalandbestx(subj,dt,trialVar,optimScope,choiceMech{iChoiceMech},stopMech{iStopMech},model,fileStr);\n",
    "    end\n",
    "end\n"
   ]
  },
  {
   "cell_type": "markdown",
   "metadata": {},
   "source": [
    "##### Step 5.2 - Extract best-fitting GO and STOP parameters at 1 ms resolution"
   ]
  },
  {
   "cell_type": "code",
   "execution_count": null,
   "metadata": {
    "collapsed": true
   },
   "outputs": [],
   "source": [
    "%%system\n",
    "mkdir /Users/paulmiddlebrooks/perceptualchoice_stop_model/data/2017-03-06/preproc01/subj01/dt1/\n",
    "scp -r middlepg@login.accre.vanderbilt.edu:/scratch/middlepg/perceptualchoice_stop_model/data/2017-03-06/preproc01/subj01/dt1/* /Users/paulmiddlebrooks/perceptualchoice_stop_model/data/2017-03-06/preproc01/subj01/dt1/\n",
    "\n",
    "mkdir /Users/paulmiddlebrooks/perceptualchoice_stop_model/data/2017-03-06/preproc01/subj02/dt1/\n",
    "scp -r middlepg@login.accre.vanderbilt.edu:/scratch/middlepg/perceptualchoice_stop_model/data/2017-03-06/preproc01/subj02/dt1/* /Users/paulmiddlebrooks/perceptualchoice_stop_model/data/2017-03-06/preproc01/subj02/dt1/\n",
    "        \n"
   ]
  }
 ],
 "metadata": {
  "kernelspec": {
   "display_name": "Python 2",
   "language": "python",
   "name": "python2"
  },
  "language_info": {
   "codemirror_mode": {
    "name": "ipython",
    "version": 2
   },
   "file_extension": ".py",
   "mimetype": "text/x-python",
   "name": "python",
   "nbconvert_exporter": "python",
   "pygments_lexer": "ipython2",
   "version": "2.7.10"
  }
 },
 "nbformat": 4,
 "nbformat_minor": 0
}
