{
 "cells": [
  {
   "cell_type": "markdown",
   "metadata": {},
   "source": [
    "# Step 1 - Preparatory processes"
   ]
  },
  {
   "cell_type": "markdown",
   "metadata": {},
   "source": [
    "Log into accre (via a terminal window)"
   ]
  },
  {
   "cell_type": "code",
   "execution_count": null,
   "metadata": {
    "collapsed": true
   },
   "outputs": [],
   "source": [
    "ssh middlepg@login.accre.vanderbilt.edu"
   ]
  },
  {
   "cell_type": "markdown",
   "metadata": {},
   "source": [
    "##### Step 1.1 - Check out specific versions of various toolboxes"
   ]
  },
  {
   "cell_type": "markdown",
   "metadata": {},
   "source": [
    "_Goal_:  \n",
    "Control the version of the toolboxes used; either update to most recent (present experiment), or update to correct commit (past experiment).\n",
    "\n",
    "_Instructions_:  \n",
    "Paste code into terminal. Make sure to clone versions of these toolboxes into your own home directory and refer to those paths.\n",
    "\n",
    "_Output_:  \n",
    "None"
   ]
  },
  {
   "cell_type": "markdown",
   "metadata": {},
   "source": [
    "###IN ACCRE, Checkout the right commit of source codes (matlab and slurm scripts)"
   ]
  },
  {
   "cell_type": "markdown",
   "metadata": {},
   "source": [
    "####If running a present experiment, update to the latest code:"
   ]
  },
  {
   "cell_type": "code",
   "execution_count": 2,
   "metadata": {
    "collapsed": false
   },
   "outputs": [
    {
     "ename": "SyntaxError",
     "evalue": "invalid syntax (<ipython-input-2-7134f1a007c8>, line 2)",
     "output_type": "error",
     "traceback": [
      "\u001b[0;36m  File \u001b[0;32m\"<ipython-input-2-7134f1a007c8>\"\u001b[0;36m, line \u001b[0;32m2\u001b[0m\n\u001b[0;31m    cd /scratch/middlepg/perceptualchoice_stop_model/\u001b[0m\n\u001b[0m                                                     ^\u001b[0m\n\u001b[0;31mSyntaxError\u001b[0m\u001b[0;31m:\u001b[0m invalid syntax\n"
     ]
    }
   ],
   "source": [
    "# Check out analysis code\n",
    "cd /scratch/middlepg/perceptualchoice_stop_model/\n",
    "\n",
    "\n",
    "git pull\n",
    "\n",
    "# or\n",
    "\n",
    "git fetch --all\n",
    "# then\n",
    "git reset --hard origin/master\n"
   ]
  },
  {
   "cell_type": "markdown",
   "metadata": {},
   "source": [
    "##### Step 1.2 - Add paths to MATLAB's search path"
   ]
  },
  {
   "cell_type": "markdown",
   "metadata": {},
   "source": [
    "_Goal_:  \n",
    "Ensure access to SAM toolbox and job code\n",
    "\n",
    "_Instructions_:  \n",
    "Paste code into MATLAB\n",
    "\n",
    "_Output_:  \n",
    "None"
   ]
  },
  {
   "cell_type": "code",
   "execution_count": 4,
   "metadata": {
    "collapsed": false
   },
   "outputs": [
    {
     "name": "stderr",
     "output_type": "stream",
     "text": [
      "ERROR: Cell magic `%%matlab` not found.\n"
     ]
    }
   ],
   "source": [
    "%%matlab\n",
    "accreRoot = '/gpfs22';\n",
    "accreHome = '/home/middlepg';\n",
    "accreScratch = '/scratch/middlepg';\n",
    "if isdir(fullfile(accreScratch))\n",
    "    matRoot = fullfile(accreRoot,accreHome,'m-files');\n",
    "    modelRoot = fullfile(accreScratch,'perceptualchoice_stop_model');\n",
    "    environ = 'accre';\n",
    "else\n",
    "    matRoot = '/Volumes/HD-1/Users/paulmiddlebrooks/schalllab';\n",
    "    modelRoot = '/Volumes/HD-1/Users/paulmiddlebrooks/perceptualchoice_stop_model';\n",
    "    environ = 'local';\n",
    "end\n",
    "\n",
    "addpath(genpath(fullfile(matRoot,'sam')));\n",
    "addpath(genpath(fullfile(matRoot,'matlab_code_bbz')));\n",
    "addpath(genpath(fullfile(matRoot,'matlab_file_exchange_tools')));\n",
    "addpath(genpath(fullfile(matRoot,'cmtb')));\n",
    "addpath(genpath(fullfile(modelRoot,'src/code/2017-03-28')));\n",
    "\n",
    "cd(fullfile(modelRoot,'src/code/2017-03-28/matlab'))\n"
   ]
  },
  {
   "cell_type": "markdown",
   "metadata": {},
   "source": [
    "##### Step 1.3 - Copy previous experiment's preprocessed data"
   ]
  },
  {
   "cell_type": "code",
   "execution_count": null,
   "metadata": {
    "collapsed": true
   },
   "outputs": [],
   "source": [
    "%%matlab\n",
    "rawDataDir          = fullfile(modelRoot,'data/raw/');\n",
    "preprocDataDir      = fullfile(modelRoot,'data/2017-03-06/preproc01/');\n",
    "\n",
    "preprocDataDirCurrent      = fullfile(modelRoot,'data/2017-03-28/preproc01/');\n",
    "\n",
    "\n",
    "subject             = 'subj02';\n",
    "sessions            = 'data_subj02.mat';\n",
    "mkdir(fullfile(preprocDataDirCurrent,subject))\n",
    "copyfile(fullfile(preprocDataDir,subject,sessions),fullfile(preprocDataDirCurrent,subject,sessions))\n"
   ]
  },
  {
   "cell_type": "markdown",
   "metadata": {},
   "source": [
    "##### Step 1.4 - Copy previous experiment's random number generator seed"
   ]
  },
  {
   "cell_type": "code",
   "execution_count": null,
   "metadata": {
    "collapsed": true
   },
   "outputs": [],
   "source": [
    "%%matlab\n",
    "preprocDataDir      = fullfile(modelRoot,'data/2017-03-06/preproc01/');\n",
    "preprocDataDirCurrent      = fullfile(modelRoot,'data/2017-03-28/preproc01/');\n",
    "\n",
    "copyfile(fullfile(preprocDataDir,'rngStruct.mat'), fullfile(preprocDataDirCurrent,'rngStruct.mat'))\n"
   ]
  },
  {
   "cell_type": "markdown",
   "metadata": {},
   "source": [
    "## Step 2 - Fits\n"
   ]
  },
  {
   "cell_type": "markdown",
   "metadata": {},
   "source": [
    "##### Step 5.1 - Build the general SAM structure\n"
   ]
  },
  {
   "cell_type": "markdown",
   "metadata": {},
   "source": [
    "_Goal_:  \n",
    "Specify general settings, including details about the experiment, model, simulation, and optimization.\n",
    "\n",
    "_Instruction_:  \n",
    "Paste into MATLAB\n",
    "\n",
    "_Output_:  \n",
    "`SAM_allTrials.mat`"
   ]
  },
  {
   "cell_type": "code",
   "execution_count": null,
   "metadata": {
    "collapsed": true
   },
   "outputs": [],
   "source": [
    "%%matlab\n",
    "subj                    = 2;\n",
    "dt                      = 1;\n",
    "trialVar                = true;\n",
    "optimScope              = 'all';\n",
    "choiceMech              = {'race','ffi','li'};\n",
    "stopMech                = {'li'};\n",
    "fileStr.rawDataDir      = fullfile(modelRoot,'data/raw/');\n",
    "fileStr.preprocDataDir  = fullfile(modelRoot,'data/2017-03-28/preproc01/');\n",
    "load(fullfile(fileStr.preprocDataDir,'rngStruct.mat'),'rngStruct');\n",
    "\n",
    "nChoiceMech             = numel(choiceMech);\n",
    "nStopMech               = numel(stopMech);\n",
    "\n",
    "for iChoiceMech = 1:nChoiceMech\n",
    "    for iStopMech = 1:nStopMech\n",
    "        job_spec_sam_general(subj,dt,trialVar,optimScope,choiceMech{iChoiceMech},stopMech{iStopMech},rngStruct,fileStr);\n",
    "    end\n",
    "end\n"
   ]
  },
  {
   "cell_type": "markdown",
   "metadata": {},
   "source": [
    "##### Step 5.2 - Extract best-fitting GO and STOP parameters"
   ]
  },
  {
   "cell_type": "code",
   "execution_count": null,
   "metadata": {
    "collapsed": true
   },
   "outputs": [],
   "source": [
    "%%matlab\n",
    "subj                    = 2;\n",
    "trialVar                = true;\n",
    "dt                      = 1;\n",
    "simScope                = 'all';\n",
    "stopMech                = 'li';\n",
    "doPlot                  = true;\n",
    "doSave                  = true;\n",
    "doStartParCluster       = false;\n",
    "\n",
    "fileStrStart.result            = strcat(modelRoot,'/results/2017-03-06/preproc01/subj%.2d/dt%d/%s/%s/');\n",
    "fileStrStart.root            = strcat(modelRoot,'/data/2017-03-06/preproc01/subj%.2d/dt%d/%s/%s/');\n",
    "fileStrStart.fitRoot         = strcat(modelRoot,'/data/2017-03-06/preproc01/subj%.2d/dt%d/%s/%s/');\n",
    "\n",
    "fileStrFit.root            = strcat(modelRoot,'/data/2017-03-28/preproc01/subj%.2d/dt%d/%s/%s/');\n",
    "\n",
    "\n",
    "for iSubj = subj\n",
    "    switch iSubj\n",
    "\n",
    "        case 2\n",
    "            modelStartFrom = [352 352 352 352 352 352];\n",
    "            choiceStartFrom = {'race','race','race','race','race','race'};\n",
    "            modelToFit = [352 478 352 478 352 478];\n",
    "            choiceToFit = {'race','race','li','li','ffi','ffi'};\n",
    "    end       \n",
    "\n",
    "\n",
    "\n",
    "\n",
    "    for iFit = 2 : 2%length(modelStartFrom)\n",
    "\n",
    "\n",
    "        p = find_best_params(iSubj,trialVar,simScope,choiceStartFrom{iFit},stopMech,dt,modelStartFrom(iFit),fileStrStart)\n",
    "\n",
    "            % Get corresponding row of parameters\n",
    "            ind = (p.subject == iSubj & strcmp(p.unit, 'go'));\n",
    "\n",
    "\n",
    "        switch modelStartFrom(iFit)\n",
    "            case 79\n",
    "                switch modelToFit(iFit)\n",
    "                    case 79\n",
    "                        % Do nothing\n",
    "                end\n",
    "            case 352\n",
    "                switch modelToFit(iFit)\n",
    "                    case 352\n",
    "                        % Do nothing\n",
    "                    case 478\n",
    "                        p.z0{ind} = repmat(p.z0{ind},1,2);\n",
    "                end\n",
    "        end\n",
    "        \n",
    "        x0Base = table2cell(p(:,4:end))\n",
    "\n",
    "\n",
    "        % Specify the initial set of parameter and save/plot, if required\n",
    "        %job_spec_x0base(iSubj,dt,trialVar,simScope,choiceStartFrom{iFit},stopMech,modelStartFrom(iFit),fileStrStart,x0Base,doPlot,doSave,doStartParCluster);\n",
    "        job_spec_x0base(iSubj,dt,trialVar,simScope,choiceToFit{iFit},stopMech,modelToFit(iFit),fileStrFit,x0Base,doPlot,doSave,doStartParCluster);\n",
    "\n",
    "    end\n",
    "end\n"
   ]
  },
  {
   "cell_type": "markdown",
   "metadata": {},
   "source": [
    "##### Step 5.3 - Build model-specific SAM structure\n"
   ]
  },
  {
   "cell_type": "markdown",
   "metadata": {},
   "source": [
    "_Goal_:  \n",
    "to specify modeling settings that are specific to each model variant\n",
    "\n",
    "_Instruction_:  \n",
    "Paste into MATLAB  \n",
    "\n",
    "_Output_:  \n",
    "`SAM_allTrials_model%.3d.mat`"
   ]
  },
  {
   "cell_type": "code",
   "execution_count": null,
   "metadata": {
    "collapsed": true
   },
   "outputs": [],
   "source": [
    "%%matlab\n",
    "subj                    = 2;\n",
    "trialVar                = true;\n",
    "dt                      = 1;\n",
    "optimScope                = 'all';\n",
    "stopMech                = 'li';\n",
    "doStartParCluster       = false;\n",
    "fileStrStart.root            = strcat(modelRoot,'/data/2017-03-28/preproc01/subj%.2d/dt%d/%s/%s/');\n",
    "\n",
    "for iSubj = subj\n",
    "    switch iSubj\n",
    "        case 2\n",
    "            modelToFit = [478 352 478 352 478];\n",
    "            choiceToFit = {'race','li','li','ffi','ffi'};\n",
    "    end       \n",
    "\n",
    "    for iFit = 1 : length(modelToFit)\n",
    "\n",
    "        job_spec_sam_model(iSubj,dt,trialVar,optimScope,choiceToFit{iFit},stopMech,modelToFit(iFit),fileStrStart);\n",
    "\n",
    "    end\n",
    "end\n"
   ]
  },
  {
   "cell_type": "markdown",
   "metadata": {},
   "source": [
    "##### Step 5.4 - Automatic optimization of GO and STOP parameters\n"
   ]
  },
  {
   "cell_type": "markdown",
   "metadata": {},
   "source": [
    "_Goal_:  \n",
    "Find best-fitting GO and STOP parameters using constrained Simplex algorithm\n",
    "\n",
    "_Instruction_:  \n",
    "Run the bash script `exe_job_optim_x.sh` on ACCRE\n",
    "\n",
    "_Output_:  \n",
    "`finalLog_allTrials_model%.3d_startVal%.3d_started%s.mat`  \n",
    "`fValAndBestX_allpTrials_model%.3d_startVal%.3d_exit%.1d_started%s.mat`  \n",
    "`SAM_allTrials_model%.3d_startVal%.3d_exit%.1d_started%s.mat`  "
   ]
  },
  {
   "cell_type": "code",
   "execution_count": null,
   "metadata": {
    "collapsed": true
   },
   "outputs": [],
   "source": [
    "%%system\n",
    "scratch\n",
    "cd perceptualchoice_stop_model/src/code/2017-03-28/sbatch\n",
    "\n",
    "./exe_job_optim_x_All_xena_352.txt\n",
    "./exe_job_optim_x_All_xena_478.txt\n"
   ]
  },
  {
   "cell_type": "markdown",
   "metadata": {},
   "source": [
    "##### Step 5.5 - Merge optimization files\n"
   ]
  },
  {
   "cell_type": "markdown",
   "metadata": {},
   "source": [
    "_Goal_:  \n",
    "Make one file containing minimized cost function value and best-fitting parameters\n",
    "\n",
    "_Instruction_:  \n",
    "Paste into MATLAB\n",
    "\n",
    "_Output_:  \n",
    "`allFValAndBestX_allTrials_model%.3d.txt`"
   ]
  },
  {
   "cell_type": "code",
   "execution_count": null,
   "metadata": {
    "collapsed": true
   },
   "outputs": [],
   "source": [
    "%%matlab\n",
    "subj        = [1:2];\n",
    "dt          = 1;\n",
    "trialVar    = true;\n",
    "optimScope  = 'all';\n",
    "stopMech    = {'li'};\n",
    "fileStr.root  = fullfile(modelRoot,'data/2017-03-28/preproc01/subj%.2d/dt%d/%s/%s/');\n",
    "fileStr.output = 'allFValAndBestX_%sTrials_model%.3d.txt';\n",
    "\n",
    "\n",
    "for iSubj = subj\n",
    "    switch iSubj\n",
    "        case 1\n",
    "            modelToFit = [79 79 478];\n",
    "            choiceToFit = {'ffi','li','li'};\n",
    "\n",
    "        case 2\n",
    "            modelToFit = [79 79 352 352 478 478 478];\n",
    "            choiceToFit = {'ffi','li','li','ffi','race','li','ffi'};\n",
    "    end       \n",
    "\n",
    "    for iFit = 1 : length(modelToFit)\n",
    "\n",
    "            job_merge_fvalandbestx(iSubj,dt,trialVar,optimScope,choiceToFit{iFit},stopMech{1},modelToFit(iFit),fileStr);\n",
    "\n",
    "    end\n",
    "end\n",
    "\n"
   ]
  },
  {
   "cell_type": "markdown",
   "metadata": {},
   "source": [
    "##### Step 5.2 - Extract best-fitting GO and STOP parameters at 1 ms resolution"
   ]
  },
  {
   "cell_type": "code",
   "execution_count": null,
   "metadata": {
    "collapsed": true
   },
   "outputs": [],
   "source": [
    "%%system\n",
    "mkdir /Users/paulmiddlebrooks/perceptualchoice_stop_model/data/2017-03-28/preproc01/subj01/dt1/\n",
    "scp -r middlepg@login.accre.vanderbilt.edu:/scratch/middlepg/perceptualchoice_stop_model/data/2017-03-28/preproc01/subj01/dt1/* /Users/paulmiddlebrooks/perceptualchoice_stop_model/data/2017-03-28/preproc01/subj01/dt1/\n",
    "\n",
    "mkdir /Users/paulmiddlebrooks/perceptualchoice_stop_model/data/2017-03-28/preproc01/subj02/dt1/\n",
    "scp -r middlepg@login.accre.vanderbilt.edu:/scratch/middlepg/perceptualchoice_stop_model/data/2017-03-28/preproc01/subj02/dt1/* /Users/paulmiddlebrooks/perceptualchoice_stop_model/data/2017-03-28/preproc01/subj02/dt1/\n",
    "        \n"
   ]
  }
 ],
 "metadata": {
  "kernelspec": {
   "display_name": "Python 2",
   "language": "python",
   "name": "python2"
  },
  "language_info": {
   "codemirror_mode": {
    "name": "ipython",
    "version": 2
   },
   "file_extension": ".py",
   "mimetype": "text/x-python",
   "name": "python",
   "nbconvert_exporter": "python",
   "pygments_lexer": "ipython2",
   "version": "2.7.13"
  }
 },
 "nbformat": 4,
 "nbformat_minor": 0
}
