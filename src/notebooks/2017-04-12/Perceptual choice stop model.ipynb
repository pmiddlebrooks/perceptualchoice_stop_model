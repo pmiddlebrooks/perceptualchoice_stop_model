{
 "cells": [
  {
   "cell_type": "markdown",
   "metadata": {},
   "source": [
    "# Step 1 - Preparatory processes"
   ]
  },
  {
   "cell_type": "markdown",
   "metadata": {},
   "source": [
    "Log into accre (via a terminal window)"
   ]
  },
  {
   "cell_type": "code",
   "execution_count": null,
   "metadata": {
    "collapsed": true
   },
   "outputs": [],
   "source": [
    "ssh middlepg@login.accre.vanderbilt.edu"
   ]
  },
  {
   "cell_type": "markdown",
   "metadata": {},
   "source": [
    "##### Step 1.1 - Check out specific versions of various toolboxes"
   ]
  },
  {
   "cell_type": "markdown",
   "metadata": {},
   "source": [
    "_Goal_:  \n",
    "Control the version of the toolboxes used; either update to most recent (present experiment), or update to correct commit (past experiment).\n",
    "\n",
    "_Instructions_:  \n",
    "Paste code into terminal. Make sure to clone versions of these toolboxes into your own home directory and refer to those paths.\n",
    "\n",
    "_Output_:  \n",
    "None"
   ]
  },
  {
   "cell_type": "markdown",
   "metadata": {},
   "source": [
    "###IN ACCRE, Checkout the right commit of source codes (matlab and slurm scripts)"
   ]
  },
  {
   "cell_type": "markdown",
   "metadata": {},
   "source": [
    "####If running a present experiment, update to the latest code:"
   ]
  },
  {
   "cell_type": "code",
   "execution_count": 2,
   "metadata": {
    "collapsed": false,
    "scrolled": false
   },
   "outputs": [
    {
     "ename": "SyntaxError",
     "evalue": "invalid syntax (<ipython-input-2-7134f1a007c8>, line 2)",
     "output_type": "error",
     "traceback": [
      "\u001b[0;36m  File \u001b[0;32m\"<ipython-input-2-7134f1a007c8>\"\u001b[0;36m, line \u001b[0;32m2\u001b[0m\n\u001b[0;31m    cd /scratch/middlepg/perceptualchoice_stop_model/\u001b[0m\n\u001b[0m                                                     ^\u001b[0m\n\u001b[0;31mSyntaxError\u001b[0m\u001b[0;31m:\u001b[0m invalid syntax\n"
     ]
    }
   ],
   "source": [
    "# Check out analysis code\n",
    "cd /scratch/middlepg/perceptualchoice_stop_model/\n",
    "\n",
    "\n",
    "git pull\n",
    "\n",
    "# or\n",
    "\n",
    "git fetch --all\n",
    "# then\n",
    "git reset --hard origin/master\n"
   ]
  },
  {
   "cell_type": "markdown",
   "metadata": {},
   "source": [
    "##### Step 1.2 - Add paths to MATLAB's search path"
   ]
  },
  {
   "cell_type": "markdown",
   "metadata": {},
   "source": [
    "_Goal_:  \n",
    "Ensure access to SAM toolbox and job code\n",
    "\n",
    "_Instructions_:  \n",
    "Paste code into MATLAB\n",
    "\n",
    "_Output_:  \n",
    "None"
   ]
  },
  {
   "cell_type": "code",
   "execution_count": null,
   "metadata": {
    "collapsed": true
   },
   "outputs": [],
   "source": [
    "%%matlab\n",
    "accreRoot = '/gpfs22';\n",
    "accreHome = '/home/middlepg';\n",
    "accreScratch = '/scratch/middlepg';\n",
    "if isdir(fullfile(accreScratch))\n",
    "    matRoot = fullfile(accreRoot,accreHome,'m-files');\n",
    "    modelRoot = fullfile(accreScratch,'perceptualchoice_stop_model');\n",
    "    environ = 'accre';\n",
    "else\n",
    "    matRoot = '/Volumes/HD-1/Users/paulmiddlebrooks/schalllab';\n",
    "    modelRoot = '/Volumes/HD-1/Users/paulmiddlebrooks/perceptualchoice_stop_model';\n",
    "    environ = 'local';\n",
    "end\n",
    "\n",
    "addpath(genpath(fullfile(matRoot,'sam')));\n",
    "addpath(genpath(fullfile(matRoot,'matlab_code_bbz')));\n",
    "addpath(genpath(fullfile(matRoot,'matlab_file_exchange_tools')));\n",
    "addpath(genpath(fullfile(matRoot,'cmtb')));\n",
    "addpath(genpath(fullfile(modelRoot,'src/code/2017-04-12')));\n",
    "\n",
    "cd(fullfile(modelRoot,'src/code/2017-04-12/matlab'))\n"
   ]
  },
  {
   "cell_type": "markdown",
   "metadata": {},
   "source": [
    "##### Step 5.4 - Simulate a bunch of fits using best fit parameters from previous fitting\n"
   ]
  },
  {
   "cell_type": "code",
   "execution_count": null,
   "metadata": {
    "collapsed": true
   },
   "outputs": [],
   "source": [
    "%%system\n",
    "scratch\n",
    "cd perceptualchoice_stop_model/src/code/2017-04-12/sbatch\n",
    "\n",
    "./exe_job_cost_dist.txt\n"
   ]
  },
  {
   "cell_type": "markdown",
   "metadata": {},
   "source": [
    "#### If running Locally:"
   ]
  },
  {
   "cell_type": "code",
   "execution_count": null,
   "metadata": {
    "collapsed": true
   },
   "outputs": [],
   "source": [
    "%%matlab\n",
    "cd /Users/paulmiddlebrooks/perceptualchoice_stop_model/src/code/2017-04-12/matlab/\n",
    "exe_job_cost_dist\n"
   ]
  },
  {
   "cell_type": "markdown",
   "metadata": {},
   "source": [
    "##### Copy cost distribution final logs to local computer"
   ]
  },
  {
   "cell_type": "code",
   "execution_count": null,
   "metadata": {
    "collapsed": true
   },
   "outputs": [],
   "source": [
    "%%system\n",
    "\n",
    "mkdir /Users/paulmiddlebrooks/perceptualchoice_stop_model/data/2017-04-12/preproc01/subj02/dt1/trialvar/\n",
    "scp -r middlepg@login.accre.vanderbilt.edu:/scratch/middlepg/perceptualchoice_stop_model/data/2017-04-12/preproc01/subj02/dt1/trialvar/* /Users/paulmiddlebrooks/perceptualchoice_stop_model/data/2017-04-12/preproc01/subj02/dt1/trialvar/\n"
   ]
  },
  {
   "cell_type": "markdown",
   "metadata": {},
   "source": [
    "##### Step 2.4 - Get the cost function distributions..."
   ]
  },
  {
   "cell_type": "code",
   "execution_count": null,
   "metadata": {
    "collapsed": true
   },
   "outputs": [],
   "source": [
    "%%matlab\n",
    "subj        = 2;\n",
    "dt          = 1;\n",
    "trialVar    = true;\n",
    "optimScope  = 'all';\n",
    "choiceMech  = {'race', 'li', 'ffi'};\n",
    "stopMech    = 'li';\n",
    "model                   = 352;\n",
    "\n",
    "fileStr.root   = fullfile(modelRoot,'data/2017-04-12/preproc01/subj%.2d/dt%d/%s/%s/');\n",
    "fileStr.output = 'allFValAndBestX_%sTrials_model%.3d.txt';\n",
    "\n",
    "for iChoiceMech = 1:numel(choiceMech)\n",
    "    job_merge_cost_dist(subj,dt,trialVar,optimScope,choiceMech{iChoiceMech},stopMech,model,fileStr);\n",
    "end\n"
   ]
  }
 ],
 "metadata": {
  "kernelspec": {
   "display_name": "Python 2",
   "language": "python",
   "name": "python2"
  },
  "language_info": {
   "codemirror_mode": {
    "name": "ipython",
    "version": 2
   },
   "file_extension": ".py",
   "mimetype": "text/x-python",
   "name": "python",
   "nbconvert_exporter": "python",
   "pygments_lexer": "ipython2",
   "version": "2.7.13"
  }
 },
 "nbformat": 4,
 "nbformat_minor": 0
}
