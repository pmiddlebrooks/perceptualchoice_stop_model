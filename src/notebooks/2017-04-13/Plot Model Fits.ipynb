{
 "cells": [
  {
   "cell_type": "markdown",
   "metadata": {},
   "source": [
    "##### Step 5.2 - View best-fitting GO and STOP parameters at 1 ms resolution"
   ]
  },
  {
   "cell_type": "code",
   "execution_count": null,
   "metadata": {
    "collapsed": true
   },
   "outputs": [],
   "source": [
    "subj                    = [1 2];\n",
    "model                   = [79,352,478];\n",
    "trialVar                = true;\n",
    "dt                      = 1;\n",
    "simScope                = 'all';\n",
    "choiceMech              = {'race','li','ffi'};\n",
    "stopMech                = 'li';\n",
    "fileStr.root            = strcat(modelRoot,'/data/2017-04-13/preproc01/subj%.2d/dt%d/%s/%s/');\n",
    "fileStr.fitRoot         = strcat(modelRoot,'/data/2017-04-13/preproc01/subj%.2d/dt%d/%s/%s/');\n",
    "fileStr.result          = strcat(modelRoot,'/results/2017-04-13/subj%.2d/dt%d/%s/%s/');\n",
    "\n",
    "    for jChoice = 1 : length(choiceMech)\n",
    "        p = find_best_params(subj,trialVar,simScope,choiceMech{jChoice},stopMech,dt,model,fileStr)\n",
    "    end\n"
   ]
  },
  {
   "cell_type": "markdown",
   "metadata": {},
   "source": [
    "##_Race_,  _trialVar_ = true"
   ]
  },
  {
   "cell_type": "markdown",
   "metadata": {},
   "source": [
    "##Plot goodness of fits\n"
   ]
  },
  {
   "cell_type": "code",
   "execution_count": null,
   "metadata": {
    "collapsed": true
   },
   "outputs": [],
   "source": [
    "%%matlab\n",
    "subject                 = 2;\n",
    "model                   = [2,43,79,352,478];\n",
    "%architecture            = {'crace_irace','crace_ibi','crace_ili','cffi_irace','cffi_ibi','cffi_ili','cli_irace','cli_ibi','cli_ili'};\n",
    "architecture            = {'crace','cli','cffi'};\n",
    "dt                      = 10;\n",
    "trialVar                = true;\n",
    "simScope                = 'go';\n",
    "fileStr.root            = '/Volumes/HD-1/Users/paulmiddlebrooks/perceptualchoice_stop_model/data/2017-04-13/preproc01/subj%.2d/dt%d/%s/%s/';\n",
    "\n",
    "plot_goodness_of_fit('chisquare',subject,model,architecture,dt,trialVar,simScope,fileStr);\n"
   ]
  },
  {
   "cell_type": "markdown",
   "metadata": {},
   "source": [
    "## Plot model fits: GO"
   ]
  },
  {
   "cell_type": "code",
   "execution_count": null,
   "metadata": {
    "collapsed": true
   },
   "outputs": [],
   "source": [
    "%%matlab\n",
    "subject                 = 2;%[1 2];\n",
    "model                   = [2,43,79,352,478];\n",
    "architecture            = {'crace','cli','cffi'}; %{'crace','cli','cffi'};\n",
    "dt                      = 5;\n",
    "trialVar                = true;\n",
    "fileStr.root            = '/Volumes/HD-1/Users/paulmiddlebrooks/perceptualchoice_stop_model/data/2017-04-13/preproc01/subj%.2d/dt%d/%s/%s/';\n",
    "fileStr.src             = '/Volumes/HD-1/Users/paulmiddlebrooks/perceptualchoice_stop_model/src/code/2017-04-13/matlab/';\n",
    "fileStr.result          = '/Volumes/HD-1/Users/paulmiddlebrooks/perceptualchoice_stop_model/results/2017-04-13/subj%.2d/dt%d/%s/%s/';\n",
    "responseSide            = {'both'};\n",
    "accuracy                = 'both';\n",
    "savePlot                = true;\n",
    "\n",
    "cd(fileStr.src)\n",
    "for iRsp = 1 : length(responseSide)\n",
    "    respSide = responseSide{iRsp};\n",
    "    plot_fits_go(subject,model,architecture,dt,trialVar,fileStr,respSide,accuracy,savePlot); \n",
    "end\n"
   ]
  },
  {
   "cell_type": "markdown",
   "metadata": {},
   "source": [
    "## Plot parameter fits from start to best fitting: GO"
   ]
  },
  {
   "cell_type": "code",
   "execution_count": null,
   "metadata": {
    "collapsed": true
   },
   "outputs": [],
   "source": [
    "%%matlab\n",
    "subject                 = 1;\n",
    "model                   = [2,43,79,352,478];\n",
    "architecture            = {'crace'}; %{'crace','cli','cffi'};\n",
    "dt                      = 10;\n",
    "trialVar                = true;\n",
    "fileStr.root            = '/Volumes/HD-1/Users/paulmiddlebrooks/perceptualchoice_stop_model/data/2017-04-13/preproc01/subj%.2d/dt%d/%s/%s/';\n",
    "fileStr.src             = '/Volumes/HD-1/Users/paulmiddlebrooks/perceptualchoice_stop_model/src/code/2017-04-13/matlab/';\n",
    "fileStr.result          = '/Volumes/HD-1/Users/paulmiddlebrooks/perceptualchoice_stop_model/results/2017-04-13/subj%.2d/dt%d/%s/%s/';\n",
    "savePlot                = false;\n",
    "\n",
    "plot_parameter_fits_go(subject,model,architecture,dt,trialVar,fileStr,savePlot); \n"
   ]
  },
  {
   "cell_type": "markdown",
   "metadata": {},
   "source": [
    "## Print model fit simulations"
   ]
  },
  {
   "cell_type": "code",
   "execution_count": null,
   "metadata": {
    "collapsed": true
   },
   "outputs": [],
   "source": [
    "subject                 = [1 2];\n",
    "model                   = [2,43,79,352,478];\n",
    "architecture            = {'crace_ili','cli_ili','cffi_ili'};\n",
    "dt                      = 1;\n",
    "trialVar                = true;\n",
    "fileStr.root            = '/Volumes/HD-1/Users/paulmiddlebrooks/perceptualchoice_stop_model/data/2017-04-13/preproc01/subj%.2d/dt%d/%s/%s/';\n",
    "fileStr.src             = '/Volumes/HD-1/Users/paulmiddlebrooks/perceptualchoice_stop_model/src/code/2017-04-13/matlab/';\n",
    "fileStr.result          = '/Volumes/HD-1/Users/paulmiddlebrooks/perceptualchoice_stop_model/results/2017-04-13/subj%.2d/dt%d/%s/%s/';\n",
    "responseSide            = {'right'};\n",
    "accuracy                = 'correct';\n",
    "savePlot                = false;\n",
    "\n",
    "cd(fileStr.src)\n",
    "for iRsp = 1 : length(responseSide)\n",
    "    respSide = responseSide{iRsp};\n",
    "    plot_simulation(subject,model,architecture,dt,trialVar,fileStr,savePlot); \n",
    "end\n"
   ]
  },
  {
   "cell_type": "markdown",
   "metadata": {},
   "source": [
    "##Plot model fits\n"
   ]
  },
  {
   "cell_type": "code",
   "execution_count": 1,
   "metadata": {
    "collapsed": false
   },
   "outputs": [
    {
     "name": "stderr",
     "output_type": "stream",
     "text": [
      "ERROR: Cell magic `%%matlab` not found.\n"
     ]
    }
   ],
   "source": [
    "subject                 = [1 2];\n",
    "model                   = [2,43,79,352,478];\n",
    "architecture            = {'crace_ili','cli_ili','cffi_ili'};\n",
    "dt                      = 1;\n",
    "trialVar                = true;\n",
    "simScope                = 'all';\n",
    "fileStr.root            = '/Volumes/HD-1/Users/paulmiddlebrooks/perceptualchoice_stop_model/data/2017-04-13/preproc01/subj%.2d/dt%d/%s/%s/';\n",
    "fileStr.src             = '/Volumes/HD-1/Users/paulmiddlebrooks/perceptualchoice_stop_model/src/code/2017-04-13/matlab/';\n",
    "fileStr.result          = '/Volumes/HD-1/Users/paulmiddlebrooks/perceptualchoice_stop_model/results/2017-04-13/subj%.2d/dt%d/%s/%s/';\n",
    "responseSide            = {'both'};\n",
    "accuracy                = {'both'};\n",
    "defective               = true;\n",
    "savePlot                = true;\n",
    "\n",
    "cd(fileStr.src)\n",
    "for iRsp = 1 : length(responseSide)\n",
    "    respSide = responseSide{iRsp};\n",
    "    for iAcc = 1 : length(accuracy)\n",
    "        accur = accuracy{iAcc};\n",
    "plot_fits(subject,model,architecture,dt,trialVar,simScope,fileStr,respSide,accur,defective,savePlot); \n",
    "    end\n",
    "end\n"
   ]
  },
  {
   "cell_type": "markdown",
   "metadata": {},
   "source": [
    "##Plot model fit summary stats\n"
   ]
  },
  {
   "cell_type": "code",
   "execution_count": 1,
   "metadata": {
    "collapsed": false
   },
   "outputs": [
    {
     "name": "stderr",
     "output_type": "stream",
     "text": [
      "ERROR: Cell magic `%%matlab` not found.\n"
     ]
    }
   ],
   "source": [
    "subject                 = [1 2];\n",
    "model                   = [2,43,79,352,478];\n",
    "architecture            = {'crace_ili','cli_ili','cffi_ili'};\n",
    "simScope                = 'all';\n",
    "dt                      = 1;\n",
    "trialVar                = true;\n",
    "fileStr.root            = '/Volumes/HD-1/Users/paulmiddlebrooks/perceptualchoice_stop_model/data/2017-04-13/preproc01/subj%.2d/dt%d/%s/%s/';\n",
    "fileStr.src             = '/Volumes/HD-1/Users/paulmiddlebrooks/perceptualchoice_stop_model/src/code/2017-04-13/matlab/';\n",
    "fileStr.result          = '/Volumes/HD-1/Users/paulmiddlebrooks/perceptualchoice_stop_model/results/2017-04-13/subj%.2d/dt%d/%s/%s/';\n",
    "savePlot                = true;\n",
    "\n",
    "cd(fileStr.src)\n",
    "plot_summary_stats(subject,model,architecture,dt,trialVar,simScope,fileStr,savePlot); \n",
    "\n"
   ]
  },
  {
   "cell_type": "markdown",
   "metadata": {},
   "source": [
    "# Cancel time and SSRT estimates"
   ]
  },
  {
   "cell_type": "code",
   "execution_count": null,
   "metadata": {
    "collapsed": true
   },
   "outputs": [],
   "source": [
    "subject                 = [1 2];\n",
    "model                   = [2,43,79,352,478];\n",
    "architecture            = {'crace_ili','cli_ili','cffi_ili'};\n",
    "\n",
    "\n",
    "\n",
    "subject                 = [1];\n",
    "model                   = [79];\n",
    "architecture            = 'cli_ili';\n",
    "dt                      = 1;\n",
    "trialVar                = true;\n",
    "simScope                = 'all';\n",
    "fileStr.root            = '/Volumes/HD-1/Users/paulmiddlebrooks/perceptualchoice_stop_model/data/2017-04-13/preproc01/subj%.2d/dt%d/%s/%s/';\n",
    "fileStr.src             = '/Volumes/HD-1/Users/paulmiddlebrooks/perceptualchoice_stop_model/src/code/2017-04-13/matlab/';\n",
    "fileStr.result          = '/Volumes/HD-1/Users/paulmiddlebrooks/perceptualchoice_stop_model/results/2017-04-13/subj%.2d/dt%d/%s/%s/';\n",
    "fileStr.root            = '~/perceptualchoice_stop_model/data/2017-04-13/preproc01/subj%.2d/dt%d/%s/%s/';\n",
    "fileStr.src             = '~/perceptualchoice_stop_model/src/code/2017-04-13/matlab/';\n",
    "fileStr.result          = '~/perceptualchoice_stop_model/results/2017-04-13/subj%.2d/dt%d/%s/%s/';\n",
    "responseSide            = {'both'};\n",
    "accuracy                = {'correct'};\n",
    "savePlot                = true;\n",
    "\n",
    "cd(fileStr.src)\n",
    "for iRsp = 1 : length(responseSide)\n",
    "    respSide = responseSide{iRsp};\n",
    "    for iAcc = 1 : length(accuracy)\n",
    "        accur = accuracy{iAcc};\n",
    "        [prd, obs, ssrt] = plot_inhibition(subject,model,architecture,dt,trialVar,simScope,fileStr,respSide,accur,savePlot); \n",
    "    end\n",
    "end\n"
   ]
  },
  {
   "cell_type": "code",
   "execution_count": null,
   "metadata": {
    "collapsed": true
   },
   "outputs": [],
   "source": [
    "subject                 = [1 2];\n",
    "model                   = [79,352,478];\n",
    "architecture            = {'crace_ili','cli_ili','cffi_ili'};\n",
    "dt                      = 1;\n",
    "trialVar                = true;\n",
    "simScope                = 'all';\n",
    "fileStr.root            = '/Volumes/HD-1/Users/paulmiddlebrooks/perceptualchoice_stop_model/data/2017-04-13/preproc01/subj%.2d/dt%d/%s/%s/';\n",
    "fileStr.src             = '/Volumes/HD-1/Users/paulmiddlebrooks/perceptualchoice_stop_model/src/code/2017-04-13/matlab/';\n",
    "fileStr.result          = '/Volumes/HD-1/Users/paulmiddlebrooks/perceptualchoice_stop_model/results/2017-04-13/subj%.2d/dt%d/%s/%s/';\n",
    "fileStr.root            = '~/perceptualchoice_stop_model/data/2017-04-13/preproc01/subj%.2d/dt%d/%s/%s/';\n",
    "fileStr.src             = '~/perceptualchoice_stop_model/src/code/2017-04-13/matlab/';\n",
    "fileStr.result          = '~/perceptualchoice_stop_model/results/2017-04-13/subj%.2d/dt%d/%s/%s/';\n",
    "responseSide            = {'both'};\n",
    "accuracy                = {'correct'};\n",
    "savePlot                = true;\n",
    "\n",
    "if trialVar\n",
    "    trialVarStr = 'trialvar';\n",
    "else\n",
    "    trialVarStr = 'notrialvar';\n",
    "end\n",
    "\n",
    "cd(fileStr.src)\n",
    "\n",
    "nSim = 30;\n",
    "\n",
    "% model                   = [478];\n",
    "% architecture            = {'crace_ili'};\n",
    "\n",
    "\n",
    "subject = 1;\n",
    "for kArch = 1 : length(architecture)\n",
    "    for jMod = model\n",
    "    modelName = ['model',num2str(jMod)];\n",
    "    \n",
    "        \n",
    "        prd = dataset();\n",
    "        for mSim = 1 : nSim\n",
    "\n",
    "            respSide = responseSide{1};\n",
    "            accur = accuracy{1};\n",
    "            [mPrd, mObs, mSsrt] = plot_inhibition(subject,jMod,architecture{kArch},dt,trialVar,simScope,fileStr,respSide,accur,savePlot); \n",
    "\n",
    "            prd = [prd; mPrd];\n",
    "        end\n",
    "        \n",
    "        saveDir             = fullfile(sprintf(fileStr.root,subject,dt,trialVarStr,architecture{kArch}));\n",
    "        fileName = sprintf('cancel_times_%s_%sSimulations', modelName, num2str(nSim));\n",
    "        save(fullfile(saveDir, fileName), 'prd', '-v7.3')\n",
    "        data.(architecture{kArch}).(modelName).prd = prd;\n",
    "    end\n",
    "end\n",
    "                        \n"
   ]
  },
  {
   "cell_type": "markdown",
   "metadata": {},
   "source": [
    "# Cancel time analysis\n"
   ]
  },
  {
   "cell_type": "code",
   "execution_count": null,
   "metadata": {
    "collapsed": true
   },
   "outputs": [],
   "source": [
    "subject                 = [1 2];\n",
    "model                   = [79,352,478];\n",
    "architecture            = {'crace_ili','cli_ili','cffi_ili'};\n",
    "dt                      = 1;\n",
    "trialVar                = true;\n",
    "simScope                = 'all';\n",
    "fileStr.root            = '/Volumes/HD-1/Users/paulmiddlebrooks/perceptualchoice_stop_model/data/2017-04-13/preproc01/subj%.2d/dt%d/%s/%s/';\n",
    "fileStr.src             = '/Volumes/HD-1/Users/paulmiddlebrooks/perceptualchoice_stop_model/src/code/2017-04-13/matlab/';\n",
    "fileStr.result          = '/Volumes/HD-1/Users/paulmiddlebrooks/perceptualchoice_stop_model/results/2017-04-13/subj%.2d/dt%d/%s/%s/';\n",
    "fileStr.root            = '~/perceptualchoice_stop_model/data/2017-04-13/preproc01/subj%.2d/dt%d/%s/%s/';\n",
    "fileStr.src             = '~/perceptualchoice_stop_model/src/code/2017-04-13/matlab/';\n",
    "fileStr.result          = '~/perceptualchoice_stop_model/results/2017-04-13/subj%.2d/dt%d/%s/%s/';\n",
    "responseSide            = {'both'};\n",
    "accuracy                = {'correct'};\n",
    "savePlot                = true;\n",
    "\n",
    "if trialVar\n",
    "    trialVarStr = 'trialvar';\n",
    "else\n",
    "    trialVarStr = 'notrialvar';\n",
    "end\n",
    "\n",
    "cd(fileStr.src)\n",
    "\n",
    "\n",
    "model                   = [79];\n",
    "architecture            = {'crace_ili'};\n",
    "\n",
    "\n",
    "subject = 1;\n",
    "for kArch = 1 : length(architecture)\n",
    "    for jMod = model\n",
    "    modelName = ['model',num2str(jMod)];\n",
    "    \n",
    "        respSide = responseSide{1};\n",
    "        accur = accuracy{1};\n",
    "\n",
    "        % load the prd file\n",
    "        saveDir             = fullfile(sprintf(fileStr.root,subject,dt,trialVarStr,architecture{kArch}));\n",
    "        fileName = sprintf('cancel_times_%s', modelName);\n",
    "        load(fullfile(saveDir, fileName))\n",
    "\n",
    "\n",
    "        \n",
    "    end\n",
    "end\n",
    "                        \n"
   ]
  }
 ],
 "metadata": {
  "kernelspec": {
   "display_name": "Python 2",
   "language": "python",
   "name": "python2"
  },
  "language_info": {
   "codemirror_mode": {
    "name": "ipython",
    "version": 2
   },
   "file_extension": ".py",
   "mimetype": "text/x-python",
   "name": "python",
   "nbconvert_exporter": "python",
   "pygments_lexer": "ipython2",
   "version": "2.7.13"
  }
 },
 "nbformat": 4,
 "nbformat_minor": 0
}
