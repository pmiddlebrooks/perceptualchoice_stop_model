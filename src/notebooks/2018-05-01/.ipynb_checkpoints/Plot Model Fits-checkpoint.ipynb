{
 "cells": [
  {
   "cell_type": "code",
   "execution_count": null,
   "metadata": {
    "collapsed": true
   },
   "outputs": [],
   "source": [
    "% Which subject and set of sessions?\n",
    "subjectName = 'broca';\n",
    "neuralSet = true;\n",
    "if neuralSet\n",
    "    addData = 'neurophys';\n",
    "else\n",
    "     addData = 'behavior';\n",
    "end\n",
    "\n",
    "\n",
    "\n",
    "% Set subject-specific variables\n",
    "switch subjectName\n",
    "    case 'xena'\n",
    "        subject = 2;\n",
    "        modelDate = '2017-05-17';\n",
    "        model = 478;\n",
    "        architecture            = 'cffi_ili';\n",
    "        sessionSet = 'behavior1';\n",
    "    case 'broca'\n",
    "        subject = 1;\n",
    "        switch neuralSet\n",
    "            case false\n",
    "                modelDate = '2017-04-13';\n",
    "                model                   = 79;\n",
    "                architecture            = 'crace_ili';\n",
    "                sessionSet = 'behavior2';\n",
    "            case true\n",
    "                modelDate = '2017-05-18';\n",
    "                model                   = 478;\n",
    "                architecture            = 'cli_ili';\n",
    "                sessionSet = {...\n",
    "                    'bp242n02';...\n",
    "                    'bp244n02';...\n",
    "                    'bp245n02';...\n",
    "                    'bp246n02';...\n",
    "                    'bp247n02'};\n",
    "        end\n",
    "    case 'joule'\n",
    "        subject = 3;\n",
    "        modelDate = '2017-05-08';\n",
    "        model                   = 478;\n",
    "        architecture            = 'cli_ili';\n",
    "        sessionSet = {...\n",
    "            'jp110n02';...\n",
    "            'jp114n04';...\n",
    "            'jp121n02';...\n",
    "            'jp124n04';...\n",
    "            'jp125n04'};\n",
    "end\n",
    "\n",
    "\n",
    "\n",
    "% Set Paths\n",
    "accreRoot = '/gpfs22';\n",
    "accreHome = '/home/middlepg';\n",
    "accreScratch = '/scratch/middlepg';\n",
    "if isdir(fullfile(accreScratch))\n",
    "    matRoot = fullfile(accreRoot,accreHome,'m-files');\n",
    "    modelRoot = fullfile(accreScratch,'perceptualchoice_stop_model');\n",
    "    environ = 'accre';\n",
    "else\n",
    "    matRoot = '~/schalllab';\n",
    "    modelRoot = '~/perceptualchoice_stop_model';\n",
    "    environ = 'local';\n",
    "end\n",
    "\n",
    "addpath(genpath(fullfile(matRoot,'sam')));\n",
    "addpath(genpath(fullfile(matRoot,'matlab_code_bbz')));\n",
    "addpath(genpath(fullfile(matRoot,'matlab_file_exchange_tools')));\n",
    "addpath(genpath(fullfile(matRoot,'cmtb')));\n",
    "addpath(genpath(fullfile(modelRoot,'src/code',modelDate)));\n",
    "addpath(genpath(fullfile(modelRoot,'src/code/2018-05-01')));\n",
    "\n",
    "cd(fullfile(modelRoot,'src/code',modelDate,'matlab'))\n"
   ]
  },
  {
   "cell_type": "markdown",
   "metadata": {},
   "source": [
    "## Plot model fits\n"
   ]
  },
  {
   "cell_type": "code",
   "execution_count": 1,
   "metadata": {
    "collapsed": false
   },
   "outputs": [
    {
     "name": "stderr",
     "output_type": "stream",
     "text": [
      "ERROR: Cell magic `%%matlab` not found.\n"
     ]
    }
   ],
   "source": [
    "\n",
    "\n",
    "trialVar                = true;\n",
    "dt                      = 1;\n",
    "simScope                = 'all';\n",
    "fileStr.root            = ['~/perceptualchoice_stop_model/data/',modelDate,'/preproc01/subj%.2d/dt%d/%s/%s/'];\n",
    "fileStr.src             = ['~/perceptualchoice_stop_model/src/code/',modelDate,'/matlab/'];\n",
    "fileStr.result          = '~/perceptualchoice_stop_model/results/2018-05-01/subj%.2d/dt%d/%s/%s/';\n",
    "responseSide            = {'both'};\n",
    "accuracy                = {'correct'};\n",
    "conditionArray          = 'all';\n",
    "defective               = true;\n",
    "savePlot                = true;\n",
    "\n",
    "for iSubj = subj\n",
    "     for iRsp = 1 : length(responseSide)\n",
    "        respSide = responseSide{iRsp};\n",
    "        for iAcc = 1 : length(accuracy)\n",
    "            accur = accuracy{iAcc};\n",
    "\n",
    "            plot_cumulative_rts(subject,model,architecture,dt,trialVar,simScope,fileStr,respSide,conditionArray,accur,defective,addData,savePlot);\n",
    "\n",
    "        end\n",
    "    end\n",
    "\n",
    "end\n"
   ]
  }
 ],
 "metadata": {
  "kernelspec": {
   "display_name": "Python 2",
   "language": "python",
   "name": "python2"
  },
  "language_info": {
   "codemirror_mode": {
    "name": "ipython",
    "version": 2
   },
   "file_extension": ".py",
   "mimetype": "text/x-python",
   "name": "python",
   "nbconvert_exporter": "python",
   "pygments_lexer": "ipython2",
   "version": "2.7.13"
  }
 },
 "nbformat": 4,
 "nbformat_minor": 0
}
