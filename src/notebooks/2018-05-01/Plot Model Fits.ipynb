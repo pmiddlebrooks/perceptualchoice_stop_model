{
 "cells": [
  {
   "cell_type": "code",
   "execution_count": null,
   "metadata": {
    "collapsed": true
   },
   "outputs": [],
   "source": [
    "% Which subject and set of sessions?\n",
    "subjectName = 'joule';\n",
    "neuralSet = true;\n",
    "if neuralSet\n",
    "    addData = 'neurophys';\n",
    "else\n",
    "     addData = 'behavior';\n",
    "end\n",
    "\n",
    "\n",
    "\n",
    "% Set subject-specific variables\n",
    "switch subjectName\n",
    "    case 'xena'\n",
    "        subject = 2;\n",
    "        modelDate = '2017-05-17';\n",
    "        model = 478;\n",
    "        architecture            = 'cffi_ili';\n",
    "        sessionSet = 'behavior1';\n",
    "    case 'broca'\n",
    "        subject = 1;\n",
    "        switch neuralSet\n",
    "            case false\n",
    "                modelDate = '2017-04-13';\n",
    "                model                   = 79;\n",
    "                architecture            = 'crace_ili';\n",
    "                sessionSet = 'behavior2';\n",
    "            case true\n",
    "                modelDate = '2017-05-18';\n",
    "                model                   = 478;\n",
    "                architecture            = 'cli_ili';\n",
    "                sessionSet = {...\n",
    "                    'bp242n02';...\n",
    "                    'bp244n02';...\n",
    "                    'bp245n02';...\n",
    "                    'bp246n02';...\n",
    "                    'bp247n02'};\n",
    "        end\n",
    "    case 'joule'\n",
    "        subject = 3;\n",
    "        modelDate = '2017-05-08';\n",
    "        model                   = 478;\n",
    "        architecture            = 'cli_ili';\n",
    "        sessionSet = {...\n",
    "            'jp110n02';...\n",
    "            'jp114n04';...\n",
    "            'jp121n02';...\n",
    "            'jp124n04';...\n",
    "            'jp125n04'};\n",
    "end\n",
    "\n",
    "\n",
    "\n",
    "% Set Paths\n",
    "accreRoot = '/gpfs22';\n",
    "accreHome = '/home/middlepg';\n",
    "accreScratch = '/scratch/middlepg';\n",
    "if isdir(fullfile(accreScratch))\n",
    "    matRoot = fullfile(accreRoot,accreHome,'m-files');\n",
    "    modelRoot = fullfile(accreScratch,'perceptualchoice_stop_model');\n",
    "    environ = 'accre';\n",
    "else\n",
    "    matRoot = '~/schalllab';\n",
    "    modelRoot = '~/perceptualchoice_stop_model';\n",
    "    environ = 'local';\n",
    "end\n",
    "\n",
    "addpath(genpath(fullfile(matRoot,'sam')));\n",
    "addpath(genpath(fullfile(matRoot,'matlab_code_bbz')));\n",
    "addpath(genpath(fullfile(matRoot,'matlab_file_exchange_tools')));\n",
    "addpath(genpath(fullfile(matRoot,'cmtb')));\n",
    "addpath(genpath(fullfile(modelRoot,'src/code',modelDate)));\n",
    "addpath(genpath(fullfile(modelRoot,'src/code/2018-05-01')));\n",
    "\n",
    "cd(fullfile(modelRoot,'src/code',modelDate,'matlab'))\n"
   ]
  },
  {
   "cell_type": "markdown",
   "metadata": {},
   "source": [
    "## Plot model fits: Cumulative RTs\n"
   ]
  },
  {
   "cell_type": "code",
   "execution_count": 1,
   "metadata": {
    "collapsed": false
   },
   "outputs": [
    {
     "name": "stderr",
     "output_type": "stream",
     "text": [
      "ERROR: Cell magic `%%matlab` not found.\n"
     ]
    }
   ],
   "source": [
    "trialVar                = true;\n",
    "dt                      = 1;\n",
    "simScope                = 'all';\n",
    "fileStr.root            = ['~/perceptualchoice_stop_model/data/',modelDate,'/preproc01/subj%.2d/dt%d/%s/%s/'];\n",
    "fileStr.src             = ['~/perceptualchoice_stop_model/src/code/',modelDate,'/matlab/'];\n",
    "fileStr.result          = '~/perceptualchoice_stop_model/results/2018-05-01/subj%.2d/dt%d/%s/%s/';\n",
    "responseSide            = {'both'}; % collapse\n",
    "accuracy                = {'correct'};\n",
    "conditionArray          = 'all'; % collapse\n",
    "defective               = false;\n",
    "savePlot                = false;\n",
    "\n",
    "for iRsp = 1 : length(responseSide)\n",
    "    respSide = responseSide{iRsp};\n",
    "    for iAcc = 1 : length(accuracy)\n",
    "        accur = accuracy{iAcc};\n",
    "\n",
    "        [obs, prd, obsRts, prdRts] = plot_cumulative_rts(subject,model,architecture,dt,trialVar,simScope,fileStr,respSide,conditionArray,accur,defective,addData,savePlot);\n",
    "\n",
    "    end\n",
    "end\n",
    "\n"
   ]
  },
  {
   "cell_type": "markdown",
   "metadata": {},
   "source": [
    "## Plots for Jeff"
   ]
  },
  {
   "cell_type": "markdown",
   "metadata": {},
   "source": [
    "#### Set up plots"
   ]
  },
  {
   "cell_type": "code",
   "execution_count": null,
   "metadata": {
    "collapsed": true
   },
   "outputs": [],
   "source": [
    "standard_figure(1,1,'landscape');\n",
    "\n",
    "%                 set_figure({1024,574,'pixels'},{'USLetter','landscape'},{'Helvetica',18});\n",
    "p = panel();\n",
    "% nPlotCol = max(3, nModel);\n",
    "nPlotCol = 2;\n",
    "if length(conditionArray) == 2\n",
    "    p.pack({.05, .45, .45, .05}, num2cell(repmat(1/nPlotCol,1,nPlotCol)));\n",
    "elseif length(conditionArray) == 3\n",
    "    p.pack({.05, .3 .3 .3, .05}, num2cell(repmat(1/nPlotCol,1,nPlotCol)));\n",
    "elseif length(conditionArray) == 1\n",
    "    p.pack({.05, .9, .05}, num2cell(repmat(1/nPlotCol,1,nPlotCol)));\n",
    "end\n",
    "annotation('textbox', [0 0.9 1 0.1], ...\n",
    "    'String', sprintf('Subject %d, architecture %s',subject,architecture), ...\n",
    "    'Interpreter','none', ...\n",
    "    'EdgeColor', 'none', ...\n",
    "    'HorizontalAlignment', 'center');\n",
    "\n",
    "\n",
    "\n",
    "\n",
    "goCCorrMrkObs           = 'none';\n",
    "goCCorrLnObs            = '-';\n",
    "goCCorrLnWidthObs          = 2;\n",
    "goCCorrMrkPrd           = 'none';\n",
    "goCCorrLnPrd            = '-';\n",
    "goCCorrLnWidthPrd          = 5;\n",
    "\n",
    "goCErrorMrkObs          = '^';\n",
    "goCErrorLnObs           = 'none';\n",
    "goCErrorMrkPrd          = 'none';\n",
    "goCErrorLnPrd           = '-.';\n",
    "goCErrorLnWidth         = 1;\n",
    "\n",
    "stopIErrorCCorrMrkObs   = 'none';\n",
    "stopIErrorCCorrLnObs    = '-';\n",
    "stopIErrorCCorrLnWidthObs  = 2;\n",
    "stopIErrorCCorrMrkPrd   = 'none';\n",
    "stopIErrorCCorrLnPrd    = '-';\n",
    "stopIErrorCCorrLnWidthPrd  = 5;\n",
    "\n",
    "stopICorrMrkPrd         = 'none';\n",
    "stopICorrLnPrd          = ':';\n",
    "stopICorrLnWidth        = 1;\n"
   ]
  },
  {
   "cell_type": "markdown",
   "metadata": {},
   "source": [
    "### Plot it"
   ]
  },
  {
   "cell_type": "code",
   "execution_count": null,
   "metadata": {
    "collapsed": true
   },
   "outputs": [],
   "source": [
    "%%\n",
    "cohList = sort(unique(obsRts.Coherence))';\n",
    "rspList = sort(unique(obsRts.Response))';\n",
    "nSsdPlot = 3;\n",
    "\n",
    "% Initialize table for Jeff\n",
    "plotCnd = nan(length(cohList) * length(rspList), 2+nSsdPlot);\n",
    "plotCnd(:, 1:2) = combvec(cohList,rspList)';\n",
    "ssdListAll = [];\n",
    "for iCoh = cohList\n",
    "    for iRsp = 1 : 2\n",
    "        \n",
    "        obsStop = obsRts(~isnan(obsRts.Ssd) & obsRts.Coherence == iCoh & obsRts.Response == iRsp, :);\n",
    "        \n",
    "        fprintf('\\nCoh: %d\\tRsp: %d\\n', iCoh, iRsp)\n",
    "        \n",
    "        ssdList = unique(obsStop.Ssd)'\n",
    "        [N,edges] = histcounts(obsStop.Ssd,length(ssdList))\n",
    "        % N\n",
    "        [nSort, nInd] = sort(N);\n",
    "        ssdListPlot = sort(ssdList(nInd(end-2:end)));\n",
    "stopColorList = flipud(linspace(0.45, 0.85, length(ssdListPlot))');\n",
    "        \n",
    "        disp(ssdListPlot)\n",
    "        ssdListAll = [ssdListAll; ssdListPlot];\n",
    "        \n",
    "        % Create a table for excel for Jeff\n",
    "        \n",
    "        \n",
    "        % Set up the plots\n",
    "        p(iCoh+1, iRsp).select();\n",
    "        p(iCoh+1, iRsp).title({sprintf('Resp: %d, Coh: %d', iRsp, iCoh)});\n",
    "        p(iCoh+1, iRsp).hold('on');\n",
    "        \n",
    "        % Plot the Go RTs\n",
    "        % ------------------------\n",
    "        \n",
    "        % Get the Go trials\n",
    "        obsGoRt = sort(obsRts.RT(isnan(obsRts.Ssd) & obsRts.Coherence == iCoh & obsRts.Response == iRsp, :));\n",
    "        cumPGoCCorrObs   = cmtb_edf(obsGoRt,obsGoRt);\n",
    "        \n",
    "        prdGoRt = sort(prdRts.RT(isnan(prdRts.Ssd) & prdRts.Coherence == iCoh & prdRts.Response == iRsp, :));\n",
    "        cumPGoCCorrPrd   = cmtb_edf(prdGoRt,prdGoRt);\n",
    "\n",
    "        \n",
    "        % Plot the Go trials\n",
    "                        iColor = 'k';\n",
    "                        plot(obsGoRt,cumPGoCCorrObs,'Color',iColor,'Marker',goCCorrMrkObs,'LineStyle',goCCorrLnObs,'LineWidth',goCCorrLnWidthObs);\n",
    "                        plot(prdGoRt,cumPGoCCorrPrd,'Color',iColor,'Marker',goCCorrMrkPrd,'LineStyle',goCCorrLnPrd,'LineWidth',goCCorrLnWidthPrd);\n",
    "        \n",
    "\n",
    "        \n",
    "        % Loop through SSDs and plot them\n",
    "        for j = 1 : length(ssdListPlot)\n",
    "            jSsd = ssdListPlot(j);\n",
    "            \n",
    "            % Get the Stop trials\n",
    "        obsStopRt = sort(obsStop.RT(obsStop.Ssd == jSsd & obsStop.Coherence == iCoh & obsStop.Response == iRsp, :));\n",
    "        cumPStopIErrorCCorrObs   = cmtb_edf(obsStopRt,obsStopRt);\n",
    "            \n",
    "        prdStopRt = sort(prdRts.RT(prdRts.Ssd == jSsd & prdRts.Coherence == iCoh & prdRts.Response == iRsp, :));\n",
    "        cumPStopIErrorCCorrPrd   = cmtb_edf(prdStopRt,prdStopRt);\n",
    "        \n",
    "        % Plot the Stop trials\n",
    "                                iColor = repmat(stopColorList(j),1,3);\n",
    "                                plot(obsStopRt,cumPStopIErrorCCorrObs,'Color',iColor,'Marker',stopIErrorCCorrMrkObs,'LineStyle',stopIErrorCCorrLnObs,'LineWidth',stopIErrorCCorrLnWidthObs);\n",
    "                                plot(prdStopRt,cumPStopIErrorCCorrPrd,'Color',iColor,'Marker',stopIErrorCCorrMrkPrd,'LineStyle',stopIErrorCCorrLnPrd,'LineWidth',stopIErrorCCorrLnWidthPrd);\n",
    "\n",
    "        \n",
    "        end\n",
    "        \n",
    "        \n",
    "        \n",
    "        \n",
    "        % Set axes\n",
    "        switch subject\n",
    "            case 1\n",
    "                set(gca,'XLim',[200 600], ...\n",
    "                    'XTick',100:100:800, ...\n",
    "                    'YLim',[0.1 0.9], ...\n",
    "                    'YTick',0.1:0.2:0.9)\n",
    "            case 2\n",
    "                set(gca,'XLim',[200 400], ...\n",
    "                    'XTick',100:100:500, ...\n",
    "                    'YLim',[0.1 0.9], ...\n",
    "                    'YTick',0.1:0.2:0.9)\n",
    "            case 3\n",
    "                set(gca,'XLim',[200 600], ...\n",
    "                    'XTick',100:100:700, ...\n",
    "                    'YLim',[0.1 0.9], ...\n",
    "                    'YTick',0.1:0.2:0.9)\n",
    "            otherwise\n",
    "                error('Need to add axes limits for subject')\n",
    "        end\n",
    "        \n",
    "        \n",
    "        \n",
    "    end\n",
    "end\n",
    "\n",
    "plotCnd(:,3:5) = ssdListAll;\n",
    "plotCnd = array2table(plotCnd, 'VariableNames',  {'Coherence', 'Response', 'SSD1', 'SSD2', 'SSD3'});\n"
   ]
  },
  {
   "cell_type": "markdown",
   "metadata": {},
   "source": [
    "### Save stuff"
   ]
  },
  {
   "cell_type": "code",
   "execution_count": null,
   "metadata": {
    "collapsed": true
   },
   "outputs": [],
   "source": [
    "    saveDir             = '~/perceptualchoice_stop_model/results/2018-05-01';\n",
    "    if exist(saveDir,'dir') ~= 7\n",
    "        mkdir(saveDir)\n",
    "    end\n",
    "    fileName = sprintf('%s_%s_Cumulative_rts_SelectSsd_Respond_%s_Coherence_%s_Accuracy_%s', subjectName, addData, responseSide{1}, conditionArray, accuracy{1});\n",
    "    print(gcf, fullfile(saveDir, fileName),'-dpdf', '-r300')\n"
   ]
  },
  {
   "cell_type": "markdown",
   "metadata": {},
   "source": [
    "## Print model fit simulations"
   ]
  },
  {
   "cell_type": "code",
   "execution_count": null,
   "metadata": {
    "collapsed": true
   },
   "outputs": [],
   "source": [
    "% Set subject-specific variables\n",
    "switch subjectName\n",
    "    case 'xena'\n",
    "        architecture            = {'cffi_ili'};\n",
    "    case 'broca'\n",
    "        subject = 1;\n",
    "        switch neuralSet\n",
    "            case false\n",
    "                architecture            = {'crace_ili'};\n",
    "            case true\n",
    "                architecture            = {'cli_ili'};\n",
    "        end\n",
    "    case 'joule'\n",
    "        architecture            = {'cli_ili'};\n",
    "end\n"
   ]
  },
  {
   "cell_type": "code",
   "execution_count": null,
   "metadata": {
    "collapsed": true
   },
   "outputs": [],
   "source": [
    "\n",
    "dt                      = 1;\n",
    "trialVar                = true;\n",
    "fileStr.root            = ['~/perceptualchoice_stop_model/data/',modelDate,'/preproc01/subj%.2d/dt%d/%s/%s/'];\n",
    "fileStr.src             = ['~/perceptualchoice_stop_model/src/code/2018-05-01/matlab/'];\n",
    "fileStr.result          = ['~/perceptualchoice_stop_model/results/',modelDate,'/subj%.2d/dt%d/%s/%s/'];\n",
    "savePlot                = false;\n",
    "\n",
    "nSim = 1;\n",
    "\n",
    "addpath(genpath(fullfile(modelRoot,'src/code/2018-05-01')));\n",
    "\n",
    "cd(fileStr.src)\n",
    "for i = 1 : nSim\n",
    "for iRsp = 1 : length(responseSide)\n",
    "    respSide = responseSide{iRsp};\n",
    "    plot_simulation(subject,model,architecture,dt,trialVar,fileStr,savePlot); \n",
    "end\n",
    "end\n"
   ]
  },
  {
   "cell_type": "markdown",
   "metadata": {},
   "source": [
    "# Model RTs for Manuscript table"
   ]
  },
  {
   "cell_type": "code",
   "execution_count": null,
   "metadata": {
    "collapsed": true
   },
   "outputs": [],
   "source": [
    "trialVar                = true;\n",
    "dt                      = 1;\n",
    "simScope                = 'all';\n",
    "fileStr.root            = ['~/perceptualchoice_stop_model/data/',modelDate,'/preproc01/subj%.2d/dt%d/%s/%s/'];\n",
    "fileStr.src             = ['~/perceptualchoice_stop_model/src/code/2018-05-01/matlab/'];\n",
    "fileStr.result          = ['~/perceptualchoice_stop_model/results/',modelDate,'/subj%.2d/dt%d/%s/%s/'];\n",
    "savePlot                = true;\n",
    "\n",
    "\n",
    "cd(fileStr.src)\n",
    "            \n",
    "[goTable, goErrorTable, stopTable, stopErrorTable, ssrtTable] = ...\n",
    "    get_model_stats(subject,model,architecture,dt,trialVar,simScope,fileStr,savePlot); \n",
    "\n"
   ]
  }
 ],
 "metadata": {
  "kernelspec": {
   "display_name": "Python 2",
   "language": "python",
   "name": "python2"
  },
  "language_info": {
   "codemirror_mode": {
    "name": "ipython",
    "version": 2
   },
   "file_extension": ".py",
   "mimetype": "text/x-python",
   "name": "python",
   "nbconvert_exporter": "python",
   "pygments_lexer": "ipython2",
   "version": "2.7.13"
  }
 },
 "nbformat": 4,
 "nbformat_minor": 0
}
